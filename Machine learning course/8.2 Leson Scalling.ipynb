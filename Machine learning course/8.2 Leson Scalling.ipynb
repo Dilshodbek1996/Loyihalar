{
 "cells": [
  {
   "cell_type": "markdown",
   "metadata": {},
   "source": [
    "# Scaling"
   ]
  },
  {
   "cell_type": "code",
   "execution_count": 4,
   "metadata": {},
   "outputs": [],
   "source": [
    "import pandas as pd\n",
    "import numpy as np"
   ]
  },
  {
   "cell_type": "code",
   "execution_count": 5,
   "metadata": {},
   "outputs": [],
   "source": [
    "df=pd.read_csv(\"Payment_Info.csv\")"
   ]
  },
  {
   "cell_type": "code",
   "execution_count": 6,
   "metadata": {},
   "outputs": [
    {
     "data": {
      "text/html": [
       "<div>\n",
       "<style scoped>\n",
       "    .dataframe tbody tr th:only-of-type {\n",
       "        vertical-align: middle;\n",
       "    }\n",
       "\n",
       "    .dataframe tbody tr th {\n",
       "        vertical-align: top;\n",
       "    }\n",
       "\n",
       "    .dataframe thead th {\n",
       "        text-align: right;\n",
       "    }\n",
       "</style>\n",
       "<table border=\"1\" class=\"dataframe\">\n",
       "  <thead>\n",
       "    <tr style=\"text-align: right;\">\n",
       "      <th></th>\n",
       "      <th>customer_id</th>\n",
       "      <th>contract</th>\n",
       "      <th>paperless_billing</th>\n",
       "      <th>payment_method</th>\n",
       "      <th>monthly_ charges</th>\n",
       "      <th>avg_monthly_long_distance_charges</th>\n",
       "      <th>total_charges</th>\n",
       "      <th>total_refunds</th>\n",
       "      <th>total_extra_data_charges</th>\n",
       "      <th>total_long_distance_charges</th>\n",
       "      <th>total_revenue</th>\n",
       "    </tr>\n",
       "  </thead>\n",
       "  <tbody>\n",
       "    <tr>\n",
       "      <th>0</th>\n",
       "      <td>0002-ORFBO</td>\n",
       "      <td>One Year</td>\n",
       "      <td>Yes</td>\n",
       "      <td>Mailed check</td>\n",
       "      <td>65.6</td>\n",
       "      <td>42.39</td>\n",
       "      <td>593.30</td>\n",
       "      <td>0.00</td>\n",
       "      <td>0</td>\n",
       "      <td>381.51</td>\n",
       "      <td>974.81</td>\n",
       "    </tr>\n",
       "    <tr>\n",
       "      <th>1</th>\n",
       "      <td>0003-MKNFE</td>\n",
       "      <td>Month-to-Month</td>\n",
       "      <td>No</td>\n",
       "      <td>Mailed check</td>\n",
       "      <td>59.9</td>\n",
       "      <td>10.69</td>\n",
       "      <td>542.40</td>\n",
       "      <td>38.33</td>\n",
       "      <td>10</td>\n",
       "      <td>96.21</td>\n",
       "      <td>610.28</td>\n",
       "    </tr>\n",
       "    <tr>\n",
       "      <th>2</th>\n",
       "      <td>0004-TLHLJ</td>\n",
       "      <td>Month-to-Month</td>\n",
       "      <td>Yes</td>\n",
       "      <td>Electronic check</td>\n",
       "      <td>73.9</td>\n",
       "      <td>33.65</td>\n",
       "      <td>280.85</td>\n",
       "      <td>0.00</td>\n",
       "      <td>0</td>\n",
       "      <td>134.60</td>\n",
       "      <td>415.45</td>\n",
       "    </tr>\n",
       "  </tbody>\n",
       "</table>\n",
       "</div>"
      ],
      "text/plain": [
       "  customer_id        contract paperless_billing    payment_method  \\\n",
       "0  0002-ORFBO        One Year               Yes      Mailed check   \n",
       "1  0003-MKNFE  Month-to-Month                No      Mailed check   \n",
       "2  0004-TLHLJ  Month-to-Month               Yes  Electronic check   \n",
       "\n",
       "   monthly_ charges  avg_monthly_long_distance_charges  total_charges  \\\n",
       "0              65.6                              42.39         593.30   \n",
       "1              59.9                              10.69         542.40   \n",
       "2              73.9                              33.65         280.85   \n",
       "\n",
       "   total_refunds  total_extra_data_charges  total_long_distance_charges  \\\n",
       "0           0.00                         0                       381.51   \n",
       "1          38.33                        10                        96.21   \n",
       "2           0.00                         0                       134.60   \n",
       "\n",
       "   total_revenue  \n",
       "0         974.81  \n",
       "1         610.28  \n",
       "2         415.45  "
      ]
     },
     "execution_count": 6,
     "metadata": {},
     "output_type": "execute_result"
    }
   ],
   "source": [
    "df.head(3)"
   ]
  },
  {
   "cell_type": "code",
   "execution_count": 5,
   "metadata": {},
   "outputs": [
    {
     "name": "stdout",
     "output_type": "stream",
     "text": [
      "<class 'pandas.core.frame.DataFrame'>\n",
      "RangeIndex: 7043 entries, 0 to 7042\n",
      "Data columns (total 11 columns):\n",
      " #   Column                             Non-Null Count  Dtype  \n",
      "---  ------                             --------------  -----  \n",
      " 0   customer_id                        7043 non-null   object \n",
      " 1   contract                           7043 non-null   object \n",
      " 2   paperless_billing                  7043 non-null   object \n",
      " 3   payment_method                     7043 non-null   object \n",
      " 4   monthly_ charges                   7043 non-null   float64\n",
      " 5   avg_monthly_long_distance_charges  7043 non-null   float64\n",
      " 6   total_charges                      7043 non-null   float64\n",
      " 7   total_refunds                      7043 non-null   float64\n",
      " 8   total_extra_data_charges           7043 non-null   int64  \n",
      " 9   total_long_distance_charges        7043 non-null   float64\n",
      " 10  total_revenue                      7043 non-null   float64\n",
      "dtypes: float64(6), int64(1), object(4)\n",
      "memory usage: 605.4+ KB\n"
     ]
    }
   ],
   "source": [
    "df.info()"
   ]
  },
  {
   "cell_type": "code",
   "execution_count": 4,
   "metadata": {},
   "outputs": [
    {
     "data": {
      "text/plain": [
       "customer_id                          0\n",
       "contract                             0\n",
       "paperless_billing                    0\n",
       "payment_method                       0\n",
       "monthly_ charges                     0\n",
       "avg_monthly_long_distance_charges    0\n",
       "total_charges                        0\n",
       "total_refunds                        0\n",
       "total_extra_data_charges             0\n",
       "total_long_distance_charges          0\n",
       "total_revenue                        0\n",
       "dtype: int64"
      ]
     },
     "execution_count": 4,
     "metadata": {},
     "output_type": "execute_result"
    }
   ],
   "source": [
    "df.isnull().sum()"
   ]
  },
  {
   "cell_type": "code",
   "execution_count": 4,
   "metadata": {},
   "outputs": [
    {
     "data": {
      "text/plain": [
       "['customer_id', 'contract', 'paperless_billing', 'payment_method']"
      ]
     },
     "execution_count": 4,
     "metadata": {},
     "output_type": "execute_result"
    }
   ],
   "source": [
    "categorical_col=df.select_dtypes(include=[\"object\",\"category\"]).columns.tolist()\n",
    "categorical_col"
   ]
  },
  {
   "cell_type": "code",
   "execution_count": 13,
   "metadata": {},
   "outputs": [
    {
     "ename": "TypeError",
     "evalue": "Input must be a list-like for parameter `columns`",
     "output_type": "error",
     "traceback": [
      "\u001b[0;31m---------------------------------------------------------------------------\u001b[0m",
      "\u001b[0;31mTypeError\u001b[0m                                 Traceback (most recent call last)",
      "Cell \u001b[0;32mIn[13], line 4\u001b[0m\n\u001b[1;32m      1\u001b[0m \u001b[38;5;66;03m# one-hot Encoding \u001b[39;00m\n\u001b[1;32m      2\u001b[0m \u001b[38;5;66;03m# get_dummies\u001b[39;00m\n\u001b[0;32m----> 4\u001b[0m one_hot\u001b[38;5;241m=\u001b[39m\u001b[43mpd\u001b[49m\u001b[38;5;241;43m.\u001b[39;49m\u001b[43mget_dummies\u001b[49m\u001b[43m(\u001b[49m\u001b[43mdf\u001b[49m\u001b[43m,\u001b[49m\u001b[43m \u001b[49m\u001b[43mcolumns\u001b[49m\u001b[38;5;241;43m=\u001b[39;49m\u001b[43mcategorical_col\u001b[49m\u001b[43m,\u001b[49m\u001b[43mdrop_first\u001b[49m\u001b[38;5;241;43m=\u001b[39;49m\u001b[38;5;28;43;01mTrue\u001b[39;49;00m\u001b[43m)\u001b[49m\n\u001b[1;32m      5\u001b[0m one_hot\n",
      "File \u001b[0;32m/Library/Frameworks/Python.framework/Versions/3.12/lib/python3.12/site-packages/pandas/core/reshape/encoding.py:167\u001b[0m, in \u001b[0;36mget_dummies\u001b[0;34m(data, prefix, prefix_sep, dummy_na, columns, sparse, drop_first, dtype)\u001b[0m\n\u001b[1;32m    165\u001b[0m     data_to_encode \u001b[38;5;241m=\u001b[39m data\u001b[38;5;241m.\u001b[39mselect_dtypes(include\u001b[38;5;241m=\u001b[39mdtypes_to_encode)\n\u001b[1;32m    166\u001b[0m \u001b[38;5;28;01melif\u001b[39;00m \u001b[38;5;129;01mnot\u001b[39;00m is_list_like(columns):\n\u001b[0;32m--> 167\u001b[0m     \u001b[38;5;28;01mraise\u001b[39;00m \u001b[38;5;167;01mTypeError\u001b[39;00m(\u001b[38;5;124m\"\u001b[39m\u001b[38;5;124mInput must be a list-like for parameter `columns`\u001b[39m\u001b[38;5;124m\"\u001b[39m)\n\u001b[1;32m    168\u001b[0m \u001b[38;5;28;01melse\u001b[39;00m:\n\u001b[1;32m    169\u001b[0m     data_to_encode \u001b[38;5;241m=\u001b[39m data[columns]\n",
      "\u001b[0;31mTypeError\u001b[0m: Input must be a list-like for parameter `columns`"
     ]
    }
   ],
   "source": [
    "# one-hot Encoding \n",
    "# get_dummies\n",
    "\n",
    "one_hot=pd.get_dummies(df, columns=categorical_col, drop_first=True)\n",
    "one_hot"
   ]
  },
  {
   "cell_type": "code",
   "execution_count": 15,
   "metadata": {},
   "outputs": [
    {
     "data": {
      "text/plain": [
       "['customer_id', 'contract', 'paperless_billing', 'payment_method']"
      ]
     },
     "execution_count": 15,
     "metadata": {},
     "output_type": "execute_result"
    }
   ],
   "source": [
    "ategorical_col=df.select_dtypes(include=[\"object\",\"category\"]).columns.tolist()\n",
    "categorical_col"
   ]
  },
  {
   "cell_type": "code",
   "execution_count": 16,
   "metadata": {},
   "outputs": [
    {
     "name": "stderr",
     "output_type": "stream",
     "text": [
      "/var/folders/kx/n6bh82zd3w5_blhwkxh6d2440000gn/T/ipykernel_5962/2800364400.py:5: UserWarning: Pandas doesn't allow columns to be created via a new attribute name - see https://pandas.pydata.org/pandas-docs/stable/indexing.html#attribute-access\n",
      "  df.encoded=one_hot.fit_transform(df[categorical_col]) # numericalga o'tish(transform qilish)\n"
     ]
    }
   ],
   "source": [
    "# OneHot encoding\n",
    "\n",
    "from sklearn.preprocessing import OneHotEncoder\n",
    "one_hot=OneHotEncoder(sparse_output=False,drop=\"first\")# one_hot deb o'zgaruvchini belgilab oldik\n",
    "df.encoded=one_hot.fit_transform(df[categorical_col]) # numericalga o'tish(transform qilish)"
   ]
  },
  {
   "cell_type": "code",
   "execution_count": 26,
   "metadata": {},
   "outputs": [
    {
     "data": {
      "text/plain": [
       "array([[0., 0., 0., ..., 0., 0., 1.],\n",
       "       [1., 0., 0., ..., 0., 0., 1.],\n",
       "       [0., 1., 0., ..., 0., 1., 0.],\n",
       "       ...,\n",
       "       [0., 0., 0., ..., 0., 0., 1.],\n",
       "       [0., 0., 0., ..., 0., 0., 1.],\n",
       "       [0., 0., 0., ..., 0., 1., 0.]], shape=(7043, 7048))"
      ]
     },
     "execution_count": 26,
     "metadata": {},
     "output_type": "execute_result"
    }
   ],
   "source": [
    "df.encoded"
   ]
  },
  {
   "cell_type": "code",
   "execution_count": 20,
   "metadata": {},
   "outputs": [
    {
     "name": "stderr",
     "output_type": "stream",
     "text": [
      "/var/folders/kx/n6bh82zd3w5_blhwkxh6d2440000gn/T/ipykernel_5962/2728810474.py:1: UserWarning: Pandas doesn't allow columns to be created via a new attribute name - see https://pandas.pydata.org/pandas-docs/stable/indexing.html#attribute-access\n",
      "  df.encoded_col=one_hot.get_feature_names_out(categorical_col)\n"
     ]
    }
   ],
   "source": [
    "df.encoded_col=one_hot.get_feature_names_out(categorical_col)"
   ]
  },
  {
   "cell_type": "code",
   "execution_count": 21,
   "metadata": {},
   "outputs": [
    {
     "data": {
      "text/plain": [
       "array(['customer_id_0003-MKNFE', 'customer_id_0004-TLHLJ',\n",
       "       'customer_id_0011-IGKFF', ...,\n",
       "       'payment_method_Credit card (automatic)',\n",
       "       'payment_method_Electronic check', 'payment_method_Mailed check'],\n",
       "      shape=(7048,), dtype=object)"
      ]
     },
     "execution_count": 21,
     "metadata": {},
     "output_type": "execute_result"
    }
   ],
   "source": [
    "df.encoded_col"
   ]
  },
  {
   "cell_type": "code",
   "execution_count": 30,
   "metadata": {},
   "outputs": [
    {
     "ename": "NameError",
     "evalue": "name 'df_encoded' is not defined",
     "output_type": "error",
     "traceback": [
      "\u001b[0;31m---------------------------------------------------------------------------\u001b[0m",
      "\u001b[0;31mNameError\u001b[0m                                 Traceback (most recent call last)",
      "Cell \u001b[0;32mIn[30], line 3\u001b[0m\n\u001b[1;32m      1\u001b[0m \u001b[38;5;66;03m# yangi ochilgan ustunlarni datasetga qo'shish va eskilarini o'chirib tashlash\u001b[39;00m\n\u001b[0;32m----> 3\u001b[0m df_encoded\u001b[38;5;241m=\u001b[39mpd\u001b[38;5;241m.\u001b[39mDataFrame(\u001b[43mdf_encoded\u001b[49m)\n\u001b[1;32m      4\u001b[0m df_encoded\u001b[38;5;241m=\u001b[39mpd\u001b[38;5;241m.\u001b[39mconcat([df\u001b[38;5;241m.\u001b[39mdrop(columns\u001b[38;5;241m=\u001b[39mcategorical_col), df_encoded],axis\u001b[38;5;241m=\u001b[39m\u001b[38;5;241m1\u001b[39m)\n",
      "\u001b[0;31mNameError\u001b[0m: name 'df_encoded' is not defined"
     ]
    }
   ],
   "source": [
    "# yangi ochilgan ustunlarni datasetga qo'shish va eskilarini o'chirib tashlash\n",
    "\n",
    "df_encoded=pd.DataFrame(df_encoded)\n",
    "df_encoded=pd.concat([df.drop(columns=categorical_col), df_encoded],axis=1)\n"
   ]
  },
  {
   "cell_type": "code",
   "execution_count": 6,
   "metadata": {},
   "outputs": [
    {
     "data": {
      "text/html": [
       "<div>\n",
       "<style scoped>\n",
       "    .dataframe tbody tr th:only-of-type {\n",
       "        vertical-align: middle;\n",
       "    }\n",
       "\n",
       "    .dataframe tbody tr th {\n",
       "        vertical-align: top;\n",
       "    }\n",
       "\n",
       "    .dataframe thead th {\n",
       "        text-align: right;\n",
       "    }\n",
       "</style>\n",
       "<table border=\"1\" class=\"dataframe\">\n",
       "  <thead>\n",
       "    <tr style=\"text-align: right;\">\n",
       "      <th></th>\n",
       "      <th>customer_id</th>\n",
       "      <th>contract</th>\n",
       "      <th>paperless_billing</th>\n",
       "      <th>payment_method</th>\n",
       "      <th>monthly_ charges</th>\n",
       "      <th>avg_monthly_long_distance_charges</th>\n",
       "      <th>total_charges</th>\n",
       "      <th>total_refunds</th>\n",
       "      <th>total_extra_data_charges</th>\n",
       "      <th>total_long_distance_charges</th>\n",
       "      <th>total_revenue</th>\n",
       "    </tr>\n",
       "  </thead>\n",
       "  <tbody>\n",
       "    <tr>\n",
       "      <th>0</th>\n",
       "      <td>0002-ORFBO</td>\n",
       "      <td>One Year</td>\n",
       "      <td>Yes</td>\n",
       "      <td>Mailed check</td>\n",
       "      <td>65.6</td>\n",
       "      <td>42.39</td>\n",
       "      <td>593.30</td>\n",
       "      <td>0.00</td>\n",
       "      <td>0</td>\n",
       "      <td>381.51</td>\n",
       "      <td>974.81</td>\n",
       "    </tr>\n",
       "    <tr>\n",
       "      <th>1</th>\n",
       "      <td>0003-MKNFE</td>\n",
       "      <td>Month-to-Month</td>\n",
       "      <td>No</td>\n",
       "      <td>Mailed check</td>\n",
       "      <td>59.9</td>\n",
       "      <td>10.69</td>\n",
       "      <td>542.40</td>\n",
       "      <td>38.33</td>\n",
       "      <td>10</td>\n",
       "      <td>96.21</td>\n",
       "      <td>610.28</td>\n",
       "    </tr>\n",
       "    <tr>\n",
       "      <th>2</th>\n",
       "      <td>0004-TLHLJ</td>\n",
       "      <td>Month-to-Month</td>\n",
       "      <td>Yes</td>\n",
       "      <td>Electronic check</td>\n",
       "      <td>73.9</td>\n",
       "      <td>33.65</td>\n",
       "      <td>280.85</td>\n",
       "      <td>0.00</td>\n",
       "      <td>0</td>\n",
       "      <td>134.60</td>\n",
       "      <td>415.45</td>\n",
       "    </tr>\n",
       "  </tbody>\n",
       "</table>\n",
       "</div>"
      ],
      "text/plain": [
       "  customer_id        contract paperless_billing    payment_method  \\\n",
       "0  0002-ORFBO        One Year               Yes      Mailed check   \n",
       "1  0003-MKNFE  Month-to-Month                No      Mailed check   \n",
       "2  0004-TLHLJ  Month-to-Month               Yes  Electronic check   \n",
       "\n",
       "   monthly_ charges  avg_monthly_long_distance_charges  total_charges  \\\n",
       "0              65.6                              42.39         593.30   \n",
       "1              59.9                              10.69         542.40   \n",
       "2              73.9                              33.65         280.85   \n",
       "\n",
       "   total_refunds  total_extra_data_charges  total_long_distance_charges  \\\n",
       "0           0.00                         0                       381.51   \n",
       "1          38.33                        10                        96.21   \n",
       "2           0.00                         0                       134.60   \n",
       "\n",
       "   total_revenue  \n",
       "0         974.81  \n",
       "1         610.28  \n",
       "2         415.45  "
      ]
     },
     "execution_count": 6,
     "metadata": {},
     "output_type": "execute_result"
    }
   ],
   "source": [
    "df.head(3)"
   ]
  },
  {
   "cell_type": "code",
   "execution_count": 7,
   "metadata": {},
   "outputs": [
    {
     "name": "stdout",
     "output_type": "stream",
     "text": [
      "<class 'pandas.core.frame.DataFrame'>\n",
      "RangeIndex: 7043 entries, 0 to 7042\n",
      "Data columns (total 11 columns):\n",
      " #   Column                             Non-Null Count  Dtype  \n",
      "---  ------                             --------------  -----  \n",
      " 0   customer_id                        7043 non-null   object \n",
      " 1   contract                           7043 non-null   object \n",
      " 2   paperless_billing                  7043 non-null   object \n",
      " 3   payment_method                     7043 non-null   object \n",
      " 4   monthly_ charges                   7043 non-null   float64\n",
      " 5   avg_monthly_long_distance_charges  7043 non-null   float64\n",
      " 6   total_charges                      7043 non-null   float64\n",
      " 7   total_refunds                      7043 non-null   float64\n",
      " 8   total_extra_data_charges           7043 non-null   int64  \n",
      " 9   total_long_distance_charges        7043 non-null   float64\n",
      " 10  total_revenue                      7043 non-null   float64\n",
      "dtypes: float64(6), int64(1), object(4)\n",
      "memory usage: 605.4+ KB\n"
     ]
    }
   ],
   "source": [
    "df.info()"
   ]
  },
  {
   "cell_type": "code",
   "execution_count": 9,
   "metadata": {},
   "outputs": [
    {
     "data": {
      "text/plain": [
       "['customer_id', 'contract', 'paperless_billing', 'payment_method']"
      ]
     },
     "execution_count": 9,
     "metadata": {},
     "output_type": "execute_result"
    }
   ],
   "source": [
    "categorical_col=df.select_dtypes(include=[\"object\",\"category\"]).columns.tolist()\n",
    "categorical_col"
   ]
  },
  {
   "cell_type": "code",
   "execution_count": 11,
   "metadata": {},
   "outputs": [],
   "source": [
    "# Label Encoding\n",
    "\n",
    "from sklearn.preprocessing import LabelEncoder\n"
   ]
  },
  {
   "cell_type": "code",
   "execution_count": 13,
   "metadata": {},
   "outputs": [],
   "source": [
    "label_encoder=LabelEncoder()\n",
    "df[categorical_col]=df[categorical_col].apply(label_encoder.fit_transform)"
   ]
  },
  {
   "cell_type": "code",
   "execution_count": 14,
   "metadata": {},
   "outputs": [
    {
     "data": {
      "text/html": [
       "<div>\n",
       "<style scoped>\n",
       "    .dataframe tbody tr th:only-of-type {\n",
       "        vertical-align: middle;\n",
       "    }\n",
       "\n",
       "    .dataframe tbody tr th {\n",
       "        vertical-align: top;\n",
       "    }\n",
       "\n",
       "    .dataframe thead th {\n",
       "        text-align: right;\n",
       "    }\n",
       "</style>\n",
       "<table border=\"1\" class=\"dataframe\">\n",
       "  <thead>\n",
       "    <tr style=\"text-align: right;\">\n",
       "      <th></th>\n",
       "      <th>customer_id</th>\n",
       "      <th>contract</th>\n",
       "      <th>paperless_billing</th>\n",
       "      <th>payment_method</th>\n",
       "      <th>monthly_ charges</th>\n",
       "      <th>avg_monthly_long_distance_charges</th>\n",
       "      <th>total_charges</th>\n",
       "      <th>total_refunds</th>\n",
       "      <th>total_extra_data_charges</th>\n",
       "      <th>total_long_distance_charges</th>\n",
       "      <th>total_revenue</th>\n",
       "    </tr>\n",
       "  </thead>\n",
       "  <tbody>\n",
       "    <tr>\n",
       "      <th>0</th>\n",
       "      <td>0</td>\n",
       "      <td>1</td>\n",
       "      <td>1</td>\n",
       "      <td>3</td>\n",
       "      <td>65.6</td>\n",
       "      <td>42.39</td>\n",
       "      <td>593.30</td>\n",
       "      <td>0.00</td>\n",
       "      <td>0</td>\n",
       "      <td>381.51</td>\n",
       "      <td>974.81</td>\n",
       "    </tr>\n",
       "    <tr>\n",
       "      <th>1</th>\n",
       "      <td>1</td>\n",
       "      <td>0</td>\n",
       "      <td>0</td>\n",
       "      <td>3</td>\n",
       "      <td>59.9</td>\n",
       "      <td>10.69</td>\n",
       "      <td>542.40</td>\n",
       "      <td>38.33</td>\n",
       "      <td>10</td>\n",
       "      <td>96.21</td>\n",
       "      <td>610.28</td>\n",
       "    </tr>\n",
       "    <tr>\n",
       "      <th>2</th>\n",
       "      <td>2</td>\n",
       "      <td>0</td>\n",
       "      <td>1</td>\n",
       "      <td>2</td>\n",
       "      <td>73.9</td>\n",
       "      <td>33.65</td>\n",
       "      <td>280.85</td>\n",
       "      <td>0.00</td>\n",
       "      <td>0</td>\n",
       "      <td>134.60</td>\n",
       "      <td>415.45</td>\n",
       "    </tr>\n",
       "  </tbody>\n",
       "</table>\n",
       "</div>"
      ],
      "text/plain": [
       "   customer_id  contract  paperless_billing  payment_method  monthly_ charges  \\\n",
       "0            0         1                  1               3              65.6   \n",
       "1            1         0                  0               3              59.9   \n",
       "2            2         0                  1               2              73.9   \n",
       "\n",
       "   avg_monthly_long_distance_charges  total_charges  total_refunds  \\\n",
       "0                              42.39         593.30           0.00   \n",
       "1                              10.69         542.40          38.33   \n",
       "2                              33.65         280.85           0.00   \n",
       "\n",
       "   total_extra_data_charges  total_long_distance_charges  total_revenue  \n",
       "0                         0                       381.51         974.81  \n",
       "1                        10                        96.21         610.28  \n",
       "2                         0                       134.60         415.45  "
      ]
     },
     "execution_count": 14,
     "metadata": {},
     "output_type": "execute_result"
    }
   ],
   "source": [
    "df.head(3)\n"
   ]
  },
  {
   "cell_type": "code",
   "execution_count": 15,
   "metadata": {},
   "outputs": [
    {
     "name": "stdout",
     "output_type": "stream",
     "text": [
      "<class 'pandas.core.frame.DataFrame'>\n",
      "RangeIndex: 7043 entries, 0 to 7042\n",
      "Data columns (total 11 columns):\n",
      " #   Column                             Non-Null Count  Dtype  \n",
      "---  ------                             --------------  -----  \n",
      " 0   customer_id                        7043 non-null   int64  \n",
      " 1   contract                           7043 non-null   int64  \n",
      " 2   paperless_billing                  7043 non-null   int64  \n",
      " 3   payment_method                     7043 non-null   int64  \n",
      " 4   monthly_ charges                   7043 non-null   float64\n",
      " 5   avg_monthly_long_distance_charges  7043 non-null   float64\n",
      " 6   total_charges                      7043 non-null   float64\n",
      " 7   total_refunds                      7043 non-null   float64\n",
      " 8   total_extra_data_charges           7043 non-null   int64  \n",
      " 9   total_long_distance_charges        7043 non-null   float64\n",
      " 10  total_revenue                      7043 non-null   float64\n",
      "dtypes: float64(6), int64(5)\n",
      "memory usage: 605.4 KB\n"
     ]
    }
   ],
   "source": [
    "df.info()"
   ]
  },
  {
   "cell_type": "code",
   "execution_count": 5,
   "metadata": {},
   "outputs": [
    {
     "name": "stdout",
     "output_type": "stream",
     "text": [
      "<class 'pandas.core.frame.DataFrame'>\n",
      "RangeIndex: 7043 entries, 0 to 7042\n",
      "Data columns (total 11 columns):\n",
      " #   Column                             Non-Null Count  Dtype  \n",
      "---  ------                             --------------  -----  \n",
      " 0   customer_id                        7043 non-null   object \n",
      " 1   contract                           7043 non-null   object \n",
      " 2   paperless_billing                  7043 non-null   object \n",
      " 3   payment_method                     7043 non-null   object \n",
      " 4   monthly_ charges                   7043 non-null   float64\n",
      " 5   avg_monthly_long_distance_charges  7043 non-null   float64\n",
      " 6   total_charges                      7043 non-null   float64\n",
      " 7   total_refunds                      7043 non-null   float64\n",
      " 8   total_extra_data_charges           7043 non-null   int64  \n",
      " 9   total_long_distance_charges        7043 non-null   float64\n",
      " 10  total_revenue                      7043 non-null   float64\n",
      "dtypes: float64(6), int64(1), object(4)\n",
      "memory usage: 605.4+ KB\n"
     ]
    }
   ],
   "source": [
    "df.info()"
   ]
  },
  {
   "cell_type": "code",
   "execution_count": 6,
   "metadata": {},
   "outputs": [
    {
     "data": {
      "text/plain": [
       "['customer_id', 'contract', 'paperless_billing', 'payment_method']"
      ]
     },
     "execution_count": 6,
     "metadata": {},
     "output_type": "execute_result"
    }
   ],
   "source": [
    "categorical_col=df.select_dtypes(include=[\"object\",\"category\"]).columns.tolist()\n",
    "categorical_col"
   ]
  },
  {
   "cell_type": "code",
   "execution_count": 8,
   "metadata": {},
   "outputs": [],
   "source": [
    "from sklearn.preprocessing import LabelEncoder\n"
   ]
  },
  {
   "cell_type": "code",
   "execution_count": 10,
   "metadata": {},
   "outputs": [],
   "source": [
    "# label encoding for loop bilan\n",
    "\n",
    "label_encoder=LabelEncoder()\n",
    "\n",
    "for col in  categorical_col:\n",
    "    df[col]=label_encoder.fit_transform(df[col])"
   ]
  },
  {
   "cell_type": "code",
   "execution_count": 11,
   "metadata": {},
   "outputs": [
    {
     "data": {
      "text/html": [
       "<div>\n",
       "<style scoped>\n",
       "    .dataframe tbody tr th:only-of-type {\n",
       "        vertical-align: middle;\n",
       "    }\n",
       "\n",
       "    .dataframe tbody tr th {\n",
       "        vertical-align: top;\n",
       "    }\n",
       "\n",
       "    .dataframe thead th {\n",
       "        text-align: right;\n",
       "    }\n",
       "</style>\n",
       "<table border=\"1\" class=\"dataframe\">\n",
       "  <thead>\n",
       "    <tr style=\"text-align: right;\">\n",
       "      <th></th>\n",
       "      <th>customer_id</th>\n",
       "      <th>contract</th>\n",
       "      <th>paperless_billing</th>\n",
       "      <th>payment_method</th>\n",
       "      <th>monthly_ charges</th>\n",
       "      <th>avg_monthly_long_distance_charges</th>\n",
       "      <th>total_charges</th>\n",
       "      <th>total_refunds</th>\n",
       "      <th>total_extra_data_charges</th>\n",
       "      <th>total_long_distance_charges</th>\n",
       "      <th>total_revenue</th>\n",
       "    </tr>\n",
       "  </thead>\n",
       "  <tbody>\n",
       "    <tr>\n",
       "      <th>0</th>\n",
       "      <td>0</td>\n",
       "      <td>1</td>\n",
       "      <td>1</td>\n",
       "      <td>3</td>\n",
       "      <td>65.6</td>\n",
       "      <td>42.39</td>\n",
       "      <td>593.3</td>\n",
       "      <td>0.00</td>\n",
       "      <td>0</td>\n",
       "      <td>381.51</td>\n",
       "      <td>974.81</td>\n",
       "    </tr>\n",
       "    <tr>\n",
       "      <th>1</th>\n",
       "      <td>1</td>\n",
       "      <td>0</td>\n",
       "      <td>0</td>\n",
       "      <td>3</td>\n",
       "      <td>59.9</td>\n",
       "      <td>10.69</td>\n",
       "      <td>542.4</td>\n",
       "      <td>38.33</td>\n",
       "      <td>10</td>\n",
       "      <td>96.21</td>\n",
       "      <td>610.28</td>\n",
       "    </tr>\n",
       "  </tbody>\n",
       "</table>\n",
       "</div>"
      ],
      "text/plain": [
       "   customer_id  contract  paperless_billing  payment_method  monthly_ charges  \\\n",
       "0            0         1                  1               3              65.6   \n",
       "1            1         0                  0               3              59.9   \n",
       "\n",
       "   avg_monthly_long_distance_charges  total_charges  total_refunds  \\\n",
       "0                              42.39          593.3           0.00   \n",
       "1                              10.69          542.4          38.33   \n",
       "\n",
       "   total_extra_data_charges  total_long_distance_charges  total_revenue  \n",
       "0                         0                       381.51         974.81  \n",
       "1                        10                        96.21         610.28  "
      ]
     },
     "execution_count": 11,
     "metadata": {},
     "output_type": "execute_result"
    }
   ],
   "source": [
    "df.head(2)"
   ]
  },
  {
   "cell_type": "code",
   "execution_count": 12,
   "metadata": {},
   "outputs": [
    {
     "name": "stdout",
     "output_type": "stream",
     "text": [
      "<class 'pandas.core.frame.DataFrame'>\n",
      "RangeIndex: 7043 entries, 0 to 7042\n",
      "Data columns (total 11 columns):\n",
      " #   Column                             Non-Null Count  Dtype  \n",
      "---  ------                             --------------  -----  \n",
      " 0   customer_id                        7043 non-null   int64  \n",
      " 1   contract                           7043 non-null   int64  \n",
      " 2   paperless_billing                  7043 non-null   int64  \n",
      " 3   payment_method                     7043 non-null   int64  \n",
      " 4   monthly_ charges                   7043 non-null   float64\n",
      " 5   avg_monthly_long_distance_charges  7043 non-null   float64\n",
      " 6   total_charges                      7043 non-null   float64\n",
      " 7   total_refunds                      7043 non-null   float64\n",
      " 8   total_extra_data_charges           7043 non-null   int64  \n",
      " 9   total_long_distance_charges        7043 non-null   float64\n",
      " 10  total_revenue                      7043 non-null   float64\n",
      "dtypes: float64(6), int64(5)\n",
      "memory usage: 605.4 KB\n"
     ]
    }
   ],
   "source": [
    "df.info()"
   ]
  },
  {
   "cell_type": "code",
   "execution_count": 4,
   "metadata": {},
   "outputs": [
    {
     "name": "stdout",
     "output_type": "stream",
     "text": [
      "<class 'pandas.core.frame.DataFrame'>\n",
      "RangeIndex: 7043 entries, 0 to 7042\n",
      "Data columns (total 11 columns):\n",
      " #   Column                             Non-Null Count  Dtype  \n",
      "---  ------                             --------------  -----  \n",
      " 0   customer_id                        7043 non-null   object \n",
      " 1   contract                           7043 non-null   object \n",
      " 2   paperless_billing                  7043 non-null   object \n",
      " 3   payment_method                     7043 non-null   object \n",
      " 4   monthly_ charges                   7043 non-null   float64\n",
      " 5   avg_monthly_long_distance_charges  7043 non-null   float64\n",
      " 6   total_charges                      7043 non-null   float64\n",
      " 7   total_refunds                      7043 non-null   float64\n",
      " 8   total_extra_data_charges           7043 non-null   int64  \n",
      " 9   total_long_distance_charges        7043 non-null   float64\n",
      " 10  total_revenue                      7043 non-null   float64\n",
      "dtypes: float64(6), int64(1), object(4)\n",
      "memory usage: 605.4+ KB\n"
     ]
    }
   ],
   "source": [
    "df.info()"
   ]
  },
  {
   "cell_type": "code",
   "execution_count": 5,
   "metadata": {},
   "outputs": [
    {
     "data": {
      "text/plain": [
       "['customer_id', 'contract', 'paperless_billing', 'payment_method']"
      ]
     },
     "execution_count": 5,
     "metadata": {},
     "output_type": "execute_result"
    }
   ],
   "source": [
    "categorical_col=df.select_dtypes(include=[\"object\",\"category\"]).columns.tolist()\n",
    "categorical_col"
   ]
  },
  {
   "cell_type": "code",
   "execution_count": 6,
   "metadata": {},
   "outputs": [],
   "source": [
    "# Frequency encoding\n",
    "\n",
    "df[categorical_col]=df[categorical_col].apply(lambda col:col.map(col.value_counts()))"
   ]
  },
  {
   "cell_type": "code",
   "execution_count": 7,
   "metadata": {},
   "outputs": [
    {
     "data": {
      "text/html": [
       "<div>\n",
       "<style scoped>\n",
       "    .dataframe tbody tr th:only-of-type {\n",
       "        vertical-align: middle;\n",
       "    }\n",
       "\n",
       "    .dataframe tbody tr th {\n",
       "        vertical-align: top;\n",
       "    }\n",
       "\n",
       "    .dataframe thead th {\n",
       "        text-align: right;\n",
       "    }\n",
       "</style>\n",
       "<table border=\"1\" class=\"dataframe\">\n",
       "  <thead>\n",
       "    <tr style=\"text-align: right;\">\n",
       "      <th></th>\n",
       "      <th>customer_id</th>\n",
       "      <th>contract</th>\n",
       "      <th>paperless_billing</th>\n",
       "      <th>payment_method</th>\n",
       "      <th>monthly_ charges</th>\n",
       "      <th>avg_monthly_long_distance_charges</th>\n",
       "      <th>total_charges</th>\n",
       "      <th>total_refunds</th>\n",
       "      <th>total_extra_data_charges</th>\n",
       "      <th>total_long_distance_charges</th>\n",
       "      <th>total_revenue</th>\n",
       "    </tr>\n",
       "  </thead>\n",
       "  <tbody>\n",
       "    <tr>\n",
       "      <th>0</th>\n",
       "      <td>1</td>\n",
       "      <td>1550</td>\n",
       "      <td>4171</td>\n",
       "      <td>1612</td>\n",
       "      <td>65.6</td>\n",
       "      <td>42.39</td>\n",
       "      <td>593.30</td>\n",
       "      <td>0.00</td>\n",
       "      <td>0</td>\n",
       "      <td>381.51</td>\n",
       "      <td>974.81</td>\n",
       "    </tr>\n",
       "    <tr>\n",
       "      <th>1</th>\n",
       "      <td>1</td>\n",
       "      <td>3610</td>\n",
       "      <td>2872</td>\n",
       "      <td>1612</td>\n",
       "      <td>59.9</td>\n",
       "      <td>10.69</td>\n",
       "      <td>542.40</td>\n",
       "      <td>38.33</td>\n",
       "      <td>10</td>\n",
       "      <td>96.21</td>\n",
       "      <td>610.28</td>\n",
       "    </tr>\n",
       "    <tr>\n",
       "      <th>2</th>\n",
       "      <td>1</td>\n",
       "      <td>3610</td>\n",
       "      <td>4171</td>\n",
       "      <td>2365</td>\n",
       "      <td>73.9</td>\n",
       "      <td>33.65</td>\n",
       "      <td>280.85</td>\n",
       "      <td>0.00</td>\n",
       "      <td>0</td>\n",
       "      <td>134.60</td>\n",
       "      <td>415.45</td>\n",
       "    </tr>\n",
       "  </tbody>\n",
       "</table>\n",
       "</div>"
      ],
      "text/plain": [
       "   customer_id  contract  paperless_billing  payment_method  monthly_ charges  \\\n",
       "0            1      1550               4171            1612              65.6   \n",
       "1            1      3610               2872            1612              59.9   \n",
       "2            1      3610               4171            2365              73.9   \n",
       "\n",
       "   avg_monthly_long_distance_charges  total_charges  total_refunds  \\\n",
       "0                              42.39         593.30           0.00   \n",
       "1                              10.69         542.40          38.33   \n",
       "2                              33.65         280.85           0.00   \n",
       "\n",
       "   total_extra_data_charges  total_long_distance_charges  total_revenue  \n",
       "0                         0                       381.51         974.81  \n",
       "1                        10                        96.21         610.28  \n",
       "2                         0                       134.60         415.45  "
      ]
     },
     "execution_count": 7,
     "metadata": {},
     "output_type": "execute_result"
    }
   ],
   "source": [
    "df.head(3)\n"
   ]
  },
  {
   "cell_type": "code",
   "execution_count": 8,
   "metadata": {},
   "outputs": [
    {
     "name": "stdout",
     "output_type": "stream",
     "text": [
      "<class 'pandas.core.frame.DataFrame'>\n",
      "RangeIndex: 7043 entries, 0 to 7042\n",
      "Data columns (total 11 columns):\n",
      " #   Column                             Non-Null Count  Dtype  \n",
      "---  ------                             --------------  -----  \n",
      " 0   customer_id                        7043 non-null   int64  \n",
      " 1   contract                           7043 non-null   int64  \n",
      " 2   paperless_billing                  7043 non-null   int64  \n",
      " 3   payment_method                     7043 non-null   int64  \n",
      " 4   monthly_ charges                   7043 non-null   float64\n",
      " 5   avg_monthly_long_distance_charges  7043 non-null   float64\n",
      " 6   total_charges                      7043 non-null   float64\n",
      " 7   total_refunds                      7043 non-null   float64\n",
      " 8   total_extra_data_charges           7043 non-null   int64  \n",
      " 9   total_long_distance_charges        7043 non-null   float64\n",
      " 10  total_revenue                      7043 non-null   float64\n",
      "dtypes: float64(6), int64(5)\n",
      "memory usage: 605.4 KB\n"
     ]
    }
   ],
   "source": [
    "df.info()"
   ]
  },
  {
   "cell_type": "code",
   "execution_count": 7,
   "metadata": {},
   "outputs": [
    {
     "data": {
      "text/html": [
       "<div>\n",
       "<style scoped>\n",
       "    .dataframe tbody tr th:only-of-type {\n",
       "        vertical-align: middle;\n",
       "    }\n",
       "\n",
       "    .dataframe tbody tr th {\n",
       "        vertical-align: top;\n",
       "    }\n",
       "\n",
       "    .dataframe thead th {\n",
       "        text-align: right;\n",
       "    }\n",
       "</style>\n",
       "<table border=\"1\" class=\"dataframe\">\n",
       "  <thead>\n",
       "    <tr style=\"text-align: right;\">\n",
       "      <th></th>\n",
       "      <th>customer_id</th>\n",
       "      <th>contract</th>\n",
       "      <th>paperless_billing</th>\n",
       "      <th>payment_method</th>\n",
       "      <th>monthly_ charges</th>\n",
       "      <th>avg_monthly_long_distance_charges</th>\n",
       "      <th>total_charges</th>\n",
       "      <th>total_refunds</th>\n",
       "      <th>total_extra_data_charges</th>\n",
       "      <th>total_long_distance_charges</th>\n",
       "      <th>total_revenue</th>\n",
       "    </tr>\n",
       "  </thead>\n",
       "  <tbody>\n",
       "    <tr>\n",
       "      <th>0</th>\n",
       "      <td>0002-ORFBO</td>\n",
       "      <td>One Year</td>\n",
       "      <td>Yes</td>\n",
       "      <td>Mailed check</td>\n",
       "      <td>65.6</td>\n",
       "      <td>42.39</td>\n",
       "      <td>593.30</td>\n",
       "      <td>0.00</td>\n",
       "      <td>0</td>\n",
       "      <td>381.51</td>\n",
       "      <td>974.81</td>\n",
       "    </tr>\n",
       "    <tr>\n",
       "      <th>1</th>\n",
       "      <td>0003-MKNFE</td>\n",
       "      <td>Month-to-Month</td>\n",
       "      <td>No</td>\n",
       "      <td>Mailed check</td>\n",
       "      <td>59.9</td>\n",
       "      <td>10.69</td>\n",
       "      <td>542.40</td>\n",
       "      <td>38.33</td>\n",
       "      <td>10</td>\n",
       "      <td>96.21</td>\n",
       "      <td>610.28</td>\n",
       "    </tr>\n",
       "    <tr>\n",
       "      <th>2</th>\n",
       "      <td>0004-TLHLJ</td>\n",
       "      <td>Month-to-Month</td>\n",
       "      <td>Yes</td>\n",
       "      <td>Electronic check</td>\n",
       "      <td>73.9</td>\n",
       "      <td>33.65</td>\n",
       "      <td>280.85</td>\n",
       "      <td>0.00</td>\n",
       "      <td>0</td>\n",
       "      <td>134.60</td>\n",
       "      <td>415.45</td>\n",
       "    </tr>\n",
       "    <tr>\n",
       "      <th>3</th>\n",
       "      <td>0011-IGKFF</td>\n",
       "      <td>Month-to-Month</td>\n",
       "      <td>Yes</td>\n",
       "      <td>Electronic check</td>\n",
       "      <td>98.0</td>\n",
       "      <td>27.82</td>\n",
       "      <td>1237.85</td>\n",
       "      <td>0.00</td>\n",
       "      <td>0</td>\n",
       "      <td>361.66</td>\n",
       "      <td>1599.51</td>\n",
       "    </tr>\n",
       "    <tr>\n",
       "      <th>4</th>\n",
       "      <td>0013-EXCHZ</td>\n",
       "      <td>Month-to-Month</td>\n",
       "      <td>Yes</td>\n",
       "      <td>Mailed check</td>\n",
       "      <td>83.9</td>\n",
       "      <td>7.38</td>\n",
       "      <td>267.40</td>\n",
       "      <td>0.00</td>\n",
       "      <td>0</td>\n",
       "      <td>22.14</td>\n",
       "      <td>289.54</td>\n",
       "    </tr>\n",
       "  </tbody>\n",
       "</table>\n",
       "</div>"
      ],
      "text/plain": [
       "  customer_id        contract paperless_billing    payment_method  \\\n",
       "0  0002-ORFBO        One Year               Yes      Mailed check   \n",
       "1  0003-MKNFE  Month-to-Month                No      Mailed check   \n",
       "2  0004-TLHLJ  Month-to-Month               Yes  Electronic check   \n",
       "3  0011-IGKFF  Month-to-Month               Yes  Electronic check   \n",
       "4  0013-EXCHZ  Month-to-Month               Yes      Mailed check   \n",
       "\n",
       "   monthly_ charges  avg_monthly_long_distance_charges  total_charges  \\\n",
       "0              65.6                              42.39         593.30   \n",
       "1              59.9                              10.69         542.40   \n",
       "2              73.9                              33.65         280.85   \n",
       "3              98.0                              27.82        1237.85   \n",
       "4              83.9                               7.38         267.40   \n",
       "\n",
       "   total_refunds  total_extra_data_charges  total_long_distance_charges  \\\n",
       "0           0.00                         0                       381.51   \n",
       "1          38.33                        10                        96.21   \n",
       "2           0.00                         0                       134.60   \n",
       "3           0.00                         0                       361.66   \n",
       "4           0.00                         0                        22.14   \n",
       "\n",
       "   total_revenue  \n",
       "0         974.81  \n",
       "1         610.28  \n",
       "2         415.45  \n",
       "3        1599.51  \n",
       "4         289.54  "
      ]
     },
     "execution_count": 7,
     "metadata": {},
     "output_type": "execute_result"
    }
   ],
   "source": [
    "df.head()"
   ]
  },
  {
   "cell_type": "code",
   "execution_count": 8,
   "metadata": {},
   "outputs": [
    {
     "name": "stdout",
     "output_type": "stream",
     "text": [
      "<class 'pandas.core.frame.DataFrame'>\n",
      "RangeIndex: 7043 entries, 0 to 7042\n",
      "Data columns (total 11 columns):\n",
      " #   Column                             Non-Null Count  Dtype  \n",
      "---  ------                             --------------  -----  \n",
      " 0   customer_id                        7043 non-null   object \n",
      " 1   contract                           7043 non-null   object \n",
      " 2   paperless_billing                  7043 non-null   object \n",
      " 3   payment_method                     7043 non-null   object \n",
      " 4   monthly_ charges                   7043 non-null   float64\n",
      " 5   avg_monthly_long_distance_charges  7043 non-null   float64\n",
      " 6   total_charges                      7043 non-null   float64\n",
      " 7   total_refunds                      7043 non-null   float64\n",
      " 8   total_extra_data_charges           7043 non-null   int64  \n",
      " 9   total_long_distance_charges        7043 non-null   float64\n",
      " 10  total_revenue                      7043 non-null   float64\n",
      "dtypes: float64(6), int64(1), object(4)\n",
      "memory usage: 605.4+ KB\n"
     ]
    }
   ],
   "source": [
    "df.info()"
   ]
  },
  {
   "cell_type": "code",
   "execution_count": 9,
   "metadata": {},
   "outputs": [
    {
     "data": {
      "text/plain": [
       "['customer_id', 'contract', 'paperless_billing', 'payment_method']"
      ]
     },
     "execution_count": 9,
     "metadata": {},
     "output_type": "execute_result"
    }
   ],
   "source": [
    "categorical_col=df.select_dtypes(include=[\"object\",\"category\"]).columns.tolist()\n",
    "categorical_col"
   ]
  },
  {
   "cell_type": "code",
   "execution_count": 10,
   "metadata": {},
   "outputs": [],
   "source": [
    "# Target(mean) encoding\n",
    "\n",
    "df[categorical_col]=df[categorical_col].apply(lambda col:col.map(df.groupby(col)[\"total_revenue\"].mean()))"
   ]
  },
  {
   "cell_type": "code",
   "execution_count": 11,
   "metadata": {},
   "outputs": [
    {
     "data": {
      "text/html": [
       "<div>\n",
       "<style scoped>\n",
       "    .dataframe tbody tr th:only-of-type {\n",
       "        vertical-align: middle;\n",
       "    }\n",
       "\n",
       "    .dataframe tbody tr th {\n",
       "        vertical-align: top;\n",
       "    }\n",
       "\n",
       "    .dataframe thead th {\n",
       "        text-align: right;\n",
       "    }\n",
       "</style>\n",
       "<table border=\"1\" class=\"dataframe\">\n",
       "  <thead>\n",
       "    <tr style=\"text-align: right;\">\n",
       "      <th></th>\n",
       "      <th>customer_id</th>\n",
       "      <th>contract</th>\n",
       "      <th>paperless_billing</th>\n",
       "      <th>payment_method</th>\n",
       "      <th>monthly_ charges</th>\n",
       "      <th>avg_monthly_long_distance_charges</th>\n",
       "      <th>total_charges</th>\n",
       "      <th>total_refunds</th>\n",
       "      <th>total_extra_data_charges</th>\n",
       "      <th>total_long_distance_charges</th>\n",
       "      <th>total_revenue</th>\n",
       "    </tr>\n",
       "  </thead>\n",
       "  <tbody>\n",
       "    <tr>\n",
       "      <th>0</th>\n",
       "      <td>974.81</td>\n",
       "      <td>3981.802781</td>\n",
       "      <td>3346.382426</td>\n",
       "      <td>1546.938251</td>\n",
       "      <td>65.6</td>\n",
       "      <td>42.39</td>\n",
       "      <td>593.30</td>\n",
       "      <td>0.00</td>\n",
       "      <td>0</td>\n",
       "      <td>381.51</td>\n",
       "      <td>974.81</td>\n",
       "    </tr>\n",
       "    <tr>\n",
       "      <th>1</th>\n",
       "      <td>610.28</td>\n",
       "      <td>1707.060449</td>\n",
       "      <td>2581.257169</td>\n",
       "      <td>1546.938251</td>\n",
       "      <td>59.9</td>\n",
       "      <td>10.69</td>\n",
       "      <td>542.40</td>\n",
       "      <td>38.33</td>\n",
       "      <td>10</td>\n",
       "      <td>96.21</td>\n",
       "      <td>610.28</td>\n",
       "    </tr>\n",
       "    <tr>\n",
       "      <th>2</th>\n",
       "      <td>415.45</td>\n",
       "      <td>1707.060449</td>\n",
       "      <td>3346.382426</td>\n",
       "      <td>2693.556617</td>\n",
       "      <td>73.9</td>\n",
       "      <td>33.65</td>\n",
       "      <td>280.85</td>\n",
       "      <td>0.00</td>\n",
       "      <td>0</td>\n",
       "      <td>134.60</td>\n",
       "      <td>415.45</td>\n",
       "    </tr>\n",
       "    <tr>\n",
       "      <th>3</th>\n",
       "      <td>1599.51</td>\n",
       "      <td>1707.060449</td>\n",
       "      <td>3346.382426</td>\n",
       "      <td>2693.556617</td>\n",
       "      <td>98.0</td>\n",
       "      <td>27.82</td>\n",
       "      <td>1237.85</td>\n",
       "      <td>0.00</td>\n",
       "      <td>0</td>\n",
       "      <td>361.66</td>\n",
       "      <td>1599.51</td>\n",
       "    </tr>\n",
       "    <tr>\n",
       "      <th>4</th>\n",
       "      <td>289.54</td>\n",
       "      <td>1707.060449</td>\n",
       "      <td>3346.382426</td>\n",
       "      <td>1546.938251</td>\n",
       "      <td>83.9</td>\n",
       "      <td>7.38</td>\n",
       "      <td>267.40</td>\n",
       "      <td>0.00</td>\n",
       "      <td>0</td>\n",
       "      <td>22.14</td>\n",
       "      <td>289.54</td>\n",
       "    </tr>\n",
       "  </tbody>\n",
       "</table>\n",
       "</div>"
      ],
      "text/plain": [
       "   customer_id     contract  paperless_billing  payment_method  \\\n",
       "0       974.81  3981.802781        3346.382426     1546.938251   \n",
       "1       610.28  1707.060449        2581.257169     1546.938251   \n",
       "2       415.45  1707.060449        3346.382426     2693.556617   \n",
       "3      1599.51  1707.060449        3346.382426     2693.556617   \n",
       "4       289.54  1707.060449        3346.382426     1546.938251   \n",
       "\n",
       "   monthly_ charges  avg_monthly_long_distance_charges  total_charges  \\\n",
       "0              65.6                              42.39         593.30   \n",
       "1              59.9                              10.69         542.40   \n",
       "2              73.9                              33.65         280.85   \n",
       "3              98.0                              27.82        1237.85   \n",
       "4              83.9                               7.38         267.40   \n",
       "\n",
       "   total_refunds  total_extra_data_charges  total_long_distance_charges  \\\n",
       "0           0.00                         0                       381.51   \n",
       "1          38.33                        10                        96.21   \n",
       "2           0.00                         0                       134.60   \n",
       "3           0.00                         0                       361.66   \n",
       "4           0.00                         0                        22.14   \n",
       "\n",
       "   total_revenue  \n",
       "0         974.81  \n",
       "1         610.28  \n",
       "2         415.45  \n",
       "3        1599.51  \n",
       "4         289.54  "
      ]
     },
     "execution_count": 11,
     "metadata": {},
     "output_type": "execute_result"
    }
   ],
   "source": [
    "df.head()"
   ]
  },
  {
   "cell_type": "code",
   "execution_count": 12,
   "metadata": {},
   "outputs": [
    {
     "name": "stdout",
     "output_type": "stream",
     "text": [
      "<class 'pandas.core.frame.DataFrame'>\n",
      "RangeIndex: 7043 entries, 0 to 7042\n",
      "Data columns (total 11 columns):\n",
      " #   Column                             Non-Null Count  Dtype  \n",
      "---  ------                             --------------  -----  \n",
      " 0   customer_id                        7043 non-null   float64\n",
      " 1   contract                           7043 non-null   float64\n",
      " 2   paperless_billing                  7043 non-null   float64\n",
      " 3   payment_method                     7043 non-null   float64\n",
      " 4   monthly_ charges                   7043 non-null   float64\n",
      " 5   avg_monthly_long_distance_charges  7043 non-null   float64\n",
      " 6   total_charges                      7043 non-null   float64\n",
      " 7   total_refunds                      7043 non-null   float64\n",
      " 8   total_extra_data_charges           7043 non-null   int64  \n",
      " 9   total_long_distance_charges        7043 non-null   float64\n",
      " 10  total_revenue                      7043 non-null   float64\n",
      "dtypes: float64(10), int64(1)\n",
      "memory usage: 605.4 KB\n"
     ]
    }
   ],
   "source": [
    "df.info()"
   ]
  },
  {
   "cell_type": "markdown",
   "metadata": {},
   "source": [
    "# Scaling"
   ]
  },
  {
   "cell_type": "code",
   "execution_count": 14,
   "metadata": {},
   "outputs": [],
   "source": [
    "from sklearn.preprocessing import LabelEncoder, MinMaxScaler, StandardScaler, RobustScaler # kutubxonadan chaqirib olish"
   ]
  },
  {
   "cell_type": "code",
   "execution_count": 15,
   "metadata": {},
   "outputs": [],
   "source": [
    "# Standard Scaling \n",
    "standard_scaler = StandardScaler()\n",
    "df_standard_scaled = pd.DataFrame(standard_scaler.fit_transform(df), columns=df.columns)\n"
   ]
  },
  {
   "cell_type": "code",
   "execution_count": 17,
   "metadata": {},
   "outputs": [
    {
     "data": {
      "text/html": [
       "<div>\n",
       "<style scoped>\n",
       "    .dataframe tbody tr th:only-of-type {\n",
       "        vertical-align: middle;\n",
       "    }\n",
       "\n",
       "    .dataframe tbody tr th {\n",
       "        vertical-align: top;\n",
       "    }\n",
       "\n",
       "    .dataframe thead th {\n",
       "        text-align: right;\n",
       "    }\n",
       "</style>\n",
       "<table border=\"1\" class=\"dataframe\">\n",
       "  <thead>\n",
       "    <tr style=\"text-align: right;\">\n",
       "      <th></th>\n",
       "      <th>customer_id</th>\n",
       "      <th>contract</th>\n",
       "      <th>paperless_billing</th>\n",
       "      <th>payment_method</th>\n",
       "      <th>monthly_ charges</th>\n",
       "      <th>avg_monthly_long_distance_charges</th>\n",
       "      <th>total_charges</th>\n",
       "      <th>total_refunds</th>\n",
       "      <th>total_extra_data_charges</th>\n",
       "      <th>total_long_distance_charges</th>\n",
       "      <th>total_revenue</th>\n",
       "    </tr>\n",
       "  </thead>\n",
       "  <tbody>\n",
       "    <tr>\n",
       "      <th>0</th>\n",
       "      <td>974.81</td>\n",
       "      <td>3981.802781</td>\n",
       "      <td>3346.382426</td>\n",
       "      <td>1546.938251</td>\n",
       "      <td>65.6</td>\n",
       "      <td>42.39</td>\n",
       "      <td>593.30</td>\n",
       "      <td>0.00</td>\n",
       "      <td>0</td>\n",
       "      <td>381.51</td>\n",
       "      <td>974.81</td>\n",
       "    </tr>\n",
       "    <tr>\n",
       "      <th>1</th>\n",
       "      <td>610.28</td>\n",
       "      <td>1707.060449</td>\n",
       "      <td>2581.257169</td>\n",
       "      <td>1546.938251</td>\n",
       "      <td>59.9</td>\n",
       "      <td>10.69</td>\n",
       "      <td>542.40</td>\n",
       "      <td>38.33</td>\n",
       "      <td>10</td>\n",
       "      <td>96.21</td>\n",
       "      <td>610.28</td>\n",
       "    </tr>\n",
       "    <tr>\n",
       "      <th>2</th>\n",
       "      <td>415.45</td>\n",
       "      <td>1707.060449</td>\n",
       "      <td>3346.382426</td>\n",
       "      <td>2693.556617</td>\n",
       "      <td>73.9</td>\n",
       "      <td>33.65</td>\n",
       "      <td>280.85</td>\n",
       "      <td>0.00</td>\n",
       "      <td>0</td>\n",
       "      <td>134.60</td>\n",
       "      <td>415.45</td>\n",
       "    </tr>\n",
       "  </tbody>\n",
       "</table>\n",
       "</div>"
      ],
      "text/plain": [
       "   customer_id     contract  paperless_billing  payment_method  \\\n",
       "0       974.81  3981.802781        3346.382426     1546.938251   \n",
       "1       610.28  1707.060449        2581.257169     1546.938251   \n",
       "2       415.45  1707.060449        3346.382426     2693.556617   \n",
       "\n",
       "   monthly_ charges  avg_monthly_long_distance_charges  total_charges  \\\n",
       "0              65.6                              42.39         593.30   \n",
       "1              59.9                              10.69         542.40   \n",
       "2              73.9                              33.65         280.85   \n",
       "\n",
       "   total_refunds  total_extra_data_charges  total_long_distance_charges  \\\n",
       "0           0.00                         0                       381.51   \n",
       "1          38.33                        10                        96.21   \n",
       "2           0.00                         0                       134.60   \n",
       "\n",
       "   total_revenue  \n",
       "0         974.81  \n",
       "1         610.28  \n",
       "2         415.45  "
      ]
     },
     "execution_count": 17,
     "metadata": {},
     "output_type": "execute_result"
    }
   ],
   "source": [
    "df.head(3)"
   ]
  },
  {
   "cell_type": "code",
   "execution_count": 18,
   "metadata": {},
   "outputs": [
    {
     "data": {
      "text/html": [
       "<div>\n",
       "<style scoped>\n",
       "    .dataframe tbody tr th:only-of-type {\n",
       "        vertical-align: middle;\n",
       "    }\n",
       "\n",
       "    .dataframe tbody tr th {\n",
       "        vertical-align: top;\n",
       "    }\n",
       "\n",
       "    .dataframe thead th {\n",
       "        text-align: right;\n",
       "    }\n",
       "</style>\n",
       "<table border=\"1\" class=\"dataframe\">\n",
       "  <thead>\n",
       "    <tr style=\"text-align: right;\">\n",
       "      <th></th>\n",
       "      <th>customer_id</th>\n",
       "      <th>contract</th>\n",
       "      <th>paperless_billing</th>\n",
       "      <th>payment_method</th>\n",
       "      <th>monthly_ charges</th>\n",
       "      <th>avg_monthly_long_distance_charges</th>\n",
       "      <th>total_charges</th>\n",
       "      <th>total_refunds</th>\n",
       "      <th>total_extra_data_charges</th>\n",
       "      <th>total_long_distance_charges</th>\n",
       "      <th>total_revenue</th>\n",
       "    </tr>\n",
       "  </thead>\n",
       "  <tbody>\n",
       "    <tr>\n",
       "      <th>0</th>\n",
       "      <td>-0.718872</td>\n",
       "      <td>0.681396</td>\n",
       "      <td>0.829798</td>\n",
       "      <td>-1.472255</td>\n",
       "      <td>0.027862</td>\n",
       "      <td>1.257916</td>\n",
       "      <td>-0.744500</td>\n",
       "      <td>-0.248313</td>\n",
       "      <td>-0.273300</td>\n",
       "      <td>-0.434195</td>\n",
       "      <td>-0.718872</td>\n",
       "    </tr>\n",
       "    <tr>\n",
       "      <th>1</th>\n",
       "      <td>-0.846108</td>\n",
       "      <td>-0.954620</td>\n",
       "      <td>-1.205113</td>\n",
       "      <td>-1.472255</td>\n",
       "      <td>-0.161583</td>\n",
       "      <td>-0.794260</td>\n",
       "      <td>-0.766962</td>\n",
       "      <td>4.602325</td>\n",
       "      <td>0.125055</td>\n",
       "      <td>-0.771190</td>\n",
       "      <td>-0.846108</td>\n",
       "    </tr>\n",
       "    <tr>\n",
       "      <th>2</th>\n",
       "      <td>-0.914111</td>\n",
       "      <td>-0.954620</td>\n",
       "      <td>0.829798</td>\n",
       "      <td>-0.337343</td>\n",
       "      <td>0.303720</td>\n",
       "      <td>0.692111</td>\n",
       "      <td>-0.882382</td>\n",
       "      <td>-0.248313</td>\n",
       "      <td>-0.273300</td>\n",
       "      <td>-0.725844</td>\n",
       "      <td>-0.914111</td>\n",
       "    </tr>\n",
       "  </tbody>\n",
       "</table>\n",
       "</div>"
      ],
      "text/plain": [
       "   customer_id  contract  paperless_billing  payment_method  monthly_ charges  \\\n",
       "0    -0.718872  0.681396           0.829798       -1.472255          0.027862   \n",
       "1    -0.846108 -0.954620          -1.205113       -1.472255         -0.161583   \n",
       "2    -0.914111 -0.954620           0.829798       -0.337343          0.303720   \n",
       "\n",
       "   avg_monthly_long_distance_charges  total_charges  total_refunds  \\\n",
       "0                           1.257916      -0.744500      -0.248313   \n",
       "1                          -0.794260      -0.766962       4.602325   \n",
       "2                           0.692111      -0.882382      -0.248313   \n",
       "\n",
       "   total_extra_data_charges  total_long_distance_charges  total_revenue  \n",
       "0                 -0.273300                    -0.434195      -0.718872  \n",
       "1                  0.125055                    -0.771190      -0.846108  \n",
       "2                 -0.273300                    -0.725844      -0.914111  "
      ]
     },
     "execution_count": 18,
     "metadata": {},
     "output_type": "execute_result"
    }
   ],
   "source": [
    "df_standard_scaled.head(3)"
   ]
  },
  {
   "cell_type": "code",
   "execution_count": 19,
   "metadata": {},
   "outputs": [],
   "source": [
    "# Min-Max Scaling\n",
    "min_max_scaler = MinMaxScaler()\n",
    "df_min_max_scaled = pd.DataFrame(min_max_scaler.fit_transform(df), columns=df.columns)\n"
   ]
  },
  {
   "cell_type": "code",
   "execution_count": 20,
   "metadata": {},
   "outputs": [
    {
     "data": {
      "text/html": [
       "<div>\n",
       "<style scoped>\n",
       "    .dataframe tbody tr th:only-of-type {\n",
       "        vertical-align: middle;\n",
       "    }\n",
       "\n",
       "    .dataframe tbody tr th {\n",
       "        vertical-align: top;\n",
       "    }\n",
       "\n",
       "    .dataframe thead th {\n",
       "        text-align: right;\n",
       "    }\n",
       "</style>\n",
       "<table border=\"1\" class=\"dataframe\">\n",
       "  <thead>\n",
       "    <tr style=\"text-align: right;\">\n",
       "      <th></th>\n",
       "      <th>customer_id</th>\n",
       "      <th>contract</th>\n",
       "      <th>paperless_billing</th>\n",
       "      <th>payment_method</th>\n",
       "      <th>monthly_ charges</th>\n",
       "      <th>avg_monthly_long_distance_charges</th>\n",
       "      <th>total_charges</th>\n",
       "      <th>total_refunds</th>\n",
       "      <th>total_extra_data_charges</th>\n",
       "      <th>total_long_distance_charges</th>\n",
       "      <th>total_revenue</th>\n",
       "    </tr>\n",
       "  </thead>\n",
       "  <tbody>\n",
       "    <tr>\n",
       "      <th>0</th>\n",
       "      <td>974.81</td>\n",
       "      <td>3981.802781</td>\n",
       "      <td>3346.382426</td>\n",
       "      <td>1546.938251</td>\n",
       "      <td>65.6</td>\n",
       "      <td>42.39</td>\n",
       "      <td>593.30</td>\n",
       "      <td>0.00</td>\n",
       "      <td>0</td>\n",
       "      <td>381.51</td>\n",
       "      <td>974.81</td>\n",
       "    </tr>\n",
       "    <tr>\n",
       "      <th>1</th>\n",
       "      <td>610.28</td>\n",
       "      <td>1707.060449</td>\n",
       "      <td>2581.257169</td>\n",
       "      <td>1546.938251</td>\n",
       "      <td>59.9</td>\n",
       "      <td>10.69</td>\n",
       "      <td>542.40</td>\n",
       "      <td>38.33</td>\n",
       "      <td>10</td>\n",
       "      <td>96.21</td>\n",
       "      <td>610.28</td>\n",
       "    </tr>\n",
       "    <tr>\n",
       "      <th>2</th>\n",
       "      <td>415.45</td>\n",
       "      <td>1707.060449</td>\n",
       "      <td>3346.382426</td>\n",
       "      <td>2693.556617</td>\n",
       "      <td>73.9</td>\n",
       "      <td>33.65</td>\n",
       "      <td>280.85</td>\n",
       "      <td>0.00</td>\n",
       "      <td>0</td>\n",
       "      <td>134.60</td>\n",
       "      <td>415.45</td>\n",
       "    </tr>\n",
       "  </tbody>\n",
       "</table>\n",
       "</div>"
      ],
      "text/plain": [
       "   customer_id     contract  paperless_billing  payment_method  \\\n",
       "0       974.81  3981.802781        3346.382426     1546.938251   \n",
       "1       610.28  1707.060449        2581.257169     1546.938251   \n",
       "2       415.45  1707.060449        3346.382426     2693.556617   \n",
       "\n",
       "   monthly_ charges  avg_monthly_long_distance_charges  total_charges  \\\n",
       "0              65.6                              42.39         593.30   \n",
       "1              59.9                              10.69         542.40   \n",
       "2              73.9                              33.65         280.85   \n",
       "\n",
       "   total_refunds  total_extra_data_charges  total_long_distance_charges  \\\n",
       "0           0.00                         0                       381.51   \n",
       "1          38.33                        10                        96.21   \n",
       "2           0.00                         0                       134.60   \n",
       "\n",
       "   total_revenue  \n",
       "0         974.81  \n",
       "1         610.28  \n",
       "2         415.45  "
      ]
     },
     "execution_count": 20,
     "metadata": {},
     "output_type": "execute_result"
    }
   ],
   "source": [
    "df.head(3)"
   ]
  },
  {
   "cell_type": "code",
   "execution_count": 21,
   "metadata": {},
   "outputs": [
    {
     "data": {
      "text/html": [
       "<div>\n",
       "<style scoped>\n",
       "    .dataframe tbody tr th:only-of-type {\n",
       "        vertical-align: middle;\n",
       "    }\n",
       "\n",
       "    .dataframe tbody tr th {\n",
       "        vertical-align: top;\n",
       "    }\n",
       "\n",
       "    .dataframe thead th {\n",
       "        text-align: right;\n",
       "    }\n",
       "</style>\n",
       "<table border=\"1\" class=\"dataframe\">\n",
       "  <thead>\n",
       "    <tr style=\"text-align: right;\">\n",
       "      <th></th>\n",
       "      <th>customer_id</th>\n",
       "      <th>contract</th>\n",
       "      <th>paperless_billing</th>\n",
       "      <th>payment_method</th>\n",
       "      <th>monthly_ charges</th>\n",
       "      <th>avg_monthly_long_distance_charges</th>\n",
       "      <th>total_charges</th>\n",
       "      <th>total_refunds</th>\n",
       "      <th>total_extra_data_charges</th>\n",
       "      <th>total_long_distance_charges</th>\n",
       "      <th>total_revenue</th>\n",
       "    </tr>\n",
       "  </thead>\n",
       "  <tbody>\n",
       "    <tr>\n",
       "      <th>0</th>\n",
       "      <td>0.079733</td>\n",
       "      <td>0.735659</td>\n",
       "      <td>1.0</td>\n",
       "      <td>0.000000</td>\n",
       "      <td>0.471144</td>\n",
       "      <td>0.847970</td>\n",
       "      <td>0.066294</td>\n",
       "      <td>0.000000</td>\n",
       "      <td>0.000000</td>\n",
       "      <td>0.107024</td>\n",
       "      <td>0.079733</td>\n",
       "    </tr>\n",
       "    <tr>\n",
       "      <th>1</th>\n",
       "      <td>0.049249</td>\n",
       "      <td>0.000000</td>\n",
       "      <td>0.0</td>\n",
       "      <td>0.000000</td>\n",
       "      <td>0.414428</td>\n",
       "      <td>0.213843</td>\n",
       "      <td>0.060420</td>\n",
       "      <td>0.769833</td>\n",
       "      <td>0.066667</td>\n",
       "      <td>0.026989</td>\n",
       "      <td>0.049249</td>\n",
       "    </tr>\n",
       "    <tr>\n",
       "      <th>2</th>\n",
       "      <td>0.032956</td>\n",
       "      <td>0.000000</td>\n",
       "      <td>1.0</td>\n",
       "      <td>0.452394</td>\n",
       "      <td>0.553731</td>\n",
       "      <td>0.673135</td>\n",
       "      <td>0.030239</td>\n",
       "      <td>0.000000</td>\n",
       "      <td>0.000000</td>\n",
       "      <td>0.037759</td>\n",
       "      <td>0.032956</td>\n",
       "    </tr>\n",
       "  </tbody>\n",
       "</table>\n",
       "</div>"
      ],
      "text/plain": [
       "   customer_id  contract  paperless_billing  payment_method  monthly_ charges  \\\n",
       "0     0.079733  0.735659                1.0        0.000000          0.471144   \n",
       "1     0.049249  0.000000                0.0        0.000000          0.414428   \n",
       "2     0.032956  0.000000                1.0        0.452394          0.553731   \n",
       "\n",
       "   avg_monthly_long_distance_charges  total_charges  total_refunds  \\\n",
       "0                           0.847970       0.066294       0.000000   \n",
       "1                           0.213843       0.060420       0.769833   \n",
       "2                           0.673135       0.030239       0.000000   \n",
       "\n",
       "   total_extra_data_charges  total_long_distance_charges  total_revenue  \n",
       "0                  0.000000                     0.107024       0.079733  \n",
       "1                  0.066667                     0.026989       0.049249  \n",
       "2                  0.000000                     0.037759       0.032956  "
      ]
     },
     "execution_count": 21,
     "metadata": {},
     "output_type": "execute_result"
    }
   ],
   "source": [
    "df_min_max_scaled.head(3)"
   ]
  },
  {
   "cell_type": "code",
   "execution_count": 22,
   "metadata": {},
   "outputs": [],
   "source": [
    "# Robust Scaling (handles outliers better)\n",
    "robust_scaler = RobustScaler()\n",
    "df_robust_scaled = pd.DataFrame(robust_scaler.fit_transform(df), columns=df.columns)"
   ]
  },
  {
   "cell_type": "code",
   "execution_count": 23,
   "metadata": {},
   "outputs": [
    {
     "data": {
      "text/html": [
       "<div>\n",
       "<style scoped>\n",
       "    .dataframe tbody tr th:only-of-type {\n",
       "        vertical-align: middle;\n",
       "    }\n",
       "\n",
       "    .dataframe tbody tr th {\n",
       "        vertical-align: top;\n",
       "    }\n",
       "\n",
       "    .dataframe thead th {\n",
       "        text-align: right;\n",
       "    }\n",
       "</style>\n",
       "<table border=\"1\" class=\"dataframe\">\n",
       "  <thead>\n",
       "    <tr style=\"text-align: right;\">\n",
       "      <th></th>\n",
       "      <th>customer_id</th>\n",
       "      <th>contract</th>\n",
       "      <th>paperless_billing</th>\n",
       "      <th>payment_method</th>\n",
       "      <th>monthly_ charges</th>\n",
       "      <th>avg_monthly_long_distance_charges</th>\n",
       "      <th>total_charges</th>\n",
       "      <th>total_refunds</th>\n",
       "      <th>total_extra_data_charges</th>\n",
       "      <th>total_long_distance_charges</th>\n",
       "      <th>total_revenue</th>\n",
       "    </tr>\n",
       "  </thead>\n",
       "  <tbody>\n",
       "    <tr>\n",
       "      <th>0</th>\n",
       "      <td>974.81</td>\n",
       "      <td>3981.802781</td>\n",
       "      <td>3346.382426</td>\n",
       "      <td>1546.938251</td>\n",
       "      <td>65.6</td>\n",
       "      <td>42.39</td>\n",
       "      <td>593.30</td>\n",
       "      <td>0.00</td>\n",
       "      <td>0</td>\n",
       "      <td>381.51</td>\n",
       "      <td>974.81</td>\n",
       "    </tr>\n",
       "    <tr>\n",
       "      <th>1</th>\n",
       "      <td>610.28</td>\n",
       "      <td>1707.060449</td>\n",
       "      <td>2581.257169</td>\n",
       "      <td>1546.938251</td>\n",
       "      <td>59.9</td>\n",
       "      <td>10.69</td>\n",
       "      <td>542.40</td>\n",
       "      <td>38.33</td>\n",
       "      <td>10</td>\n",
       "      <td>96.21</td>\n",
       "      <td>610.28</td>\n",
       "    </tr>\n",
       "    <tr>\n",
       "      <th>2</th>\n",
       "      <td>415.45</td>\n",
       "      <td>1707.060449</td>\n",
       "      <td>3346.382426</td>\n",
       "      <td>2693.556617</td>\n",
       "      <td>73.9</td>\n",
       "      <td>33.65</td>\n",
       "      <td>280.85</td>\n",
       "      <td>0.00</td>\n",
       "      <td>0</td>\n",
       "      <td>134.60</td>\n",
       "      <td>415.45</td>\n",
       "    </tr>\n",
       "    <tr>\n",
       "      <th>3</th>\n",
       "      <td>1599.51</td>\n",
       "      <td>1707.060449</td>\n",
       "      <td>3346.382426</td>\n",
       "      <td>2693.556617</td>\n",
       "      <td>98.0</td>\n",
       "      <td>27.82</td>\n",
       "      <td>1237.85</td>\n",
       "      <td>0.00</td>\n",
       "      <td>0</td>\n",
       "      <td>361.66</td>\n",
       "      <td>1599.51</td>\n",
       "    </tr>\n",
       "    <tr>\n",
       "      <th>4</th>\n",
       "      <td>289.54</td>\n",
       "      <td>1707.060449</td>\n",
       "      <td>3346.382426</td>\n",
       "      <td>1546.938251</td>\n",
       "      <td>83.9</td>\n",
       "      <td>7.38</td>\n",
       "      <td>267.40</td>\n",
       "      <td>0.00</td>\n",
       "      <td>0</td>\n",
       "      <td>22.14</td>\n",
       "      <td>289.54</td>\n",
       "    </tr>\n",
       "  </tbody>\n",
       "</table>\n",
       "</div>"
      ],
      "text/plain": [
       "   customer_id     contract  paperless_billing  payment_method  \\\n",
       "0       974.81  3981.802781        3346.382426     1546.938251   \n",
       "1       610.28  1707.060449        2581.257169     1546.938251   \n",
       "2       415.45  1707.060449        3346.382426     2693.556617   \n",
       "3      1599.51  1707.060449        3346.382426     2693.556617   \n",
       "4       289.54  1707.060449        3346.382426     1546.938251   \n",
       "\n",
       "   monthly_ charges  avg_monthly_long_distance_charges  total_charges  \\\n",
       "0              65.6                              42.39         593.30   \n",
       "1              59.9                              10.69         542.40   \n",
       "2              73.9                              33.65         280.85   \n",
       "3              98.0                              27.82        1237.85   \n",
       "4              83.9                               7.38         267.40   \n",
       "\n",
       "   total_refunds  total_extra_data_charges  total_long_distance_charges  \\\n",
       "0           0.00                         0                       381.51   \n",
       "1          38.33                        10                        96.21   \n",
       "2           0.00                         0                       134.60   \n",
       "3           0.00                         0                       361.66   \n",
       "4           0.00                         0                        22.14   \n",
       "\n",
       "   total_revenue  \n",
       "0         974.81  \n",
       "1         610.28  \n",
       "2         415.45  \n",
       "3        1599.51  \n",
       "4         289.54  "
      ]
     },
     "execution_count": 23,
     "metadata": {},
     "output_type": "execute_result"
    }
   ],
   "source": [
    "df.head()"
   ]
  },
  {
   "cell_type": "code",
   "execution_count": 24,
   "metadata": {},
   "outputs": [
    {
     "data": {
      "text/html": [
       "<div>\n",
       "<style scoped>\n",
       "    .dataframe tbody tr th:only-of-type {\n",
       "        vertical-align: middle;\n",
       "    }\n",
       "\n",
       "    .dataframe tbody tr th {\n",
       "        vertical-align: top;\n",
       "    }\n",
       "\n",
       "    .dataframe thead th {\n",
       "        text-align: right;\n",
       "    }\n",
       "</style>\n",
       "<table border=\"1\" class=\"dataframe\">\n",
       "  <thead>\n",
       "    <tr style=\"text-align: right;\">\n",
       "      <th></th>\n",
       "      <th>customer_id</th>\n",
       "      <th>contract</th>\n",
       "      <th>paperless_billing</th>\n",
       "      <th>payment_method</th>\n",
       "      <th>monthly_ charges</th>\n",
       "      <th>avg_monthly_long_distance_charges</th>\n",
       "      <th>total_charges</th>\n",
       "      <th>total_refunds</th>\n",
       "      <th>total_extra_data_charges</th>\n",
       "      <th>total_long_distance_charges</th>\n",
       "      <th>total_revenue</th>\n",
       "    </tr>\n",
       "  </thead>\n",
       "  <tbody>\n",
       "    <tr>\n",
       "      <th>0</th>\n",
       "      <td>-0.270247</td>\n",
       "      <td>0.735659</td>\n",
       "      <td>0.0</td>\n",
       "      <td>-0.828743</td>\n",
       "      <td>-0.087397</td>\n",
       "      <td>0.717307</td>\n",
       "      <td>-0.236605</td>\n",
       "      <td>0.00</td>\n",
       "      <td>0.0</td>\n",
       "      <td>-0.017786</td>\n",
       "      <td>-0.270247</td>\n",
       "    </tr>\n",
       "    <tr>\n",
       "      <th>1</th>\n",
       "      <td>-0.357132</td>\n",
       "      <td>0.000000</td>\n",
       "      <td>-1.0</td>\n",
       "      <td>-0.828743</td>\n",
       "      <td>-0.192272</td>\n",
       "      <td>-0.448777</td>\n",
       "      <td>-0.251635</td>\n",
       "      <td>38.33</td>\n",
       "      <td>10.0</td>\n",
       "      <td>-0.272392</td>\n",
       "      <td>-0.357132</td>\n",
       "    </tr>\n",
       "    <tr>\n",
       "      <th>2</th>\n",
       "      <td>-0.403570</td>\n",
       "      <td>0.000000</td>\n",
       "      <td>0.0</td>\n",
       "      <td>0.000000</td>\n",
       "      <td>0.065317</td>\n",
       "      <td>0.395807</td>\n",
       "      <td>-0.328869</td>\n",
       "      <td>0.00</td>\n",
       "      <td>0.0</td>\n",
       "      <td>-0.238132</td>\n",
       "      <td>-0.403570</td>\n",
       "    </tr>\n",
       "    <tr>\n",
       "      <th>3</th>\n",
       "      <td>-0.121350</td>\n",
       "      <td>0.000000</td>\n",
       "      <td>0.0</td>\n",
       "      <td>0.000000</td>\n",
       "      <td>0.508740</td>\n",
       "      <td>0.181350</td>\n",
       "      <td>-0.046273</td>\n",
       "      <td>0.00</td>\n",
       "      <td>0.0</td>\n",
       "      <td>-0.035500</td>\n",
       "      <td>-0.121350</td>\n",
       "    </tr>\n",
       "    <tr>\n",
       "      <th>4</th>\n",
       "      <td>-0.433580</td>\n",
       "      <td>0.000000</td>\n",
       "      <td>0.0</td>\n",
       "      <td>-0.828743</td>\n",
       "      <td>0.249310</td>\n",
       "      <td>-0.570535</td>\n",
       "      <td>-0.332841</td>\n",
       "      <td>0.00</td>\n",
       "      <td>0.0</td>\n",
       "      <td>-0.338493</td>\n",
       "      <td>-0.433580</td>\n",
       "    </tr>\n",
       "  </tbody>\n",
       "</table>\n",
       "</div>"
      ],
      "text/plain": [
       "   customer_id  contract  paperless_billing  payment_method  monthly_ charges  \\\n",
       "0    -0.270247  0.735659                0.0       -0.828743         -0.087397   \n",
       "1    -0.357132  0.000000               -1.0       -0.828743         -0.192272   \n",
       "2    -0.403570  0.000000                0.0        0.000000          0.065317   \n",
       "3    -0.121350  0.000000                0.0        0.000000          0.508740   \n",
       "4    -0.433580  0.000000                0.0       -0.828743          0.249310   \n",
       "\n",
       "   avg_monthly_long_distance_charges  total_charges  total_refunds  \\\n",
       "0                           0.717307      -0.236605           0.00   \n",
       "1                          -0.448777      -0.251635          38.33   \n",
       "2                           0.395807      -0.328869           0.00   \n",
       "3                           0.181350      -0.046273           0.00   \n",
       "4                          -0.570535      -0.332841           0.00   \n",
       "\n",
       "   total_extra_data_charges  total_long_distance_charges  total_revenue  \n",
       "0                       0.0                    -0.017786      -0.270247  \n",
       "1                      10.0                    -0.272392      -0.357132  \n",
       "2                       0.0                    -0.238132      -0.403570  \n",
       "3                       0.0                    -0.035500      -0.121350  \n",
       "4                       0.0                    -0.338493      -0.433580  "
      ]
     },
     "execution_count": 24,
     "metadata": {},
     "output_type": "execute_result"
    }
   ],
   "source": [
    "df_robust_scaled.head()"
   ]
  },
  {
   "cell_type": "code",
   "execution_count": null,
   "metadata": {},
   "outputs": [],
   "source": []
  }
 ],
 "metadata": {
  "kernelspec": {
   "display_name": "Python 3",
   "language": "python",
   "name": "python3"
  },
  "language_info": {
   "codemirror_mode": {
    "name": "ipython",
    "version": 3
   },
   "file_extension": ".py",
   "mimetype": "text/x-python",
   "name": "python",
   "nbconvert_exporter": "python",
   "pygments_lexer": "ipython3",
   "version": "3.12.0"
  }
 },
 "nbformat": 4,
 "nbformat_minor": 2
}
