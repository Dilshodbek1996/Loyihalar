{
 "cells": [
  {
   "cell_type": "markdown",
   "metadata": {},
   "source": [
    "Home task for second lesson"
   ]
  },
  {
   "cell_type": "code",
   "execution_count": 2,
   "metadata": {},
   "outputs": [
    {
     "name": "stdout",
     "output_type": "stream",
     "text": [
      "6561\n"
     ]
    }
   ],
   "source": [
    "# ISTALGAN SONNI ISTALGAN DARAJASINI EKRANGA CHIQARING(TOPING)\n",
    "\n",
    "a=int(input(\"Sonni kriting: \"))\n",
    "b=int(input(\"Darajani kriting: \"))\n",
    "c=pow(a,b)\n",
    "print(c)"
   ]
  },
  {
   "cell_type": "code",
   "execution_count": 2,
   "metadata": {},
   "outputs": [
    {
     "name": "stdout",
     "output_type": "stream",
     "text": [
      "<class 'str'>\n",
      "<class 'int'>\n",
      "<class 'float'>\n",
      "<class 'bool'>\n"
     ]
    }
   ],
   "source": [
    "#O'tilgan 4 turdagi data typelar yarating va ularni xaqiqatdan o'sha data typega mansub ekanligini ko'rsating\n",
    "\n",
    "name=(\"Dilshodbek\")\n",
    "age=28\n",
    "weight=64.8\n",
    "is_new_coder=True\n",
    "print(type(name))\n",
    "print(type(age))\n",
    "print(type(weight))\n",
    "print(type(is_new_coder))\n",
    "      "
   ]
  },
  {
   "cell_type": "code",
   "execution_count": 6,
   "metadata": {},
   "outputs": [
    {
     "name": "stdout",
     "output_type": "stream",
     "text": [
      "Python for beginne\n"
     ]
    }
   ],
   "source": [
    "#Berilgan stringni boshi va oxirdan 2chi da turgan xarflardan iborat so'z xosil qiling\n",
    "\n",
    "words=\" Python for beginners\"\n",
    "print(words[1:19])"
   ]
  },
  {
   "cell_type": "code",
   "execution_count": 9,
   "metadata": {},
   "outputs": [
    {
     "name": "stdout",
     "output_type": "stream",
     "text": [
      "Berilgan ikki xonali sonning raqamalari yig'indisi: 15  \n"
     ]
    }
   ],
   "source": [
    "#Ikki xonali sonning raqamlar yig'indisini toping(ixtiyoriy: Xarakat qilib ko'ring)\n",
    "\n",
    "x=78 # ikki xonali sonni x deb belgilasak\n",
    "x=7*10+8 # ikki xonali sonni ifodalashda quyidagi formulaga ko'ra x=10*a+b bunda a=7 va be=8\n",
    "y=(x//10)+(x%10)# x//10 bu amal  bo'linmaning butun qismini oladi x%10 bu ese qoldiq qisminigina oladi\n",
    "print(f\"Berilgan ikki xonali sonning raqamalari yig'indisi: {y}  \")\n"
   ]
  },
  {
   "cell_type": "code",
   "execution_count": 10,
   "metadata": {},
   "outputs": [
    {
     "name": "stdout",
     "output_type": "stream",
     "text": [
      "MICHA\n"
     ]
    }
   ],
   "source": [
    "#String yarating va uni boshidan 4 ta xarfidan iborat so'z xosil qiling\n",
    "\n",
    "full_name=\"MICHAEL SCOFIEID\"\n",
    "print(full_name[:5])"
   ]
  },
  {
   "cell_type": "code",
   "execution_count": 11,
   "metadata": {},
   "outputs": [
    {
     "name": "stdout",
     "output_type": "stream",
     "text": [
      "Bo'linuchini bo'luvchiga bo'lganimizdagi qoldiq son: 6 \n"
     ]
    }
   ],
   "source": [
    "#Berilgan sonni berilgan boshqa songa bo'lganimizdagi qoldiqni toping\n",
    "\n",
    "k=int(input(\"Bo'linuvchini kiriting: \")) # 78\n",
    "n=int(input(\"Bo'luvchini kiriting: \"))   # 9\n",
    "m=k%n                                    # 78/9=9*8+6  (6-bu qoldiq son)\n",
    "print(f\"Bo'linuchini bo'luvchiga bo'lganimizdagi qoldiq son: {m} \")\n"
   ]
  }
 ],
 "metadata": {
  "kernelspec": {
   "display_name": "Python 3",
   "language": "python",
   "name": "python3"
  },
  "language_info": {
   "codemirror_mode": {
    "name": "ipython",
    "version": 3
   },
   "file_extension": ".py",
   "mimetype": "text/x-python",
   "name": "python",
   "nbconvert_exporter": "python",
   "pygments_lexer": "ipython3",
   "version": "3.12.0"
  }
 },
 "nbformat": 4,
 "nbformat_minor": 2
}
