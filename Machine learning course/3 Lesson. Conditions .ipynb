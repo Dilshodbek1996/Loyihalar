{
 "cells": [
  {
   "cell_type": "markdown",
   "metadata": {},
   "source": [
    "Conditions if,elif,else\n",
    " Home task\n",
    " "
   ]
  },
  {
   "cell_type": "code",
   "execution_count": 3,
   "metadata": {},
   "outputs": [
    {
     "name": "stdout",
     "output_type": "stream",
     "text": [
      "Oh sorry. Please try again.\n"
     ]
    }
   ],
   "source": [
    "# Parol yasang va u to'g'ri bo'lsa mumkin aks xolda xato!Qayta urunib ko'ring degan yozuvni ekranga chiqaring\n",
    "\n",
    "new_parol=int(input(\"Enter your parol: \"))\n",
    "if new_parol==221196.:\n",
    "    print(\"Correct! You can Enter \")\n",
    "else:\n",
    "    print(\"Oh sorry. Please try again.\")   \n",
    "\n"
   ]
  },
  {
   "cell_type": "code",
   "execution_count": 6,
   "metadata": {},
   "outputs": [
    {
     "name": "stdout",
     "output_type": "stream",
     "text": [
      "Very well!\n"
     ]
    }
   ],
   "source": [
    "# O'quvchini olgan baxolariga ko'ra tarif bering(5:Alo, 4:Yaxshi, 3: O'rta, 2: Yomon)\n",
    "\n",
    "mark_student=int(input(\"Enter mark of student:   (5, 4, 3, 2)\"))\n",
    "if mark_student==5:\n",
    "    print(\"Very well!\")\n",
    "elif mark_student==4:\n",
    "    print(\"Good!\")\n",
    "elif mark_student==3:\n",
    "    print(\"Not bad!\")\n",
    "elif mark_student==2:\n",
    "    print(\"very bad\")\n",
    "else:\n",
    "    print(\"Plese enter aviable marks!\")     \n",
    "                 \n",
    "\n"
   ]
  },
  {
   "cell_type": "code",
   "execution_count": 8,
   "metadata": {},
   "outputs": [
    {
     "name": "stdout",
     "output_type": "stream",
     "text": [
      "False Please try again \n"
     ]
    }
   ],
   "source": [
    "# Agar son xam 2 ga xam 3 ga bo'linishini ko'rsating(BOoleandan foydalaning)\n",
    "\n",
    "a=int(input(\"Please write any number: \"))\n",
    "if a%2==0 and a%3==0:\n",
    "    print(\"Correct you found!\")\n",
    "elif a%2==0 and a%3!=0:\n",
    "    print(\"False Please try again \")\n",
    "else:\n",
    "    print(\"Oh sorry. You couldn't find.\")    "
   ]
  },
  {
   "cell_type": "code",
   "execution_count": 9,
   "metadata": {},
   "outputs": [
    {
     "name": "stdout",
     "output_type": "stream",
     "text": [
      "Kechirasiz Xatolik aniqlandi\n"
     ]
    }
   ],
   "source": [
    "# Agar son xam 2 ga xam 3 ga bo'linsa ekranga 6 ga karrali son deb chiqaring aks  xolda xatolik bor deb ekranga chiqaring \n",
    "\n",
    "a=int(input(\"Biron bir son kiriting: \"))\n",
    "if a%2==0 and a%3==0:\n",
    "    print(\"6 ga karrali son\")\n",
    "else:\n",
    "    print(\"Kechirasiz Xatolik aniqlandi\")\n",
    "\n"
   ]
  }
 ],
 "metadata": {
  "kernelspec": {
   "display_name": "Python 3",
   "language": "python",
   "name": "python3"
  },
  "language_info": {
   "codemirror_mode": {
    "name": "ipython",
    "version": 3
   },
   "file_extension": ".py",
   "mimetype": "text/x-python",
   "name": "python",
   "nbconvert_exporter": "python",
   "pygments_lexer": "ipython3",
   "version": "3.12.0"
  }
 },
 "nbformat": 4,
 "nbformat_minor": 2
}
