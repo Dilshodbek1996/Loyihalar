{
 "cells": [
  {
   "cell_type": "markdown",
   "metadata": {},
   "source": [
    "# Some diffirence between list and set data__stuctures"
   ]
  },
  {
   "cell_type": "code",
   "execution_count": 4,
   "metadata": {},
   "outputs": [
    {
     "data": {
      "text/plain": [
       "[3, 1, -5, 98]"
      ]
     },
     "execution_count": 4,
     "metadata": {},
     "output_type": "execute_result"
    }
   ],
   "source": [
    "a_list=[3,1,-5,98]\n",
    "a_list # qanday berilgan bo'lsa shunday chiqaradi (tartiblamaydi)\n"
   ]
  },
  {
   "cell_type": "code",
   "execution_count": 5,
   "metadata": {},
   "outputs": [
    {
     "data": {
      "text/plain": [
       "{-5, 1, 3, 98}"
      ]
     },
     "execution_count": 5,
     "metadata": {},
     "output_type": "execute_result"
    }
   ],
   "source": [
    "a_set={3,1,-5,98}\n",
    "a_set # eng kichigidan eng kattasiga qarab tartiblab chiqaradi"
   ]
  },
  {
   "cell_type": "code",
   "execution_count": 11,
   "metadata": {},
   "outputs": [
    {
     "data": {
      "text/plain": [
       "[0, 76, True, -2, 0, 'ok', 3, -2, 0, 39, 'ok']"
      ]
     },
     "execution_count": 11,
     "metadata": {},
     "output_type": "execute_result"
    }
   ],
   "source": [
    "a_list=[0,76,True,-2,0,\"ok\",3,-2,0,39,\"ok\"] # # qanday berilgan bo'lsa shunday chiqaradi (duplicated elementlarni tozalamaydi)\n",
    "a_list"
   ]
  },
  {
   "cell_type": "code",
   "execution_count": 12,
   "metadata": {},
   "outputs": [
    {
     "data": {
      "text/plain": [
       "{-2, 0, 3, 39, 76, True, 'ok'}"
      ]
     },
     "execution_count": 12,
     "metadata": {},
     "output_type": "execute_result"
    }
   ],
   "source": [
    "a_set={0,76,True,-2,0,\"ok\",3,-2,0,39,\"ok\"} \n",
    "a_set # nafaqat tartiblaydi balki duplicated elementlarni ham tozalaydi #va data type larni ham tartib bilan chiqaradi"
   ]
  },
  {
   "cell_type": "code",
   "execution_count": 19,
   "metadata": {},
   "outputs": [
    {
     "data": {
      "text/plain": [
       "[34, -8.9, 2, 8.6, 7]"
      ]
     },
     "execution_count": 19,
     "metadata": {},
     "output_type": "execute_result"
    }
   ],
   "source": [
    "a_list=[34,-8.9,2,8.6]\n",
    "a_list.append(7) # 'append' va 'add' bir xil amalni bajaradi lekin listda oxiridan qo'shadi\n",
    "a_list"
   ]
  },
  {
   "cell_type": "code",
   "execution_count": 21,
   "metadata": {},
   "outputs": [
    {
     "data": {
      "text/plain": [
       "{-8.9, 2, 7, 8.6, 34}"
      ]
     },
     "execution_count": 21,
     "metadata": {},
     "output_type": "execute_result"
    }
   ],
   "source": [
    "a_set={34,-8.9,2,8.6}\n",
    "a_set.add(7) # qo'shilmoqchi bo'lgan element o'zining tartibli joyidan qo'shiladi\n",
    "a_set"
   ]
  },
  {
   "cell_type": "code",
   "execution_count": 27,
   "metadata": {},
   "outputs": [
    {
     "data": {
      "text/plain": [
       "[-8.9, 2, 8.6, 7]"
      ]
     },
     "execution_count": 27,
     "metadata": {},
     "output_type": "execute_result"
    }
   ],
   "source": [
    "a_list.remove(34) # same\n",
    "a_list"
   ]
  },
  {
   "cell_type": "code",
   "execution_count": 28,
   "metadata": {},
   "outputs": [
    {
     "data": {
      "text/plain": [
       "{-8.9, 2, 7, 8.6}"
      ]
     },
     "execution_count": 28,
     "metadata": {},
     "output_type": "execute_result"
    }
   ],
   "source": [
    "a_set.remove(34) # same\n",
    "a_set"
   ]
  },
  {
   "cell_type": "code",
   "execution_count": 33,
   "metadata": {},
   "outputs": [
    {
     "data": {
      "text/plain": [
       "{-8.9, 2, 8.6}"
      ]
     },
     "execution_count": 33,
     "metadata": {},
     "output_type": "execute_result"
    }
   ],
   "source": [
    "a_set.discard(7) # faqat set data_structure da \"remove\"=\"discard\"\n",
    "a_set"
   ]
  },
  {
   "cell_type": "code",
   "execution_count": 40,
   "metadata": {},
   "outputs": [
    {
     "data": {
      "text/plain": [
       "[7, 9, 10, 2, 8.6]"
      ]
     },
     "execution_count": 40,
     "metadata": {},
     "output_type": "execute_result"
    }
   ],
   "source": [
    "a_list=[7,9,10,2,8.6]\n",
    "a_list"
   ]
  },
  {
   "cell_type": "code",
   "execution_count": 41,
   "metadata": {},
   "outputs": [
    {
     "data": {
      "text/plain": [
       "[7, 9, 10, 2]"
      ]
     },
     "execution_count": 41,
     "metadata": {},
     "output_type": "execute_result"
    }
   ],
   "source": [
    "a_list.pop() # oxirida turgan elementni olib tashlaydi\n",
    "a_list"
   ]
  },
  {
   "cell_type": "code",
   "execution_count": 42,
   "metadata": {},
   "outputs": [
    {
     "data": {
      "text/plain": [
       "{2, 7, 8.6, 9, 10}"
      ]
     },
     "execution_count": 42,
     "metadata": {},
     "output_type": "execute_result"
    }
   ],
   "source": [
    "a_set={7,9,10,2,8.6}\n",
    "a_set"
   ]
  },
  {
   "cell_type": "code",
   "execution_count": 43,
   "metadata": {},
   "outputs": [
    {
     "data": {
      "text/plain": [
       "{7, 8.6, 9, 10}"
      ]
     },
     "execution_count": 43,
     "metadata": {},
     "output_type": "execute_result"
    }
   ],
   "source": [
    "a_set.pop() # boshida turgan elementni olib tashlaydi\n",
    "a_set"
   ]
  },
  {
   "cell_type": "markdown",
   "metadata": {},
   "source": [
    "# Set data_structure ustida amallar"
   ]
  },
  {
   "cell_type": "code",
   "execution_count": 62,
   "metadata": {},
   "outputs": [
    {
     "data": {
      "text/plain": [
       "{-4, 2, 6, 7, 8, 9, 10}"
      ]
     },
     "execution_count": 62,
     "metadata": {},
     "output_type": "execute_result"
    }
   ],
   "source": [
    "m={-4,2,9,10}\n",
    "n={6,7,8}\n",
    "m.union(n) # ikkala setda ham  bor barcha elementlarni ekranga chiqarish"
   ]
  },
  {
   "cell_type": "code",
   "execution_count": 63,
   "metadata": {},
   "outputs": [
    {
     "data": {
      "text/plain": [
       "{-4, 2, 7}"
      ]
     },
     "execution_count": 63,
     "metadata": {},
     "output_type": "execute_result"
    }
   ],
   "source": [
    "m={-4,2,9,10,7}\n",
    "n={6,7,8,2,-4}\n",
    "k=m.intersection(n) # faqat ikkila set da ham bor elementlarni tanlab ekranga chiqarish\n",
    "k"
   ]
  },
  {
   "cell_type": "code",
   "execution_count": 64,
   "metadata": {},
   "outputs": [
    {
     "data": {
      "text/plain": [
       "{9, 10}"
      ]
     },
     "execution_count": 64,
     "metadata": {},
     "output_type": "execute_result"
    }
   ],
   "source": [
    "m={-4,2,9,10,7}\n",
    "n={6,7,8,2,-4}\n",
    "r=m.difference(n) # m nomli setni n nomli setdan farqini ya'ni m da bor element va n da yo'q elementlarni ekeranga chiqarish\n",
    "r"
   ]
  },
  {
   "cell_type": "code",
   "execution_count": 65,
   "metadata": {},
   "outputs": [
    {
     "data": {
      "text/plain": [
       "{6, 8}"
      ]
     },
     "execution_count": 65,
     "metadata": {},
     "output_type": "execute_result"
    }
   ],
   "source": [
    "m={-4,2,9,10,7}\n",
    "n={6,7,8,2,-4}\n",
    "c=n.difference(m) # n nomli setni m nomli setdan farqini ya'ni n da bor element va m da yo'q elementlarni ekeranga chiqarish\n",
    "c"
   ]
  },
  {
   "cell_type": "code",
   "execution_count": 67,
   "metadata": {},
   "outputs": [
    {
     "data": {
      "text/plain": [
       "False"
      ]
     },
     "execution_count": 67,
     "metadata": {},
     "output_type": "execute_result"
    }
   ],
   "source": [
    "m={-4,2,9,10,7}\n",
    "n={7,2,-4}\n",
    "m.issubset(n) # m da bor barcha element n da ham bor bo'lsa \"True\" ni chiqaradi aks xolda \"False\" ni\n",
    "\n"
   ]
  },
  {
   "cell_type": "code",
   "execution_count": 69,
   "metadata": {},
   "outputs": [
    {
     "data": {
      "text/plain": [
       "True"
      ]
     },
     "execution_count": 69,
     "metadata": {},
     "output_type": "execute_result"
    }
   ],
   "source": [
    "m={-4,2,9,10,7}\n",
    "n={7,2,-4}\n",
    "n.issubset(m) # n da bor barcha element m da ham bor bo'lsa \"True\" ni chiqaradi aks xolda \"False\" ni\n",
    "\n",
    "\n"
   ]
  },
  {
   "cell_type": "code",
   "execution_count": 70,
   "metadata": {},
   "outputs": [
    {
     "data": {
      "text/plain": [
       "False"
      ]
     },
     "execution_count": 70,
     "metadata": {},
     "output_type": "execute_result"
    }
   ],
   "source": [
    "m={-4,2,9,10,7}\n",
    "n={7,2,-4}\n",
    "m.isdisjoint(n) # ikkala set ham butunlay boshqa elementlardan tuzilsa \"True\" ni ekranga chiqaradi aks xolda \"False\" ni"
   ]
  },
  {
   "cell_type": "code",
   "execution_count": 71,
   "metadata": {},
   "outputs": [
    {
     "data": {
      "text/plain": [
       "False"
      ]
     },
     "execution_count": 71,
     "metadata": {},
     "output_type": "execute_result"
    }
   ],
   "source": [
    "m={-4,2,9,10,7}\n",
    "n={7,2,-4}\n",
    "n.isdisjoint(m) # ikkala set ham butunlay boshqa elementlardan tuzilsa \"True\" ni ekranga chiqaradi aks xolda \"False\" ni"
   ]
  },
  {
   "cell_type": "code",
   "execution_count": 72,
   "metadata": {},
   "outputs": [
    {
     "data": {
      "text/plain": [
       "True"
      ]
     },
     "execution_count": 72,
     "metadata": {},
     "output_type": "execute_result"
    }
   ],
   "source": [
    "m={3,5,7,9}\n",
    "n={2,4,6,8}\n",
    "m.isdisjoint(n) # m dagi elementlarni birontasi ham n da yo'q shuning uchun \"True\" ni chiqardi"
   ]
  },
  {
   "cell_type": "code",
   "execution_count": 74,
   "metadata": {},
   "outputs": [
    {
     "data": {
      "text/plain": [
       "True"
      ]
     },
     "execution_count": 74,
     "metadata": {},
     "output_type": "execute_result"
    }
   ],
   "source": [
    "m={3,5,7,9}\n",
    "n={2,4,6,8}\n",
    "n.isdisjoint(m) # n dagi elementlarni ham birontasi  m da yo'q shuning uchun \"True\" ni chiqardi"
   ]
  }
 ],
 "metadata": {
  "kernelspec": {
   "display_name": "Python 3",
   "language": "python",
   "name": "python3"
  },
  "language_info": {
   "codemirror_mode": {
    "name": "ipython",
    "version": 3
   },
   "file_extension": ".py",
   "mimetype": "text/x-python",
   "name": "python",
   "nbconvert_exporter": "python",
   "pygments_lexer": "ipython3",
   "version": "3.12.0"
  }
 },
 "nbformat": 4,
 "nbformat_minor": 2
}
