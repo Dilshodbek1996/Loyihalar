{
 "cells": [
  {
   "cell_type": "markdown",
   "metadata": {},
   "source": [
    "# Tuble Data_Structure"
   ]
  },
  {
   "cell_type": "code",
   "execution_count": 3,
   "metadata": {},
   "outputs": [
    {
     "name": "stdout",
     "output_type": "stream",
     "text": [
      "(987, 12, 300)\n",
      "(2, -7, 6.3, 2, 6.3, False, 'Good')\n"
     ]
    }
   ],
   "source": [
    "# Creating tuple data_structure\n",
    "\n",
    "my_tuple=(987,12,300)\n",
    "mix_tuple=(2,-7,6.3,2,6.3,False,\"Good\") # just same with list. Not clean duplicate, not arrange elements\n",
    "print(my_tuple)\n",
    "print(mix_tuple)"
   ]
  },
  {
   "cell_type": "markdown",
   "metadata": {},
   "source": []
  },
  {
   "cell_type": "code",
   "execution_count": 5,
   "metadata": {},
   "outputs": [
    {
     "name": "stdout",
     "output_type": "stream",
     "text": [
      "300\n",
      "6.3\n"
     ]
    }
   ],
   "source": [
    "# checking with idex in tuple\n",
    "\n",
    "my_tuple=(987,12,300)\n",
    "mix_tuple=(2,-7,6.3,2,6.3,False,\"Good\")\n",
    "print(my_tuple[2])\n",
    "print(mix_tuple[-3])"
   ]
  },
  {
   "cell_type": "code",
   "execution_count": 8,
   "metadata": {},
   "outputs": [
    {
     "name": "stdout",
     "output_type": "stream",
     "text": [
      "('Great',)\n",
      "<class 'tuple'>\n"
     ]
    }
   ],
   "source": [
    "# Creating single tuple\n",
    "\n",
    "single_t=(\"Great\",)\n",
    "print(single_t)\n",
    "print(type(single_t))"
   ]
  },
  {
   "cell_type": "code",
   "execution_count": 17,
   "metadata": {},
   "outputs": [
    {
     "name": "stdout",
     "output_type": "stream",
     "text": [
      "[8, 7, 6, 5]\n",
      "<class 'list'>\n",
      "(4, 3, 2, 1)\n",
      "<class 'tuple'>\n",
      "(0, -3, -1, -2)\n",
      "<class 'tuple'>\n"
     ]
    }
   ],
   "source": [
    "# changing type of data_stucture (from tuple to list or from list to tuple)\n",
    "\n",
    "t=(8,7,6,5)\n",
    "n=list(tuple(t))\n",
    "print(n)\n",
    "print(type(l))\n",
    "\n",
    "l=[4,3,2,1]\n",
    "m=tuple(list(l))\n",
    "print(m)\n",
    "print(type(m))\n",
    "\n",
    "\n",
    "s={0,-1,-2,-3}\n",
    "k=tuple(set(s))\n",
    "print(k)\n",
    "print(type(k))\n",
    "\n",
    "\n"
   ]
  },
  {
   "cell_type": "code",
   "execution_count": 11,
   "metadata": {},
   "outputs": [
    {
     "name": "stdout",
     "output_type": "stream",
     "text": [
      "(9, 8, 7, 6, 5, 4, 3, 2, 1)\n"
     ]
    }
   ],
   "source": [
    "# Adding new elements to tuple\n",
    "c=(9,8,7,6)\n",
    "d=(5,4,3,2,1)\n",
    "print(c+d)\n"
   ]
  },
  {
   "cell_type": "code",
   "execution_count": 13,
   "metadata": {},
   "outputs": [
    {
     "data": {
      "text/plain": [
       "(0, 1, 2, 3, 4)"
      ]
     },
     "execution_count": 13,
     "metadata": {},
     "output_type": "execute_result"
    }
   ],
   "source": [
    "# adding just new single element\n",
    "\n",
    "a=(0,1,2,3)\n",
    "b=(4,)\n",
    "a+b"
   ]
  },
  {
   "cell_type": "code",
   "execution_count": 15,
   "metadata": {},
   "outputs": [
    {
     "name": "stdout",
     "output_type": "stream",
     "text": [
      "(9, 8, 4, 3, 2, 1)\n"
     ]
    }
   ],
   "source": [
    "# Delating any elements from tuple\n",
    "\n",
    "c=(9,8,7,6)\n",
    "d=(5,4,3,2,1)\n",
    "f=c[:2]+d[1:] # c tuple dan 2_indeksgacha bo'lgan elementlar tanlab olindi ya'ni 9 va 8 d dan 1-indeksdan keyingi barcha elementlar tanlab olindi va qo'shildi\n",
    "print(f)"
   ]
  },
  {
   "cell_type": "code",
   "execution_count": 39,
   "metadata": {},
   "outputs": [
    {
     "name": "stdout",
     "output_type": "stream",
     "text": [
      "Mean Squared Error: 15.800000000000363%\n"
     ]
    }
   ],
   "source": [
    "# Predict bo'lgan qiymatlar orginal qiymatlarga juda yaqin bo'lgan xollarda\n",
    "\n",
    "y=[124,145,167,207,215]\n",
    "y_p=[123.6,144.4,167.3,206.7,215.3]\n",
    "n=5\n",
    "\n",
    "mse=(pow((124-123.6),2)+pow((145-144.4),2)+pow((167-167.3),2)+pow((207-206.7),2)+pow((215-215.3),2))/n\n",
    "print(f\"Mean Squared Error: {mse}\")"
   ]
  },
  {
   "cell_type": "code",
   "execution_count": 40,
   "metadata": {},
   "outputs": [
    {
     "name": "stdout",
     "output_type": "stream",
     "text": [
      "Mean Squered Error: 8105.358\n"
     ]
    }
   ],
   "source": [
    "# Predict bo'lgan qiymatlar orginal qiymatlardan anchaga farq bo'lgan xollarda\n",
    "\n",
    "y=[124,145,167,207,215]\n",
    "y_p=[223.6,194.4,267.3,296.7,315.3]\n",
    "n=5\n",
    "\n",
    "mse=(pow((124-223.6),2)+pow((145-194.4),2)+pow((167-267.3),2)+pow((207-296.7),2)+pow((215-315.3),2))/n\n",
    "print(f\"Mean Squered Error: {mse}\")"
   ]
  },
  {
   "cell_type": "code",
   "execution_count": 41,
   "metadata": {},
   "outputs": [
    {
     "name": "stdout",
     "output_type": "stream",
     "text": [
      "R2 Score:99.9871150835073%\n"
     ]
    }
   ],
   "source": [
    "# Predict bo'lgan qiymatlar bilan orginal bo'lgan qiymatlar orasida farq juda kichik bo'lganda\n",
    "\n",
    "y=[124,145,167,207,215]\n",
    "y_p=[123.6,144.4,167.3,206.7,215.3]\n",
    "\n",
    "y_mean=(124+145+167+207+215)/5\n",
    "SS_res=pow((124-123.6),2)+pow((145-144.4),2)+pow((167-167.3),2)+pow((207-206.7),2)+pow((215-215.3),2)\n",
    "SS_tot=pow((124-y_mean),2)+pow((145-y_mean),2)+pow((167-y_mean),2)+pow((207-y_mean),2)+pow((215-y_mean),2)\n",
    "\n",
    "R2=1-(SS_res/SS_tot)\n",
    "print(f\"R2 Score:{R2*100}%\")\n"
   ]
  },
  {
   "cell_type": "code",
   "execution_count": 42,
   "metadata": {},
   "outputs": [
    {
     "name": "stdout",
     "output_type": "stream",
     "text": [
      "R2 Score:-560.9927909707725%\n"
     ]
    }
   ],
   "source": [
    "# Predict bo'lgan qiymatlar bilan orginal bo'lgan qiymatlar orasida farq juda kichik bo'lganda\n",
    "\n",
    "y=[124,145,167,207,215]\n",
    "y_p=[223.6,194.4,267.3,296.7,315.3]\n",
    "\n",
    "y_mean=(124+145+167+207+215)/5\n",
    "SS_res=pow((124-223.6),2)+pow((145-194.4),2)+pow((167-267.3),2)+pow((207-296.7),2)+pow((215-315.3),2)\n",
    "SS_tot=pow((124-y_mean),2)+pow((145-y_mean),2)+pow((167-y_mean),2)+pow((207-y_mean),2)+pow((215-y_mean),2)\n",
    "\n",
    "R2=1-(SS_res/SS_tot)\n",
    "print(f\"R2 Score:{R2*100}%\")"
   ]
  }
 ],
 "metadata": {
  "kernelspec": {
   "display_name": "Python 3",
   "language": "python",
   "name": "python3"
  },
  "language_info": {
   "codemirror_mode": {
    "name": "ipython",
    "version": 3
   },
   "file_extension": ".py",
   "mimetype": "text/x-python",
   "name": "python",
   "nbconvert_exporter": "python",
   "pygments_lexer": "ipython3",
   "version": "3.12.0"
  }
 },
 "nbformat": 4,
 "nbformat_minor": 2
}
