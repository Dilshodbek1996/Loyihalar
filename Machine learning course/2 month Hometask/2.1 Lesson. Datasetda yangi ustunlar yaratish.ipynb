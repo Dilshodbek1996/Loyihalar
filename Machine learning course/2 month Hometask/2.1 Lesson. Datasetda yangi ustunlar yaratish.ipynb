{
 "cells": [
  {
   "cell_type": "code",
   "execution_count": 1,
   "metadata": {},
   "outputs": [],
   "source": [
    "import pandas as pd"
   ]
  },
  {
   "cell_type": "code",
   "execution_count": 2,
   "metadata": {},
   "outputs": [],
   "source": [
    "df=pd.read_csv(\"london_houses.csv\")"
   ]
  },
  {
   "cell_type": "code",
   "execution_count": 3,
   "metadata": {},
   "outputs": [
    {
     "data": {
      "text/html": [
       "<div>\n",
       "<style scoped>\n",
       "    .dataframe tbody tr th:only-of-type {\n",
       "        vertical-align: middle;\n",
       "    }\n",
       "\n",
       "    .dataframe tbody tr th {\n",
       "        vertical-align: top;\n",
       "    }\n",
       "\n",
       "    .dataframe thead th {\n",
       "        text-align: right;\n",
       "    }\n",
       "</style>\n",
       "<table border=\"1\" class=\"dataframe\">\n",
       "  <thead>\n",
       "    <tr style=\"text-align: right;\">\n",
       "      <th></th>\n",
       "      <th>Address</th>\n",
       "      <th>Neighborhood</th>\n",
       "      <th>Bedrooms</th>\n",
       "      <th>Bathrooms</th>\n",
       "      <th>Square Meters</th>\n",
       "      <th>Building Age</th>\n",
       "      <th>Garden</th>\n",
       "      <th>Garage</th>\n",
       "      <th>Floors</th>\n",
       "      <th>Property Type</th>\n",
       "      <th>Heating Type</th>\n",
       "      <th>Balcony</th>\n",
       "      <th>Interior Style</th>\n",
       "      <th>View</th>\n",
       "      <th>Materials</th>\n",
       "      <th>Building Status</th>\n",
       "      <th>Price (£)</th>\n",
       "    </tr>\n",
       "  </thead>\n",
       "  <tbody>\n",
       "    <tr>\n",
       "      <th>0</th>\n",
       "      <td>78 Regent Street</td>\n",
       "      <td>Notting Hill</td>\n",
       "      <td>2</td>\n",
       "      <td>3</td>\n",
       "      <td>179</td>\n",
       "      <td>72</td>\n",
       "      <td>No</td>\n",
       "      <td>No</td>\n",
       "      <td>3</td>\n",
       "      <td>Semi-Detached</td>\n",
       "      <td>Electric Heating</td>\n",
       "      <td>High-level Balcony</td>\n",
       "      <td>Industrial</td>\n",
       "      <td>Garden</td>\n",
       "      <td>Marble</td>\n",
       "      <td>Renovated</td>\n",
       "      <td>2291200</td>\n",
       "    </tr>\n",
       "    <tr>\n",
       "      <th>1</th>\n",
       "      <td>198 Oxford Street</td>\n",
       "      <td>Westminster</td>\n",
       "      <td>2</td>\n",
       "      <td>1</td>\n",
       "      <td>123</td>\n",
       "      <td>34</td>\n",
       "      <td>Yes</td>\n",
       "      <td>No</td>\n",
       "      <td>1</td>\n",
       "      <td>Apartment</td>\n",
       "      <td>Central Heating</td>\n",
       "      <td>High-level Balcony</td>\n",
       "      <td>Industrial</td>\n",
       "      <td>City</td>\n",
       "      <td>Laminate Flooring</td>\n",
       "      <td>Old</td>\n",
       "      <td>1476000</td>\n",
       "    </tr>\n",
       "    <tr>\n",
       "      <th>2</th>\n",
       "      <td>18 Regent Street</td>\n",
       "      <td>Soho</td>\n",
       "      <td>5</td>\n",
       "      <td>3</td>\n",
       "      <td>168</td>\n",
       "      <td>38</td>\n",
       "      <td>No</td>\n",
       "      <td>Yes</td>\n",
       "      <td>3</td>\n",
       "      <td>Semi-Detached</td>\n",
       "      <td>Central Heating</td>\n",
       "      <td>No Balcony</td>\n",
       "      <td>Industrial</td>\n",
       "      <td>Street</td>\n",
       "      <td>Wood</td>\n",
       "      <td>Renovated</td>\n",
       "      <td>1881600</td>\n",
       "    </tr>\n",
       "  </tbody>\n",
       "</table>\n",
       "</div>"
      ],
      "text/plain": [
       "             Address  Neighborhood  Bedrooms  Bathrooms  Square Meters  \\\n",
       "0   78 Regent Street  Notting Hill         2          3            179   \n",
       "1  198 Oxford Street   Westminster         2          1            123   \n",
       "2   18 Regent Street          Soho         5          3            168   \n",
       "\n",
       "   Building Age Garden Garage  Floors  Property Type      Heating Type  \\\n",
       "0            72     No     No       3  Semi-Detached  Electric Heating   \n",
       "1            34    Yes     No       1      Apartment   Central Heating   \n",
       "2            38     No    Yes       3  Semi-Detached   Central Heating   \n",
       "\n",
       "              Balcony Interior Style    View          Materials  \\\n",
       "0  High-level Balcony     Industrial  Garden             Marble   \n",
       "1  High-level Balcony     Industrial    City  Laminate Flooring   \n",
       "2          No Balcony     Industrial  Street               Wood   \n",
       "\n",
       "  Building Status  Price (£)  \n",
       "0       Renovated    2291200  \n",
       "1             Old    1476000  \n",
       "2       Renovated    1881600  "
      ]
     },
     "execution_count": 3,
     "metadata": {},
     "output_type": "execute_result"
    }
   ],
   "source": [
    "df.head(3)"
   ]
  },
  {
   "cell_type": "code",
   "execution_count": 4,
   "metadata": {},
   "outputs": [
    {
     "name": "stdout",
     "output_type": "stream",
     "text": [
      "<class 'pandas.core.frame.DataFrame'>\n",
      "RangeIndex: 1000 entries, 0 to 999\n",
      "Data columns (total 17 columns):\n",
      " #   Column           Non-Null Count  Dtype \n",
      "---  ------           --------------  ----- \n",
      " 0   Address          1000 non-null   object\n",
      " 1   Neighborhood     1000 non-null   object\n",
      " 2   Bedrooms         1000 non-null   int64 \n",
      " 3   Bathrooms        1000 non-null   int64 \n",
      " 4   Square Meters    1000 non-null   int64 \n",
      " 5   Building Age     1000 non-null   int64 \n",
      " 6   Garden           1000 non-null   object\n",
      " 7   Garage           1000 non-null   object\n",
      " 8   Floors           1000 non-null   int64 \n",
      " 9   Property Type    1000 non-null   object\n",
      " 10  Heating Type     1000 non-null   object\n",
      " 11  Balcony          1000 non-null   object\n",
      " 12  Interior Style   1000 non-null   object\n",
      " 13  View             1000 non-null   object\n",
      " 14  Materials        1000 non-null   object\n",
      " 15  Building Status  1000 non-null   object\n",
      " 16  Price (£)        1000 non-null   int64 \n",
      "dtypes: int64(6), object(11)\n",
      "memory usage: 132.9+ KB\n"
     ]
    }
   ],
   "source": [
    "df.info()"
   ]
  },
  {
   "cell_type": "code",
   "execution_count": 6,
   "metadata": {},
   "outputs": [],
   "source": [
    "# Yangi ustunlarni yaratish va ulargi datasetga qo'shish\n",
    "\n",
    "df[\"Squared per bedroom\"]=df[\"Square Meters\"]/df[\"Bedrooms\"]#Har bir bedroom uchun qancha joy ajratilganini ko'rsatuvchi ustun yaratdim"
   ]
  },
  {
   "cell_type": "code",
   "execution_count": 9,
   "metadata": {},
   "outputs": [
    {
     "data": {
      "text/html": [
       "<div>\n",
       "<style scoped>\n",
       "    .dataframe tbody tr th:only-of-type {\n",
       "        vertical-align: middle;\n",
       "    }\n",
       "\n",
       "    .dataframe tbody tr th {\n",
       "        vertical-align: top;\n",
       "    }\n",
       "\n",
       "    .dataframe thead th {\n",
       "        text-align: right;\n",
       "    }\n",
       "</style>\n",
       "<table border=\"1\" class=\"dataframe\">\n",
       "  <thead>\n",
       "    <tr style=\"text-align: right;\">\n",
       "      <th></th>\n",
       "      <th>Address</th>\n",
       "      <th>Neighborhood</th>\n",
       "      <th>Bedrooms</th>\n",
       "      <th>Bathrooms</th>\n",
       "      <th>Square Meters</th>\n",
       "      <th>Building Age</th>\n",
       "      <th>Garden</th>\n",
       "      <th>Garage</th>\n",
       "      <th>Floors</th>\n",
       "      <th>Property Type</th>\n",
       "      <th>Heating Type</th>\n",
       "      <th>Balcony</th>\n",
       "      <th>Interior Style</th>\n",
       "      <th>View</th>\n",
       "      <th>Materials</th>\n",
       "      <th>Building Status</th>\n",
       "      <th>Price (£)</th>\n",
       "      <th>Squared per bedroom</th>\n",
       "    </tr>\n",
       "  </thead>\n",
       "  <tbody>\n",
       "    <tr>\n",
       "      <th>998</th>\n",
       "      <td>155 Park Lane</td>\n",
       "      <td>Camden</td>\n",
       "      <td>5</td>\n",
       "      <td>2</td>\n",
       "      <td>131</td>\n",
       "      <td>3</td>\n",
       "      <td>Yes</td>\n",
       "      <td>No</td>\n",
       "      <td>2</td>\n",
       "      <td>Detached House</td>\n",
       "      <td>Underfloor Heating</td>\n",
       "      <td>High-level Balcony</td>\n",
       "      <td>Modern</td>\n",
       "      <td>Park</td>\n",
       "      <td>Laminate Flooring</td>\n",
       "      <td>Renovated</td>\n",
       "      <td>1703000</td>\n",
       "      <td>26.20</td>\n",
       "    </tr>\n",
       "    <tr>\n",
       "      <th>999</th>\n",
       "      <td>145 Baker Street</td>\n",
       "      <td>Kensington</td>\n",
       "      <td>4</td>\n",
       "      <td>2</td>\n",
       "      <td>185</td>\n",
       "      <td>53</td>\n",
       "      <td>No</td>\n",
       "      <td>No</td>\n",
       "      <td>1</td>\n",
       "      <td>Apartment</td>\n",
       "      <td>Electric Heating</td>\n",
       "      <td>No Balcony</td>\n",
       "      <td>Modern</td>\n",
       "      <td>Street</td>\n",
       "      <td>Wood</td>\n",
       "      <td>Old</td>\n",
       "      <td>2343333</td>\n",
       "      <td>46.25</td>\n",
       "    </tr>\n",
       "  </tbody>\n",
       "</table>\n",
       "</div>"
      ],
      "text/plain": [
       "              Address Neighborhood  Bedrooms  Bathrooms  Square Meters  \\\n",
       "998     155 Park Lane       Camden         5          2            131   \n",
       "999  145 Baker Street   Kensington         4          2            185   \n",
       "\n",
       "     Building Age Garden Garage  Floors   Property Type        Heating Type  \\\n",
       "998             3    Yes     No       2  Detached House  Underfloor Heating   \n",
       "999            53     No     No       1       Apartment    Electric Heating   \n",
       "\n",
       "                Balcony Interior Style    View          Materials  \\\n",
       "998  High-level Balcony         Modern    Park  Laminate Flooring   \n",
       "999          No Balcony         Modern  Street               Wood   \n",
       "\n",
       "    Building Status  Price (£)  Squared per bedroom  \n",
       "998       Renovated    1703000                26.20  \n",
       "999             Old    2343333                46.25  "
      ]
     },
     "execution_count": 9,
     "metadata": {},
     "output_type": "execute_result"
    }
   ],
   "source": [
    "df.tail(2)"
   ]
  },
  {
   "cell_type": "code",
   "execution_count": 8,
   "metadata": {},
   "outputs": [
    {
     "name": "stdout",
     "output_type": "stream",
     "text": [
      "<class 'pandas.core.frame.DataFrame'>\n",
      "RangeIndex: 1000 entries, 0 to 999\n",
      "Data columns (total 18 columns):\n",
      " #   Column               Non-Null Count  Dtype  \n",
      "---  ------               --------------  -----  \n",
      " 0   Address              1000 non-null   object \n",
      " 1   Neighborhood         1000 non-null   object \n",
      " 2   Bedrooms             1000 non-null   int64  \n",
      " 3   Bathrooms            1000 non-null   int64  \n",
      " 4   Square Meters        1000 non-null   int64  \n",
      " 5   Building Age         1000 non-null   int64  \n",
      " 6   Garden               1000 non-null   object \n",
      " 7   Garage               1000 non-null   object \n",
      " 8   Floors               1000 non-null   int64  \n",
      " 9   Property Type        1000 non-null   object \n",
      " 10  Heating Type         1000 non-null   object \n",
      " 11  Balcony              1000 non-null   object \n",
      " 12  Interior Style       1000 non-null   object \n",
      " 13  View                 1000 non-null   object \n",
      " 14  Materials            1000 non-null   object \n",
      " 15  Building Status      1000 non-null   object \n",
      " 16  Price (£)            1000 non-null   int64  \n",
      " 17  Squared per bedroom  1000 non-null   float64\n",
      "dtypes: float64(1), int64(6), object(11)\n",
      "memory usage: 140.8+ KB\n"
     ]
    }
   ],
   "source": [
    "df.info() # yangi ustun oxirgi qatordan qo'shilganini ko'rishimiz mumkin"
   ]
  },
  {
   "cell_type": "code",
   "execution_count": 10,
   "metadata": {},
   "outputs": [
    {
     "data": {
      "text/plain": [
       "0      89.50\n",
       "1      61.50\n",
       "2      33.60\n",
       "3      47.40\n",
       "4      31.75\n",
       "       ...  \n",
       "995    81.00\n",
       "996    65.00\n",
       "997    47.75\n",
       "998    26.20\n",
       "999    46.25\n",
       "Name: Squared per bedroom, Length: 1000, dtype: float64"
      ]
     },
     "execution_count": 10,
     "metadata": {},
     "output_type": "execute_result"
    }
   ],
   "source": [
    "df[\"Squared per bedroom\"] # yangi qo'shilgan ustunni boshidan 5 ta va oxiridan 5 qatorini qiymatlari"
   ]
  },
  {
   "cell_type": "markdown",
   "metadata": {},
   "source": [
    "# Ikkinchi boshqa datasetimizda yangi ustunlarni yaratish"
   ]
  },
  {
   "cell_type": "code",
   "execution_count": 13,
   "metadata": {},
   "outputs": [],
   "source": [
    "df=pd.read_csv(\"diamonds (cleaned).csv\")"
   ]
  },
  {
   "cell_type": "code",
   "execution_count": 15,
   "metadata": {},
   "outputs": [
    {
     "data": {
      "text/html": [
       "<div>\n",
       "<style scoped>\n",
       "    .dataframe tbody tr th:only-of-type {\n",
       "        vertical-align: middle;\n",
       "    }\n",
       "\n",
       "    .dataframe tbody tr th {\n",
       "        vertical-align: top;\n",
       "    }\n",
       "\n",
       "    .dataframe thead th {\n",
       "        text-align: right;\n",
       "    }\n",
       "</style>\n",
       "<table border=\"1\" class=\"dataframe\">\n",
       "  <thead>\n",
       "    <tr style=\"text-align: right;\">\n",
       "      <th></th>\n",
       "      <th>Shape</th>\n",
       "      <th>Cut</th>\n",
       "      <th>Color</th>\n",
       "      <th>Clarity</th>\n",
       "      <th>Carat Weight</th>\n",
       "      <th>Length/Width Ratio</th>\n",
       "      <th>Depth %</th>\n",
       "      <th>Table %</th>\n",
       "      <th>Polish</th>\n",
       "      <th>Symmetry</th>\n",
       "      <th>Girdle</th>\n",
       "      <th>Culet</th>\n",
       "      <th>Length</th>\n",
       "      <th>Width</th>\n",
       "      <th>Height</th>\n",
       "      <th>Price</th>\n",
       "      <th>Type</th>\n",
       "      <th>Fluorescence</th>\n",
       "    </tr>\n",
       "  </thead>\n",
       "  <tbody>\n",
       "    <tr>\n",
       "      <th>0</th>\n",
       "      <td>Cushion Modified</td>\n",
       "      <td>Ideal</td>\n",
       "      <td>F</td>\n",
       "      <td>VVS2</td>\n",
       "      <td>1.84</td>\n",
       "      <td>1.02</td>\n",
       "      <td>65.8</td>\n",
       "      <td>59.0</td>\n",
       "      <td>Excellent</td>\n",
       "      <td>Very Good</td>\n",
       "      <td>Medium to Thick</td>\n",
       "      <td>NaN</td>\n",
       "      <td>7.09</td>\n",
       "      <td>6.95</td>\n",
       "      <td>4.57</td>\n",
       "      <td>2640</td>\n",
       "      <td>GIA Lab-Grown</td>\n",
       "      <td>NaN</td>\n",
       "    </tr>\n",
       "  </tbody>\n",
       "</table>\n",
       "</div>"
      ],
      "text/plain": [
       "              Shape    Cut Color Clarity  Carat Weight  Length/Width Ratio  \\\n",
       "0  Cushion Modified  Ideal     F    VVS2          1.84                1.02   \n",
       "\n",
       "   Depth %  Table %     Polish   Symmetry           Girdle Culet  Length  \\\n",
       "0     65.8     59.0  Excellent  Very Good  Medium to Thick   NaN    7.09   \n",
       "\n",
       "   Width  Height  Price           Type Fluorescence  \n",
       "0   6.95    4.57   2640  GIA Lab-Grown          NaN  "
      ]
     },
     "execution_count": 15,
     "metadata": {},
     "output_type": "execute_result"
    }
   ],
   "source": [
    "df.head(1)"
   ]
  },
  {
   "cell_type": "code",
   "execution_count": 16,
   "metadata": {},
   "outputs": [
    {
     "name": "stdout",
     "output_type": "stream",
     "text": [
      "<class 'pandas.core.frame.DataFrame'>\n",
      "RangeIndex: 6485 entries, 0 to 6484\n",
      "Data columns (total 18 columns):\n",
      " #   Column              Non-Null Count  Dtype  \n",
      "---  ------              --------------  -----  \n",
      " 0   Shape               6480 non-null   object \n",
      " 1   Cut                 2182 non-null   object \n",
      " 2   Color               6480 non-null   object \n",
      " 3   Clarity             6480 non-null   object \n",
      " 4   Carat Weight        6480 non-null   float64\n",
      " 5   Length/Width Ratio  6480 non-null   float64\n",
      " 6   Depth %             6478 non-null   float64\n",
      " 7   Table %             6468 non-null   float64\n",
      " 8   Polish              6465 non-null   object \n",
      " 9   Symmetry            6465 non-null   object \n",
      " 10  Girdle              6463 non-null   object \n",
      " 11  Culet               1891 non-null   object \n",
      " 12  Length              6465 non-null   float64\n",
      " 13  Width               6465 non-null   float64\n",
      " 14  Height              6465 non-null   float64\n",
      " 15  Price               6485 non-null   int64  \n",
      " 16  Type                6485 non-null   object \n",
      " 17  Fluorescence        1221 non-null   object \n",
      "dtypes: float64(7), int64(1), object(10)\n",
      "memory usage: 912.1+ KB\n"
     ]
    }
   ],
   "source": [
    "df.info()"
   ]
  },
  {
   "cell_type": "code",
   "execution_count": 17,
   "metadata": {},
   "outputs": [
    {
     "data": {
      "text/plain": [
       "Shape\n",
       "Round               888\n",
       "Pear                840\n",
       "Marquise            835\n",
       "Princess            833\n",
       "Oval                828\n",
       "Heart               827\n",
       "Radiant             801\n",
       "Cushion Modified    365\n",
       "Emerald             137\n",
       "Cushion              91\n",
       "Square Radiant       35\n",
       "Name: count, dtype: int64"
      ]
     },
     "execution_count": 17,
     "metadata": {},
     "output_type": "execute_result"
    }
   ],
   "source": [
    "df[\"Shape\"].value_counts()"
   ]
  },
  {
   "cell_type": "code",
   "execution_count": 22,
   "metadata": {},
   "outputs": [],
   "source": [
    "# Har bir shakl uchun olmosning zijligi va hajmini hisoblab yangi ustunlarnin yaratish va qo'shish\n",
    "\n",
    "def calculate_volume(row):\n",
    "    shape=row[\"Shape\"]\n",
    "    L,W,H=row[\"Length\"],row[\"Width\"],row[\"Height\"]\n",
    "    \n",
    "    if shape==\"Round\":\n",
    "        return(3.14/4)*L*W*H\n",
    "    elif shape==\"Per\" or shape==\"Marquise\" or shape==\"Heart\":\n",
    "        return(3.14/6)*L*W*H\n",
    "    elif shape==\"Oval\":\n",
    "        return(4/3)*3.14*(L/2)*(W/2)*(H/2)\n",
    "    else: # kvadrat yoki to'g'ri burchakli shakllar uchun\n",
    "        return L*W*H\n",
    "    \n",
    "    "
   ]
  },
  {
   "cell_type": "code",
   "execution_count": 23,
   "metadata": {},
   "outputs": [],
   "source": [
    "df[\"Volume\"]=df.apply(calculate_volume,axis=1) # har bir shakl uchun olmosning hajminin ifodalovchi ustunni yaratib \"Volume\" deb nomlab\n",
    "                                             # bu ustunni datasetimizga qo'shdik"
   ]
  },
  {
   "cell_type": "code",
   "execution_count": 24,
   "metadata": {},
   "outputs": [],
   "source": [
    "# Qo'shilgan yangi ustundan foydalanib har bir olmosning zijligini ifodalovchi ustunni yatatamiz va uni ham datasetimizga qo'shamiz\n",
    "\n",
    "df[\"Density\"]=df[\"Carat Weight\"]/df[\"Volume\"]"
   ]
  },
  {
   "cell_type": "code",
   "execution_count": 25,
   "metadata": {},
   "outputs": [
    {
     "data": {
      "text/html": [
       "<div>\n",
       "<style scoped>\n",
       "    .dataframe tbody tr th:only-of-type {\n",
       "        vertical-align: middle;\n",
       "    }\n",
       "\n",
       "    .dataframe tbody tr th {\n",
       "        vertical-align: top;\n",
       "    }\n",
       "\n",
       "    .dataframe thead th {\n",
       "        text-align: right;\n",
       "    }\n",
       "</style>\n",
       "<table border=\"1\" class=\"dataframe\">\n",
       "  <thead>\n",
       "    <tr style=\"text-align: right;\">\n",
       "      <th></th>\n",
       "      <th>Shape</th>\n",
       "      <th>Cut</th>\n",
       "      <th>Color</th>\n",
       "      <th>Clarity</th>\n",
       "      <th>Carat Weight</th>\n",
       "      <th>Length/Width Ratio</th>\n",
       "      <th>Depth %</th>\n",
       "      <th>Table %</th>\n",
       "      <th>Polish</th>\n",
       "      <th>Symmetry</th>\n",
       "      <th>Girdle</th>\n",
       "      <th>Culet</th>\n",
       "      <th>Length</th>\n",
       "      <th>Width</th>\n",
       "      <th>Height</th>\n",
       "      <th>Price</th>\n",
       "      <th>Type</th>\n",
       "      <th>Fluorescence</th>\n",
       "      <th>Volume</th>\n",
       "      <th>Density</th>\n",
       "    </tr>\n",
       "  </thead>\n",
       "  <tbody>\n",
       "    <tr>\n",
       "      <th>6483</th>\n",
       "      <td>Radiant</td>\n",
       "      <td>NaN</td>\n",
       "      <td>E</td>\n",
       "      <td>VS1</td>\n",
       "      <td>1.06</td>\n",
       "      <td>1.43</td>\n",
       "      <td>67.8</td>\n",
       "      <td>62.0</td>\n",
       "      <td>Excellent</td>\n",
       "      <td>Excellent</td>\n",
       "      <td>Slightly Thick to Thick</td>\n",
       "      <td>NaN</td>\n",
       "      <td>7.24</td>\n",
       "      <td>5.05</td>\n",
       "      <td>3.42</td>\n",
       "      <td>1050</td>\n",
       "      <td>GIA Lab-Grown</td>\n",
       "      <td>NaN</td>\n",
       "      <td>125.042040</td>\n",
       "      <td>0.008477</td>\n",
       "    </tr>\n",
       "    <tr>\n",
       "      <th>6484</th>\n",
       "      <td>Emerald</td>\n",
       "      <td>NaN</td>\n",
       "      <td>H</td>\n",
       "      <td>VVS1</td>\n",
       "      <td>1.00</td>\n",
       "      <td>1.36</td>\n",
       "      <td>68.4</td>\n",
       "      <td>66.0</td>\n",
       "      <td>Excellent</td>\n",
       "      <td>Excellent</td>\n",
       "      <td>Slightly Thick to Thick</td>\n",
       "      <td>NaN</td>\n",
       "      <td>6.51</td>\n",
       "      <td>4.77</td>\n",
       "      <td>3.26</td>\n",
       "      <td>2870</td>\n",
       "      <td>GIA</td>\n",
       "      <td>NaN</td>\n",
       "      <td>101.231802</td>\n",
       "      <td>0.009878</td>\n",
       "    </tr>\n",
       "  </tbody>\n",
       "</table>\n",
       "</div>"
      ],
      "text/plain": [
       "        Shape  Cut Color Clarity  Carat Weight  Length/Width Ratio  Depth %  \\\n",
       "6483  Radiant  NaN     E     VS1          1.06                1.43     67.8   \n",
       "6484  Emerald  NaN     H    VVS1          1.00                1.36     68.4   \n",
       "\n",
       "      Table %     Polish   Symmetry                   Girdle Culet  Length  \\\n",
       "6483     62.0  Excellent  Excellent  Slightly Thick to Thick   NaN    7.24   \n",
       "6484     66.0  Excellent  Excellent  Slightly Thick to Thick   NaN    6.51   \n",
       "\n",
       "      Width  Height  Price           Type Fluorescence      Volume   Density  \n",
       "6483   5.05    3.42   1050  GIA Lab-Grown          NaN  125.042040  0.008477  \n",
       "6484   4.77    3.26   2870            GIA          NaN  101.231802  0.009878  "
      ]
     },
     "execution_count": 25,
     "metadata": {},
     "output_type": "execute_result"
    }
   ],
   "source": [
    "df.tail(2)"
   ]
  },
  {
   "cell_type": "code",
   "execution_count": 26,
   "metadata": {},
   "outputs": [
    {
     "name": "stdout",
     "output_type": "stream",
     "text": [
      "<class 'pandas.core.frame.DataFrame'>\n",
      "RangeIndex: 6485 entries, 0 to 6484\n",
      "Data columns (total 20 columns):\n",
      " #   Column              Non-Null Count  Dtype  \n",
      "---  ------              --------------  -----  \n",
      " 0   Shape               6480 non-null   object \n",
      " 1   Cut                 2182 non-null   object \n",
      " 2   Color               6480 non-null   object \n",
      " 3   Clarity             6480 non-null   object \n",
      " 4   Carat Weight        6480 non-null   float64\n",
      " 5   Length/Width Ratio  6480 non-null   float64\n",
      " 6   Depth %             6478 non-null   float64\n",
      " 7   Table %             6468 non-null   float64\n",
      " 8   Polish              6465 non-null   object \n",
      " 9   Symmetry            6465 non-null   object \n",
      " 10  Girdle              6463 non-null   object \n",
      " 11  Culet               1891 non-null   object \n",
      " 12  Length              6465 non-null   float64\n",
      " 13  Width               6465 non-null   float64\n",
      " 14  Height              6465 non-null   float64\n",
      " 15  Price               6485 non-null   int64  \n",
      " 16  Type                6485 non-null   object \n",
      " 17  Fluorescence        1221 non-null   object \n",
      " 18  Volume              6465 non-null   float64\n",
      " 19  Density             6465 non-null   float64\n",
      "dtypes: float64(9), int64(1), object(10)\n",
      "memory usage: 1013.4+ KB\n"
     ]
    }
   ],
   "source": [
    "df.info()"
   ]
  },
  {
   "cell_type": "code",
   "execution_count": 27,
   "metadata": {},
   "outputs": [
    {
     "data": {
      "text/plain": [
       "0       225.189035\n",
       "1       206.754864\n",
       "2       100.441064\n",
       "3        89.648374\n",
       "4       120.190000\n",
       "           ...    \n",
       "6480    168.739740\n",
       "6481     90.075225\n",
       "6482    123.203600\n",
       "6483    125.042040\n",
       "6484    101.231802\n",
       "Name: Volume, Length: 6485, dtype: float64"
      ]
     },
     "execution_count": 27,
     "metadata": {},
     "output_type": "execute_result"
    }
   ],
   "source": [
    "df[\"Volume\"]"
   ]
  },
  {
   "cell_type": "code",
   "execution_count": 28,
   "metadata": {},
   "outputs": [
    {
     "data": {
      "text/plain": [
       "0       0.008171\n",
       "1       0.005804\n",
       "2       0.011848\n",
       "3       0.011155\n",
       "4       0.008403\n",
       "          ...   \n",
       "6480    0.006045\n",
       "6481    0.011102\n",
       "6482    0.008360\n",
       "6483    0.008477\n",
       "6484    0.009878\n",
       "Name: Density, Length: 6485, dtype: float64"
      ]
     },
     "execution_count": 28,
     "metadata": {},
     "output_type": "execute_result"
    }
   ],
   "source": [
    "df[\"Density\"]"
   ]
  },
  {
   "cell_type": "markdown",
   "metadata": {},
   "source": [
    "#  Boshqa datasetda target variable uchun muhroq bo'lgan yangi ustunlar yaratish va uni datasetga qo'shish\n",
    "\n"
   ]
  },
  {
   "cell_type": "code",
   "execution_count": 2,
   "metadata": {},
   "outputs": [],
   "source": [
    "df=pd.read_csv(\"taxi_trip_pricing.csv\")"
   ]
  },
  {
   "cell_type": "code",
   "execution_count": 3,
   "metadata": {},
   "outputs": [
    {
     "data": {
      "text/html": [
       "<div>\n",
       "<style scoped>\n",
       "    .dataframe tbody tr th:only-of-type {\n",
       "        vertical-align: middle;\n",
       "    }\n",
       "\n",
       "    .dataframe tbody tr th {\n",
       "        vertical-align: top;\n",
       "    }\n",
       "\n",
       "    .dataframe thead th {\n",
       "        text-align: right;\n",
       "    }\n",
       "</style>\n",
       "<table border=\"1\" class=\"dataframe\">\n",
       "  <thead>\n",
       "    <tr style=\"text-align: right;\">\n",
       "      <th></th>\n",
       "      <th>Trip_Distance_km</th>\n",
       "      <th>Time_of_Day</th>\n",
       "      <th>Day_of_Week</th>\n",
       "      <th>Passenger_Count</th>\n",
       "      <th>Traffic_Conditions</th>\n",
       "      <th>Weather</th>\n",
       "      <th>Base_Fare</th>\n",
       "      <th>Per_Km_Rate</th>\n",
       "      <th>Per_Minute_Rate</th>\n",
       "      <th>Trip_Duration_Minutes</th>\n",
       "      <th>Trip_Price</th>\n",
       "    </tr>\n",
       "  </thead>\n",
       "  <tbody>\n",
       "    <tr>\n",
       "      <th>0</th>\n",
       "      <td>19.35</td>\n",
       "      <td>Morning</td>\n",
       "      <td>Weekday</td>\n",
       "      <td>3.0</td>\n",
       "      <td>Low</td>\n",
       "      <td>Clear</td>\n",
       "      <td>3.56</td>\n",
       "      <td>0.8</td>\n",
       "      <td>0.32</td>\n",
       "      <td>53.82</td>\n",
       "      <td>36.2624</td>\n",
       "    </tr>\n",
       "  </tbody>\n",
       "</table>\n",
       "</div>"
      ],
      "text/plain": [
       "   Trip_Distance_km Time_of_Day Day_of_Week  Passenger_Count  \\\n",
       "0             19.35     Morning     Weekday              3.0   \n",
       "\n",
       "  Traffic_Conditions Weather  Base_Fare  Per_Km_Rate  Per_Minute_Rate  \\\n",
       "0                Low   Clear       3.56          0.8             0.32   \n",
       "\n",
       "   Trip_Duration_Minutes  Trip_Price  \n",
       "0                  53.82     36.2624  "
      ]
     },
     "execution_count": 3,
     "metadata": {},
     "output_type": "execute_result"
    }
   ],
   "source": [
    "df.head(1)"
   ]
  },
  {
   "cell_type": "code",
   "execution_count": 4,
   "metadata": {},
   "outputs": [
    {
     "name": "stdout",
     "output_type": "stream",
     "text": [
      "<class 'pandas.core.frame.DataFrame'>\n",
      "RangeIndex: 1000 entries, 0 to 999\n",
      "Data columns (total 11 columns):\n",
      " #   Column                 Non-Null Count  Dtype  \n",
      "---  ------                 --------------  -----  \n",
      " 0   Trip_Distance_km       950 non-null    float64\n",
      " 1   Time_of_Day            950 non-null    object \n",
      " 2   Day_of_Week            950 non-null    object \n",
      " 3   Passenger_Count        950 non-null    float64\n",
      " 4   Traffic_Conditions     950 non-null    object \n",
      " 5   Weather                950 non-null    object \n",
      " 6   Base_Fare              950 non-null    float64\n",
      " 7   Per_Km_Rate            950 non-null    float64\n",
      " 8   Per_Minute_Rate        950 non-null    float64\n",
      " 9   Trip_Duration_Minutes  950 non-null    float64\n",
      " 10  Trip_Price             951 non-null    float64\n",
      "dtypes: float64(7), object(4)\n",
      "memory usage: 86.1+ KB\n"
     ]
    }
   ],
   "source": [
    "df.info() # dastlab datasetimizda 11 ta columnlar mavjud ekan"
   ]
  },
  {
   "cell_type": "code",
   "execution_count": 5,
   "metadata": {},
   "outputs": [],
   "source": [
    "# yangi ustunlar yaratish va uni datasetga qo'shish\n",
    "\n",
    "df[\"Trip_speed_km/soat\"]=df[\"Trip_Distance_km\"]/(df[\"Trip_Duration_Minutes\"]/60) # sayohatda har bir km masofa u.n o'rtacha qanday tezlikdan foydalanganligi \n",
    "\n",
    "df[\"Cost_per_km\"]=df[\"Trip_Price\"]/df[\"Trip_Distance_km\"] # har bir km masofaga to'gri keladigan taxi narxi\n",
    "\n",
    "df[\"Cost_per_Minute\"]=df[\"Trip_Price\"]/df[\"Trip_Duration_Minutes\"] # Har bir daqiqa uchun yo'lovchidan olinadigan narxni ko'rsatadi\n",
    "\n"
   ]
  },
  {
   "cell_type": "code",
   "execution_count": 6,
   "metadata": {},
   "outputs": [
    {
     "data": {
      "text/html": [
       "<div>\n",
       "<style scoped>\n",
       "    .dataframe tbody tr th:only-of-type {\n",
       "        vertical-align: middle;\n",
       "    }\n",
       "\n",
       "    .dataframe tbody tr th {\n",
       "        vertical-align: top;\n",
       "    }\n",
       "\n",
       "    .dataframe thead th {\n",
       "        text-align: right;\n",
       "    }\n",
       "</style>\n",
       "<table border=\"1\" class=\"dataframe\">\n",
       "  <thead>\n",
       "    <tr style=\"text-align: right;\">\n",
       "      <th></th>\n",
       "      <th>Trip_Distance_km</th>\n",
       "      <th>Time_of_Day</th>\n",
       "      <th>Day_of_Week</th>\n",
       "      <th>Passenger_Count</th>\n",
       "      <th>Traffic_Conditions</th>\n",
       "      <th>Weather</th>\n",
       "      <th>Base_Fare</th>\n",
       "      <th>Per_Km_Rate</th>\n",
       "      <th>Per_Minute_Rate</th>\n",
       "      <th>Trip_Duration_Minutes</th>\n",
       "      <th>Trip_Price</th>\n",
       "      <th>Trip_speed_km/soat</th>\n",
       "      <th>Cost_per_km</th>\n",
       "      <th>Cost_per_Minute</th>\n",
       "    </tr>\n",
       "  </thead>\n",
       "  <tbody>\n",
       "    <tr>\n",
       "      <th>0</th>\n",
       "      <td>19.35</td>\n",
       "      <td>Morning</td>\n",
       "      <td>Weekday</td>\n",
       "      <td>3.0</td>\n",
       "      <td>Low</td>\n",
       "      <td>Clear</td>\n",
       "      <td>3.56</td>\n",
       "      <td>0.8</td>\n",
       "      <td>0.32</td>\n",
       "      <td>53.82</td>\n",
       "      <td>36.2624</td>\n",
       "      <td>21.571906</td>\n",
       "      <td>1.874026</td>\n",
       "      <td>0.673772</td>\n",
       "    </tr>\n",
       "  </tbody>\n",
       "</table>\n",
       "</div>"
      ],
      "text/plain": [
       "   Trip_Distance_km Time_of_Day Day_of_Week  Passenger_Count  \\\n",
       "0             19.35     Morning     Weekday              3.0   \n",
       "\n",
       "  Traffic_Conditions Weather  Base_Fare  Per_Km_Rate  Per_Minute_Rate  \\\n",
       "0                Low   Clear       3.56          0.8             0.32   \n",
       "\n",
       "   Trip_Duration_Minutes  Trip_Price  Trip_speed_km/soat  Cost_per_km  \\\n",
       "0                  53.82     36.2624           21.571906     1.874026   \n",
       "\n",
       "   Cost_per_Minute  \n",
       "0         0.673772  "
      ]
     },
     "execution_count": 6,
     "metadata": {},
     "output_type": "execute_result"
    }
   ],
   "source": [
    "df.head(1)"
   ]
  },
  {
   "cell_type": "code",
   "execution_count": 7,
   "metadata": {},
   "outputs": [
    {
     "name": "stdout",
     "output_type": "stream",
     "text": [
      "<class 'pandas.core.frame.DataFrame'>\n",
      "RangeIndex: 1000 entries, 0 to 999\n",
      "Data columns (total 14 columns):\n",
      " #   Column                 Non-Null Count  Dtype  \n",
      "---  ------                 --------------  -----  \n",
      " 0   Trip_Distance_km       950 non-null    float64\n",
      " 1   Time_of_Day            950 non-null    object \n",
      " 2   Day_of_Week            950 non-null    object \n",
      " 3   Passenger_Count        950 non-null    float64\n",
      " 4   Traffic_Conditions     950 non-null    object \n",
      " 5   Weather                950 non-null    object \n",
      " 6   Base_Fare              950 non-null    float64\n",
      " 7   Per_Km_Rate            950 non-null    float64\n",
      " 8   Per_Minute_Rate        950 non-null    float64\n",
      " 9   Trip_Duration_Minutes  950 non-null    float64\n",
      " 10  Trip_Price             951 non-null    float64\n",
      " 11  Trip_speed_km/soat     903 non-null    float64\n",
      " 12  Cost_per_km            901 non-null    float64\n",
      " 13  Cost_per_Minute        905 non-null    float64\n",
      "dtypes: float64(10), object(4)\n",
      "memory usage: 109.5+ KB\n"
     ]
    }
   ],
   "source": [
    "df.info() # datasetimizga qo'shimcha yana 3 ta yangi ustunlar qo'shildi"
   ]
  },
  {
   "cell_type": "code",
   "execution_count": 10,
   "metadata": {},
   "outputs": [
    {
     "data": {
      "text/plain": [
       "0    21.571906\n",
       "1    70.382056\n",
       "2    59.356050\n",
       "Name: Trip_speed_km/soat, dtype: float64"
      ]
     },
     "execution_count": 10,
     "metadata": {},
     "output_type": "execute_result"
    }
   ],
   "source": [
    "df[\"Trip_speed_km/soat\"][:3]"
   ]
  },
  {
   "cell_type": "code",
   "execution_count": 15,
   "metadata": {},
   "outputs": [
    {
     "data": {
      "text/plain": [
       "0      0.673772\n",
       "1           NaN\n",
       "2      1.419458\n",
       "3      0.312215\n",
       "4      0.689841\n",
       "         ...   \n",
       "995    0.589226\n",
       "996    1.002736\n",
       "997    0.611362\n",
       "998    0.532530\n",
       "999    1.530606\n",
       "Name: Cost_per_Minute, Length: 1000, dtype: float64"
      ]
     },
     "execution_count": 15,
     "metadata": {},
     "output_type": "execute_result"
    }
   ],
   "source": [
    "df[\"Cost_per_Minute\"]"
   ]
  },
  {
   "cell_type": "code",
   "execution_count": 18,
   "metadata": {},
   "outputs": [
    {
     "data": {
      "text/plain": [
       "0      1.874026\n",
       "1           NaN\n",
       "2      1.434858\n",
       "3      1.202433\n",
       "4           NaN\n",
       "         ...   \n",
       "995    6.266831\n",
       "996    1.352111\n",
       "997    4.301766\n",
       "998    1.286985\n",
       "999    1.988783\n",
       "Name: Cost_per_km, Length: 1000, dtype: float64"
      ]
     },
     "execution_count": 18,
     "metadata": {},
     "output_type": "execute_result"
    }
   ],
   "source": [
    "df[\"Cost_per_km\"]"
   ]
  },
  {
   "cell_type": "code",
   "execution_count": null,
   "metadata": {},
   "outputs": [],
   "source": []
  }
 ],
 "metadata": {
  "kernelspec": {
   "display_name": "Python 3",
   "language": "python",
   "name": "python3"
  },
  "language_info": {
   "codemirror_mode": {
    "name": "ipython",
    "version": 3
   },
   "file_extension": ".py",
   "mimetype": "text/x-python",
   "name": "python",
   "nbconvert_exporter": "python",
   "pygments_lexer": "ipython3",
   "version": "3.12.0"
  }
 },
 "nbformat": 4,
 "nbformat_minor": 2
}
