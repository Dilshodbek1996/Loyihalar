{
 "cells": [
  {
   "cell_type": "markdown",
   "metadata": {},
   "source": [
    "# Dictionary data_structure"
   ]
  },
  {
   "cell_type": "code",
   "execution_count": 9,
   "metadata": {
    "vscode": {
     "languageId": "powershell"
    }
   },
   "outputs": [
    {
     "name": "stdout",
     "output_type": "stream",
     "text": [
      "{'Erling Holand': 119.5, 'Vinisius Junior': 117.7, 'Jude Bellingham': 118, 'Kilian Mbappe': 120.9}\n"
     ]
    }
   ],
   "source": [
    "# Creating Dictionary data_structure\n",
    "\n",
    "top_expensive_football_player_salary={\n",
    "    \"Erling Holand\":119.5, \n",
    "    \"Vinisius Junior\": 117.7,\n",
    "    \"Jude Bellingham\":118,\n",
    "    \"Kilian Mbappe\":120.9,\n",
    "    \n",
    "}\n",
    "print(top_expensive_football_player_salary)"
   ]
  },
  {
   "cell_type": "code",
   "execution_count": 10,
   "metadata": {
    "vscode": {
     "languageId": "powershell"
    }
   },
   "outputs": [
    {
     "data": {
      "text/plain": [
       "{'Erling Holand': 119.5,\n",
       " 'Vinisius Junior': 117.7,\n",
       " 'Jude Bellingham': 118,\n",
       " 'Kilian Mbappe': 120.9,\n",
       " 'Lamin Yamal': 150}"
      ]
     },
     "execution_count": 10,
     "metadata": {},
     "output_type": "execute_result"
    }
   ],
   "source": [
    "# Adding new element\n",
    "\n",
    "top_expensive_football_player_salary[\"Lamin Yamal\"]=150\n",
    "top_expensive_football_player_salary"
   ]
  },
  {
   "cell_type": "code",
   "execution_count": 11,
   "metadata": {
    "vscode": {
     "languageId": "powershell"
    }
   },
   "outputs": [
    {
     "data": {
      "text/plain": [
       "{'Erling Holand': 119.5,\n",
       " 'Vinisius Junior': 117.7,\n",
       " 'Jude Bellingham': 121,\n",
       " 'Kilian Mbappe': 120.9,\n",
       " 'Lamin Yamal': 150}"
      ]
     },
     "execution_count": 11,
     "metadata": {},
     "output_type": "execute_result"
    }
   ],
   "source": [
    "# Changing amount of any element\n",
    "\n",
    "top_expensive_football_player_salary[\"Jude Bellingham\"]=121\n",
    "top_expensive_football_player_salary"
   ]
  },
  {
   "cell_type": "code",
   "execution_count": 12,
   "metadata": {
    "vscode": {
     "languageId": "powershell"
    }
   },
   "outputs": [
    {
     "name": "stdout",
     "output_type": "stream",
     "text": [
      "Oh Sorry That player's salary decrised\n"
     ]
    }
   ],
   "source": [
    "# Checking any element in dictionary\n",
    "\n",
    "if \"Lional Messi\" in top_expensive_football_player_salary:\n",
    "    print(\"Yes sure. Here\")\n",
    "else:\n",
    "    print(\"Oh Sorry That player's salary decrised\")"
   ]
  },
  {
   "cell_type": "code",
   "execution_count": 13,
   "metadata": {
    "vscode": {
     "languageId": "powershell"
    }
   },
   "outputs": [
    {
     "name": "stdout",
     "output_type": "stream",
     "text": [
      "Erling Holand 119.5\n",
      "Vinisius Junior 117.7\n",
      "Jude Bellingham 121\n",
      "Kilian Mbappe 120.9\n",
      "Lamin Yamal 150\n"
     ]
    }
   ],
   "source": [
    "# Tartiblash\n",
    "\n",
    "for player,top_expensive_football_player_salary in top_expensive_football_player_salary.items():\n",
    "   print(player,top_expensive_football_player_salary)"
   ]
  },
  {
   "cell_type": "code",
   "execution_count": 54,
   "metadata": {
    "vscode": {
     "languageId": "powershell"
    }
   },
   "outputs": [
    {
     "name": "stdout",
     "output_type": "stream",
     "text": [
      "6.5\n"
     ]
    }
   ],
   "source": [
    "students_ielts_level={\n",
    "    \"student_1\":{\"reading\":6.5,\"listining\":6.5, \"writing\":6.0,\"speaking\":7.0,\"overall\":6.5},\n",
    "    \"student_2\":{\"reading\":7.0,\"listining\":6.5, \"writing\":7.0,\"speaking\":6.5,\"overall\":7.0},\n",
    "    \"student_3\":{\"reading\":7.5,\"listining\":7.0, \"writing\":6.5,\"speaking\":8.0,\"overall\":7.5}\n",
    "}\n",
    "\n",
    "    \n",
    "print(students_ielts_level[\"student_1\"][\"overall\"])"
   ]
  },
  {
   "cell_type": "code",
   "execution_count": null,
   "metadata": {
    "vscode": {
     "languageId": "powershell"
    }
   },
   "outputs": [],
   "source": []
  }
 ],
 "metadata": {
  "kernelspec": {
   "display_name": "Python 3",
   "language": "python",
   "name": "python3"
  },
  "language_info": {
   "codemirror_mode": {
    "name": "ipython",
    "version": 3
   },
   "file_extension": ".py",
   "mimetype": "text/x-python",
   "name": "python",
   "nbconvert_exporter": "python",
   "pygments_lexer": "ipython3",
   "version": "3.12.0"
  }
 },
 "nbformat": 4,
 "nbformat_minor": 2
}
