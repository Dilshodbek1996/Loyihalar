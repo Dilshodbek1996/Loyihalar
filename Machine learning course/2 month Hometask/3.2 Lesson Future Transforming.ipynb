{
 "cells": [
  {
   "cell_type": "code",
   "execution_count": 9,
   "metadata": {},
   "outputs": [],
   "source": [
    "import pandas as pd\n",
    "import numpy as np\n",
    "import klib\n",
    "import matplotlib.pyplot as plt\n",
    "import seaborn as sns\n",
    "from sklearn.preprocessing import KBinsDiscretizer\n"
   ]
  },
  {
   "cell_type": "code",
   "execution_count": 5,
   "metadata": {},
   "outputs": [],
   "source": [
    "df=pd.read_csv(\"Payment_Info.csv\")"
   ]
  },
  {
   "cell_type": "code",
   "execution_count": 6,
   "metadata": {},
   "outputs": [
    {
     "data": {
      "text/html": [
       "<div>\n",
       "<style scoped>\n",
       "    .dataframe tbody tr th:only-of-type {\n",
       "        vertical-align: middle;\n",
       "    }\n",
       "\n",
       "    .dataframe tbody tr th {\n",
       "        vertical-align: top;\n",
       "    }\n",
       "\n",
       "    .dataframe thead th {\n",
       "        text-align: right;\n",
       "    }\n",
       "</style>\n",
       "<table border=\"1\" class=\"dataframe\">\n",
       "  <thead>\n",
       "    <tr style=\"text-align: right;\">\n",
       "      <th></th>\n",
       "      <th>customer_id</th>\n",
       "      <th>contract</th>\n",
       "      <th>paperless_billing</th>\n",
       "      <th>payment_method</th>\n",
       "      <th>monthly_ charges</th>\n",
       "      <th>avg_monthly_long_distance_charges</th>\n",
       "      <th>total_charges</th>\n",
       "      <th>total_refunds</th>\n",
       "      <th>total_extra_data_charges</th>\n",
       "      <th>total_long_distance_charges</th>\n",
       "      <th>total_revenue</th>\n",
       "    </tr>\n",
       "  </thead>\n",
       "  <tbody>\n",
       "    <tr>\n",
       "      <th>0</th>\n",
       "      <td>0002-ORFBO</td>\n",
       "      <td>One Year</td>\n",
       "      <td>Yes</td>\n",
       "      <td>Mailed check</td>\n",
       "      <td>65.6</td>\n",
       "      <td>42.39</td>\n",
       "      <td>593.30</td>\n",
       "      <td>0.00</td>\n",
       "      <td>0</td>\n",
       "      <td>381.51</td>\n",
       "      <td>974.81</td>\n",
       "    </tr>\n",
       "    <tr>\n",
       "      <th>1</th>\n",
       "      <td>0003-MKNFE</td>\n",
       "      <td>Month-to-Month</td>\n",
       "      <td>No</td>\n",
       "      <td>Mailed check</td>\n",
       "      <td>59.9</td>\n",
       "      <td>10.69</td>\n",
       "      <td>542.40</td>\n",
       "      <td>38.33</td>\n",
       "      <td>10</td>\n",
       "      <td>96.21</td>\n",
       "      <td>610.28</td>\n",
       "    </tr>\n",
       "    <tr>\n",
       "      <th>2</th>\n",
       "      <td>0004-TLHLJ</td>\n",
       "      <td>Month-to-Month</td>\n",
       "      <td>Yes</td>\n",
       "      <td>Electronic check</td>\n",
       "      <td>73.9</td>\n",
       "      <td>33.65</td>\n",
       "      <td>280.85</td>\n",
       "      <td>0.00</td>\n",
       "      <td>0</td>\n",
       "      <td>134.60</td>\n",
       "      <td>415.45</td>\n",
       "    </tr>\n",
       "  </tbody>\n",
       "</table>\n",
       "</div>"
      ],
      "text/plain": [
       "  customer_id        contract paperless_billing    payment_method  \\\n",
       "0  0002-ORFBO        One Year               Yes      Mailed check   \n",
       "1  0003-MKNFE  Month-to-Month                No      Mailed check   \n",
       "2  0004-TLHLJ  Month-to-Month               Yes  Electronic check   \n",
       "\n",
       "   monthly_ charges  avg_monthly_long_distance_charges  total_charges  \\\n",
       "0              65.6                              42.39         593.30   \n",
       "1              59.9                              10.69         542.40   \n",
       "2              73.9                              33.65         280.85   \n",
       "\n",
       "   total_refunds  total_extra_data_charges  total_long_distance_charges  \\\n",
       "0           0.00                         0                       381.51   \n",
       "1          38.33                        10                        96.21   \n",
       "2           0.00                         0                       134.60   \n",
       "\n",
       "   total_revenue  \n",
       "0         974.81  \n",
       "1         610.28  \n",
       "2         415.45  "
      ]
     },
     "execution_count": 6,
     "metadata": {},
     "output_type": "execute_result"
    }
   ],
   "source": [
    "df.head(3)"
   ]
  },
  {
   "cell_type": "code",
   "execution_count": 7,
   "metadata": {},
   "outputs": [
    {
     "name": "stdout",
     "output_type": "stream",
     "text": [
      "<class 'pandas.core.frame.DataFrame'>\n",
      "RangeIndex: 7043 entries, 0 to 7042\n",
      "Data columns (total 11 columns):\n",
      " #   Column                             Non-Null Count  Dtype  \n",
      "---  ------                             --------------  -----  \n",
      " 0   customer_id                        7043 non-null   object \n",
      " 1   contract                           7043 non-null   object \n",
      " 2   paperless_billing                  7043 non-null   object \n",
      " 3   payment_method                     7043 non-null   object \n",
      " 4   monthly_ charges                   7043 non-null   float64\n",
      " 5   avg_monthly_long_distance_charges  7043 non-null   float64\n",
      " 6   total_charges                      7043 non-null   float64\n",
      " 7   total_refunds                      7043 non-null   float64\n",
      " 8   total_extra_data_charges           7043 non-null   int64  \n",
      " 9   total_long_distance_charges        7043 non-null   float64\n",
      " 10  total_revenue                      7043 non-null   float64\n",
      "dtypes: float64(6), int64(1), object(4)\n",
      "memory usage: 605.4+ KB\n"
     ]
    }
   ],
   "source": [
    "df.info()"
   ]
  },
  {
   "cell_type": "code",
   "execution_count": 10,
   "metadata": {},
   "outputs": [
    {
     "name": "stdout",
     "output_type": "stream",
     "text": [
      "Shape of cleaned data: (7043, 11) - Remaining NAs: 0\n",
      "\n",
      "\n",
      "Dropped rows: 0\n",
      "     of which 0 duplicates. (Rows (first 150 shown): [])\n",
      "\n",
      "Dropped columns: 0\n",
      "     of which 0 single valued.     Columns: []\n",
      "Dropped missing values: 0\n",
      "Reduced memory by at least: 0.34 MB (-57.63%)\n",
      "\n"
     ]
    }
   ],
   "source": [
    "# Standardlaztion for column names and Cleaning dublicated rows with Klib and decrease memory usage of dataset\n",
    "df=klib.data_cleaning(df)\n",
    "\n"
   ]
  },
  {
   "cell_type": "code",
   "execution_count": 11,
   "metadata": {},
   "outputs": [
    {
     "name": "stdout",
     "output_type": "stream",
     "text": [
      "<class 'pandas.core.frame.DataFrame'>\n",
      "RangeIndex: 7043 entries, 0 to 7042\n",
      "Data columns (total 11 columns):\n",
      " #   Column                             Non-Null Count  Dtype   \n",
      "---  ------                             --------------  -----   \n",
      " 0   customer_id                        7043 non-null   string  \n",
      " 1   contract                           7043 non-null   category\n",
      " 2   paperless_billing                  7043 non-null   category\n",
      " 3   payment_method                     7043 non-null   category\n",
      " 4   monthly_charges                    7043 non-null   float32 \n",
      " 5   avg_monthly_long_distance_charges  7043 non-null   float32 \n",
      " 6   total_charges                      7043 non-null   float32 \n",
      " 7   total_refunds                      7043 non-null   float32 \n",
      " 8   total_extra_data_charges           7043 non-null   int16   \n",
      " 9   total_long_distance_charges        7043 non-null   float32 \n",
      " 10  total_revenue                      7043 non-null   float32 \n",
      "dtypes: category(3), float32(6), int16(1), string(1)\n",
      "memory usage: 255.1 KB\n"
     ]
    }
   ],
   "source": [
    "df.info()"
   ]
  },
  {
   "cell_type": "markdown",
   "metadata": {},
   "source": [
    "# Feature Transforming"
   ]
  },
  {
   "cell_type": "code",
   "execution_count": 50,
   "metadata": {},
   "outputs": [
    {
     "name": "stdout",
     "output_type": "stream",
     "text": [
      "Numerical columns:\n",
      "['monthly_charges', 'avg_monthly_long_distance_charges', 'monthly_charges_equal_width', 'avg_monthly_long_distance_charges_equal_width', 'sqrt_total_refunds_equal_width', 'sqrt_total_extra_data_charges_equal_width', 'sqrt_total_long_distance_charges_equal_width', 'sqrt_total_charges_equal_width', 'sqrt_total_revenue_equal_width']\n",
      "\n",
      "Total Number of Numerical columns:\n",
      "9\n"
     ]
    }
   ],
   "source": [
    "# selecting Numerical columns\n",
    "\n",
    "numerical_col=df.select_dtypes(include=[\"int16\",\"float32\"]).columns.tolist()\n",
    "print(f\"Numerical columns:\\n{numerical_col}\")\n",
    "print(f\"\\nTotal Number of Numerical columns:\\n{len(numerical_col)}\")\n"
   ]
  },
  {
   "cell_type": "markdown",
   "metadata": {},
   "source": [
    "#Mathemetical transforming"
   ]
  },
  {
   "cell_type": "code",
   "execution_count": 14,
   "metadata": {},
   "outputs": [
    {
     "name": "stdout",
     "output_type": "stream",
     "text": [
      "Skewness of numerical features:\n",
      "total_refunds                        4.328517\n",
      "total_extra_data_charges             4.091209\n",
      "total_long_distance_charges          1.238282\n",
      "total_charges                        0.963791\n",
      "total_revenue                        0.919410\n",
      "avg_monthly_long_distance_charges    0.049176\n",
      "monthly_charges                     -0.220524\n",
      "dtype: float64\n"
     ]
    }
   ],
   "source": [
    "# calculating skewness for numerical columns\n",
    "\n",
    "skewness=df[numerical_col].skew().sort_values(ascending=False)\n",
    "print(f\"Skewness of numerical features:\\n{skewness}\")"
   ]
  },
  {
   "cell_type": "code",
   "execution_count": 16,
   "metadata": {},
   "outputs": [
    {
     "data": {
      "text/plain": [
       "total_refunds                  4.328517\n",
       "total_extra_data_charges       4.091209\n",
       "total_long_distance_charges    1.238282\n",
       "total_charges                  0.963791\n",
       "total_revenue                  0.919410\n",
       "dtype: float64"
      ]
     },
     "execution_count": 16,
     "metadata": {},
     "output_type": "execute_result"
    }
   ],
   "source": [
    "# indentify features that need mathemetiucal transformation\n",
    "\n",
    "skewed_features=skewness[abs(skewness)>0.5]\n",
    "skewed_features"
   ]
  },
  {
   "cell_type": "code",
   "execution_count": 23,
   "metadata": {},
   "outputs": [],
   "source": [
    "# Log or square root texnic\n",
    "\n",
    "df[\"sqrt_total_refunds\"]=np.sqrt(df[\"total_refunds\"])\n",
    "df[\"sqrt_total_extra_data_charges\"]=np.sqrt(df[\"total_extra_data_charges\"])\n",
    "df[\"sqrt_total_long_distance_charges\"]=np.sqrt(df[\"total_long_distance_charges\"])\n",
    "df[\"sqrt_total_charges\"]=np.sqrt(df[\"total_charges\"])\n",
    "df[\"sqrt_total_revenue\"]=np.sqrt(df[\"total_revenue\"])\n"
   ]
  },
  {
   "cell_type": "code",
   "execution_count": 24,
   "metadata": {},
   "outputs": [
    {
     "name": "stdout",
     "output_type": "stream",
     "text": [
      "<class 'pandas.core.frame.DataFrame'>\n",
      "RangeIndex: 7043 entries, 0 to 7042\n",
      "Data columns (total 16 columns):\n",
      " #   Column                             Non-Null Count  Dtype   \n",
      "---  ------                             --------------  -----   \n",
      " 0   customer_id                        7043 non-null   string  \n",
      " 1   contract                           7043 non-null   category\n",
      " 2   paperless_billing                  7043 non-null   category\n",
      " 3   payment_method                     7043 non-null   category\n",
      " 4   monthly_charges                    7043 non-null   float32 \n",
      " 5   avg_monthly_long_distance_charges  7043 non-null   float32 \n",
      " 6   total_charges                      7043 non-null   float32 \n",
      " 7   total_refunds                      7043 non-null   float32 \n",
      " 8   total_extra_data_charges           7043 non-null   int16   \n",
      " 9   total_long_distance_charges        7043 non-null   float32 \n",
      " 10  total_revenue                      7043 non-null   float32 \n",
      " 11  sqrt_total_refunds                 7043 non-null   float32 \n",
      " 12  sqrt_total_extra_data_charges      7043 non-null   float32 \n",
      " 13  sqrt_total_long_distance_charges   7043 non-null   float32 \n",
      " 14  sqrt_total_charges                 7043 non-null   float32 \n",
      " 15  sqrt_total_revenue                 7043 non-null   float32 \n",
      "dtypes: category(3), float32(11), int16(1), string(1)\n",
      "memory usage: 392.6 KB\n"
     ]
    }
   ],
   "source": [
    "df.info()"
   ]
  },
  {
   "cell_type": "code",
   "execution_count": 28,
   "metadata": {},
   "outputs": [
    {
     "data": {
      "text/plain": [
       "0        593.299988\n",
       "1        542.400024\n",
       "2        280.850006\n",
       "3       1237.849976\n",
       "4        267.399994\n",
       "           ...     \n",
       "7038     742.900024\n",
       "7039    1873.699951\n",
       "7040      92.750000\n",
       "7041    4627.649902\n",
       "7042    3707.600098\n",
       "Name: total_charges, Length: 7043, dtype: float32"
      ]
     },
     "execution_count": 28,
     "metadata": {},
     "output_type": "execute_result"
    }
   ],
   "source": [
    "df[\"total_charges\"]"
   ]
  },
  {
   "cell_type": "code",
   "execution_count": 26,
   "metadata": {},
   "outputs": [
    {
     "data": {
      "text/plain": [
       "0       24.357750\n",
       "1       23.289484\n",
       "2       16.758579\n",
       "3       35.183094\n",
       "4       16.352369\n",
       "          ...    \n",
       "7038    27.256193\n",
       "7039    43.286255\n",
       "7040     9.630680\n",
       "7041    68.026833\n",
       "7042    60.890064\n",
       "Name: sqrt_total_charges, Length: 7043, dtype: float32"
      ]
     },
     "execution_count": 26,
     "metadata": {},
     "output_type": "execute_result"
    }
   ],
   "source": [
    "df[\"sqrt_total_charges\"]"
   ]
  },
  {
   "cell_type": "code",
   "execution_count": 29,
   "metadata": {},
   "outputs": [],
   "source": [
    "# dropping old columns\n",
    "\n",
    "df.drop([\"total_charges\",\"total_refunds\",\"total_extra_data_charges\",\"total_long_distance_charges\",\"total_revenue\"],axis=1,inplace=True)\n",
    "\n",
    "\n"
   ]
  },
  {
   "cell_type": "code",
   "execution_count": 30,
   "metadata": {},
   "outputs": [
    {
     "name": "stdout",
     "output_type": "stream",
     "text": [
      "<class 'pandas.core.frame.DataFrame'>\n",
      "RangeIndex: 7043 entries, 0 to 7042\n",
      "Data columns (total 11 columns):\n",
      " #   Column                             Non-Null Count  Dtype   \n",
      "---  ------                             --------------  -----   \n",
      " 0   customer_id                        7043 non-null   string  \n",
      " 1   contract                           7043 non-null   category\n",
      " 2   paperless_billing                  7043 non-null   category\n",
      " 3   payment_method                     7043 non-null   category\n",
      " 4   monthly_charges                    7043 non-null   float32 \n",
      " 5   avg_monthly_long_distance_charges  7043 non-null   float32 \n",
      " 6   sqrt_total_refunds                 7043 non-null   float32 \n",
      " 7   sqrt_total_extra_data_charges      7043 non-null   float32 \n",
      " 8   sqrt_total_long_distance_charges   7043 non-null   float32 \n",
      " 9   sqrt_total_charges                 7043 non-null   float32 \n",
      " 10  sqrt_total_revenue                 7043 non-null   float32 \n",
      "dtypes: category(3), float32(7), string(1)\n",
      "memory usage: 268.8 KB\n"
     ]
    }
   ],
   "source": [
    "df.info()"
   ]
  },
  {
   "cell_type": "code",
   "execution_count": 31,
   "metadata": {},
   "outputs": [
    {
     "data": {
      "text/html": [
       "<div>\n",
       "<style scoped>\n",
       "    .dataframe tbody tr th:only-of-type {\n",
       "        vertical-align: middle;\n",
       "    }\n",
       "\n",
       "    .dataframe tbody tr th {\n",
       "        vertical-align: top;\n",
       "    }\n",
       "\n",
       "    .dataframe thead th {\n",
       "        text-align: right;\n",
       "    }\n",
       "</style>\n",
       "<table border=\"1\" class=\"dataframe\">\n",
       "  <thead>\n",
       "    <tr style=\"text-align: right;\">\n",
       "      <th></th>\n",
       "      <th>customer_id</th>\n",
       "      <th>contract</th>\n",
       "      <th>paperless_billing</th>\n",
       "      <th>payment_method</th>\n",
       "      <th>monthly_charges</th>\n",
       "      <th>avg_monthly_long_distance_charges</th>\n",
       "      <th>sqrt_total_refunds</th>\n",
       "      <th>sqrt_total_extra_data_charges</th>\n",
       "      <th>sqrt_total_long_distance_charges</th>\n",
       "      <th>sqrt_total_charges</th>\n",
       "      <th>sqrt_total_revenue</th>\n",
       "    </tr>\n",
       "  </thead>\n",
       "  <tbody>\n",
       "    <tr>\n",
       "      <th>7040</th>\n",
       "      <td>9992-UJOEL</td>\n",
       "      <td>Month-to-Month</td>\n",
       "      <td>Yes</td>\n",
       "      <td>Mailed check</td>\n",
       "      <td>50.299999</td>\n",
       "      <td>18.620001</td>\n",
       "      <td>0.0</td>\n",
       "      <td>0.0</td>\n",
       "      <td>6.102458</td>\n",
       "      <td>9.630680</td>\n",
       "      <td>11.401316</td>\n",
       "    </tr>\n",
       "    <tr>\n",
       "      <th>7041</th>\n",
       "      <td>9993-LHIEB</td>\n",
       "      <td>Two Year</td>\n",
       "      <td>No</td>\n",
       "      <td>Mailed check</td>\n",
       "      <td>67.849998</td>\n",
       "      <td>2.120000</td>\n",
       "      <td>0.0</td>\n",
       "      <td>0.0</td>\n",
       "      <td>11.918054</td>\n",
       "      <td>68.026833</td>\n",
       "      <td>69.062943</td>\n",
       "    </tr>\n",
       "    <tr>\n",
       "      <th>7042</th>\n",
       "      <td>9995-HOTOH</td>\n",
       "      <td>Two Year</td>\n",
       "      <td>No</td>\n",
       "      <td>Electronic check</td>\n",
       "      <td>59.000000</td>\n",
       "      <td>0.000000</td>\n",
       "      <td>0.0</td>\n",
       "      <td>0.0</td>\n",
       "      <td>0.000000</td>\n",
       "      <td>60.890064</td>\n",
       "      <td>60.890064</td>\n",
       "    </tr>\n",
       "  </tbody>\n",
       "</table>\n",
       "</div>"
      ],
      "text/plain": [
       "     customer_id        contract paperless_billing    payment_method  \\\n",
       "7040  9992-UJOEL  Month-to-Month               Yes      Mailed check   \n",
       "7041  9993-LHIEB        Two Year                No      Mailed check   \n",
       "7042  9995-HOTOH        Two Year                No  Electronic check   \n",
       "\n",
       "      monthly_charges  avg_monthly_long_distance_charges  sqrt_total_refunds  \\\n",
       "7040        50.299999                          18.620001                 0.0   \n",
       "7041        67.849998                           2.120000                 0.0   \n",
       "7042        59.000000                           0.000000                 0.0   \n",
       "\n",
       "      sqrt_total_extra_data_charges  sqrt_total_long_distance_charges  \\\n",
       "7040                            0.0                          6.102458   \n",
       "7041                            0.0                         11.918054   \n",
       "7042                            0.0                          0.000000   \n",
       "\n",
       "      sqrt_total_charges  sqrt_total_revenue  \n",
       "7040            9.630680           11.401316  \n",
       "7041           68.026833           69.062943  \n",
       "7042           60.890064           60.890064  "
      ]
     },
     "execution_count": 31,
     "metadata": {},
     "output_type": "execute_result"
    }
   ],
   "source": [
    "df.tail(3)"
   ]
  },
  {
   "cell_type": "markdown",
   "metadata": {},
   "source": [
    "#Discretization transform"
   ]
  },
  {
   "cell_type": "code",
   "execution_count": 33,
   "metadata": {},
   "outputs": [
    {
     "name": "stdout",
     "output_type": "stream",
     "text": [
      "Continues number features for potential discretization:\n",
      "['monthly_charges', 'avg_monthly_long_distance_charges', 'sqrt_total_refunds', 'sqrt_total_extra_data_charges', 'sqrt_total_long_distance_charges', 'sqrt_total_charges', 'sqrt_total_revenue']\n"
     ]
    }
   ],
   "source": [
    "# selecting continues features\n",
    "\n",
    "continue_features=df.select_dtypes(include=[\"float32\"]).columns.tolist()\n",
    "print(f\"Continues number features for potential discretization:\\n{continue_features}\")"
   ]
  },
  {
   "cell_type": "code",
   "execution_count": 41,
   "metadata": {},
   "outputs": [],
   "source": [
    "equal_width=KBinsDiscretizer(n_bins=5,encode=\"ordinal\",strategy=\"uniform\")\n",
    "\n",
    "for featue in continue_features:\n",
    "    df[f\"{featue}_equal_width\"]=equal_width.fit_transform(df[[featue]])"
   ]
  },
  {
   "cell_type": "code",
   "execution_count": 42,
   "metadata": {},
   "outputs": [
    {
     "name": "stdout",
     "output_type": "stream",
     "text": [
      "<class 'pandas.core.frame.DataFrame'>\n",
      "RangeIndex: 7043 entries, 0 to 7042\n",
      "Data columns (total 18 columns):\n",
      " #   Column                                         Non-Null Count  Dtype   \n",
      "---  ------                                         --------------  -----   \n",
      " 0   customer_id                                    7043 non-null   string  \n",
      " 1   contract                                       7043 non-null   category\n",
      " 2   paperless_billing                              7043 non-null   category\n",
      " 3   payment_method                                 7043 non-null   category\n",
      " 4   monthly_charges                                7043 non-null   float32 \n",
      " 5   avg_monthly_long_distance_charges              7043 non-null   float32 \n",
      " 6   sqrt_total_refunds                             7043 non-null   float32 \n",
      " 7   sqrt_total_extra_data_charges                  7043 non-null   float32 \n",
      " 8   sqrt_total_long_distance_charges               7043 non-null   float32 \n",
      " 9   sqrt_total_charges                             7043 non-null   float32 \n",
      " 10  sqrt_total_revenue                             7043 non-null   float32 \n",
      " 11  monthly_charges_equal_width                    7043 non-null   float32 \n",
      " 12  avg_monthly_long_distance_charges_equal_width  7043 non-null   float32 \n",
      " 13  sqrt_total_refunds_equal_width                 7043 non-null   float32 \n",
      " 14  sqrt_total_extra_data_charges_equal_width      7043 non-null   float32 \n",
      " 15  sqrt_total_long_distance_charges_equal_width   7043 non-null   float32 \n",
      " 16  sqrt_total_charges_equal_width                 7043 non-null   float32 \n",
      " 17  sqrt_total_revenue_equal_width                 7043 non-null   float32 \n",
      "dtypes: category(3), float32(14), string(1)\n",
      "memory usage: 461.4 KB\n"
     ]
    }
   ],
   "source": [
    "df.info()"
   ]
  },
  {
   "cell_type": "code",
   "execution_count": 47,
   "metadata": {},
   "outputs": [
    {
     "name": "stdout",
     "output_type": "stream",
     "text": [
      "0       0.000000\n",
      "1       6.191123\n",
      "2       0.000000\n",
      "3       0.000000\n",
      "4       0.000000\n",
      "          ...   \n",
      "7038    0.000000\n",
      "7039    0.000000\n",
      "7040    0.000000\n",
      "7041    0.000000\n",
      "7042    0.000000\n",
      "Name: sqrt_total_refunds, Length: 7043, dtype: float32\n",
      "0       0.0\n",
      "1       4.0\n",
      "2       0.0\n",
      "3       0.0\n",
      "4       0.0\n",
      "       ... \n",
      "7038    0.0\n",
      "7039    0.0\n",
      "7040    0.0\n",
      "7041    0.0\n",
      "7042    0.0\n",
      "Name: sqrt_total_refunds_equal_width, Length: 7043, dtype: float32\n"
     ]
    }
   ],
   "source": [
    "print(df[\"sqrt_total_refunds\"])\n",
    "print(df[\"sqrt_total_refunds_equal_width\"])"
   ]
  },
  {
   "cell_type": "code",
   "execution_count": 44,
   "metadata": {},
   "outputs": [
    {
     "data": {
      "text/plain": [
       "0       0.000000\n",
       "1       6.191123\n",
       "2       0.000000\n",
       "3       0.000000\n",
       "4       0.000000\n",
       "          ...   \n",
       "7038    0.000000\n",
       "7039    0.000000\n",
       "7040    0.000000\n",
       "7041    0.000000\n",
       "7042    0.000000\n",
       "Name: sqrt_total_refunds, Length: 7043, dtype: float32"
      ]
     },
     "execution_count": 44,
     "metadata": {},
     "output_type": "execute_result"
    }
   ],
   "source": [
    "df[\"sqrt_total_refunds\"]"
   ]
  },
  {
   "cell_type": "code",
   "execution_count": 46,
   "metadata": {},
   "outputs": [
    {
     "name": "stdout",
     "output_type": "stream",
     "text": [
      "0       65.599998\n",
      "1       59.900002\n",
      "2       73.900002\n",
      "3       98.000000\n",
      "4       83.900002\n",
      "          ...    \n",
      "7038    55.150002\n",
      "7039    85.099998\n",
      "7040    50.299999\n",
      "7041    67.849998\n",
      "7042    59.000000\n",
      "Name: monthly_charges, Length: 7043, dtype: float32\n",
      "0       2.0\n",
      "1       2.0\n",
      "2       2.0\n",
      "3       3.0\n",
      "4       3.0\n",
      "       ... \n",
      "7038    1.0\n",
      "7039    3.0\n",
      "7040    1.0\n",
      "7041    2.0\n",
      "7042    2.0\n",
      "Name: monthly_charges_equal_width, Length: 7043, dtype: float32\n"
     ]
    }
   ],
   "source": [
    "print(df[\"monthly_charges\"])\n",
    "print(df[\"monthly_charges_equal_width\"])"
   ]
  },
  {
   "cell_type": "code",
   "execution_count": 48,
   "metadata": {},
   "outputs": [],
   "source": [
    "# dropping old colums\n",
    "df.drop([\"sqrt_total_refunds\",\"sqrt_total_extra_data_charges\",\"sqrt_total_long_distance_charges\",\"sqrt_total_charges\",\"sqrt_total_revenue\"],axis=1,inplace=True)"
   ]
  },
  {
   "cell_type": "code",
   "execution_count": 49,
   "metadata": {},
   "outputs": [
    {
     "name": "stdout",
     "output_type": "stream",
     "text": [
      "<class 'pandas.core.frame.DataFrame'>\n",
      "RangeIndex: 7043 entries, 0 to 7042\n",
      "Data columns (total 13 columns):\n",
      " #   Column                                         Non-Null Count  Dtype   \n",
      "---  ------                                         --------------  -----   \n",
      " 0   customer_id                                    7043 non-null   string  \n",
      " 1   contract                                       7043 non-null   category\n",
      " 2   paperless_billing                              7043 non-null   category\n",
      " 3   payment_method                                 7043 non-null   category\n",
      " 4   monthly_charges                                7043 non-null   float32 \n",
      " 5   avg_monthly_long_distance_charges              7043 non-null   float32 \n",
      " 6   monthly_charges_equal_width                    7043 non-null   float32 \n",
      " 7   avg_monthly_long_distance_charges_equal_width  7043 non-null   float32 \n",
      " 8   sqrt_total_refunds_equal_width                 7043 non-null   float32 \n",
      " 9   sqrt_total_extra_data_charges_equal_width      7043 non-null   float32 \n",
      " 10  sqrt_total_long_distance_charges_equal_width   7043 non-null   float32 \n",
      " 11  sqrt_total_charges_equal_width                 7043 non-null   float32 \n",
      " 12  sqrt_total_revenue_equal_width                 7043 non-null   float32 \n",
      "dtypes: category(3), float32(9), string(1)\n",
      "memory usage: 323.8 KB\n"
     ]
    }
   ],
   "source": [
    "df.info()"
   ]
  },
  {
   "cell_type": "code",
   "execution_count": null,
   "metadata": {},
   "outputs": [],
   "source": []
  }
 ],
 "metadata": {
  "kernelspec": {
   "display_name": "Python 3",
   "language": "python",
   "name": "python3"
  },
  "language_info": {
   "codemirror_mode": {
    "name": "ipython",
    "version": 3
   },
   "file_extension": ".py",
   "mimetype": "text/x-python",
   "name": "python",
   "nbconvert_exporter": "python",
   "pygments_lexer": "ipython3",
   "version": "3.12.0"
  }
 },
 "nbformat": 4,
 "nbformat_minor": 2
}
