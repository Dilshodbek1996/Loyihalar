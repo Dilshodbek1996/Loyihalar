{
 "cells": [
  {
   "cell_type": "markdown",
   "metadata": {},
   "source": [
    "First simple Pyton codes\n",
    "\n"
   ]
  },
  {
   "cell_type": "code",
   "execution_count": 11,
   "metadata": {},
   "outputs": [
    {
     "name": "stdout",
     "output_type": "stream",
     "text": [
      "Hi Dilshodbek! \n",
      "Dilshodbek is at 28\n",
      "Dilshodbek likes green\n"
     ]
    }
   ],
   "source": [
    "name=input(\"What is your name? \")  # bu lineda input funksiyasi orqali foydalanuvchidan uning ismi so'ralmoqda \n",
    "print(\"Hi  \"+ name )           # birinchi lineda  kirtilganan ma'lumotni print funkisyasi  orqali  natijalar ekranga chiqarish\n",
    "age=input(\" How old are you? \") # bu line da ham input funksiyasi orqali foydalanuvchini boshqa ma'lumoti so'ralmoqda \n",
    "print(name + \" is at \" + age) # bu yerda ham print orqali 1- va 3-linelarda  foydalanuvchi tomonidan kiritilgan ma'lumotlar bir biriga bog'lanib ekranga chiqarish\n",
    "color=input(\" What is your favorite color? \") # foydalanuvchini yana bir shaxsiy ma'lumoti input funksiytasi orqali so'ralmoqda\n",
    "print(name + \" likes \" + color ) # 1- va oxirgi line lardagi foydalanuvchi kiritgan ma'lumotlar birlashtirib natijalar ekraniga chiqarish buyrug'i kiritilgan"
   ]
  },
  {
   "cell_type": "code",
   "execution_count": 18,
   "metadata": {},
   "outputs": [
    {
     "name": "stdout",
     "output_type": "stream",
     "text": [
      "Your current age is 28\n"
     ]
    }
   ],
   "source": [
    "birth_year=input(\"Wirite your birth year?\")# Input yordamida foydalanuvchidan tug'ilgan yilini yozishi so'ralmoqda va bu buyruqni o'zini birth_year deb nomlangan \n",
    "                                            # o'zgaruvchi bilan coding qilinmoqda.\n",
    "age=2024-int(birth_year)                  # Age deb nomlangan o'zgaruchiga quyidagi qiymatlarni bermoqdamiz ya'ni joriy yilni yozib undan birth_year deb nom bergan o'zgaruvchiga \n",
    "                                           #  kiritgan ma'lumotimizni  qiymatimizni ayirishini so'ramoqdamiz lekin 2024 bu intejer ya'ni raqamli ma'lumot bo'lganligi uchun undan  \n",
    "                                           # string(matnli) tipli ma'lumotni ayiraolmaganligimiz uchun string tipli ma'lumotni \"int(birth_year)\" ushbu usul yordamida int tipli \n",
    "                                           # o'zgaruvchiga aylantirib olinishi.\n",
    "print(\"Your current age is \"+str(age)) # print yordamida oxirgi natijani erkanga chiqaarilishi va bu yerda \" \" ichida kiritgan ma'lumot string tipida bo'lgani uchun unga \n",
    "                                           # qo'shib chiqariladigan ma'lumot int tipida bo'lgani uchun uni ham str(age) amali orqali string tipiga o'tkazib  to'ri\n",
    "                                           # natiga chiqarish buyrug'i berilishi"
   ]
  },
  {
   "cell_type": "code",
   "execution_count": 17,
   "metadata": {},
   "outputs": [
    {
     "name": "stdout",
     "output_type": "stream",
     "text": [
      "ALAN [TURING]  WAS A FIRST CODER\n"
     ]
    }
   ],
   "source": [
    "first_name=\"Alan\"\n",
    "last_name=\"Turing\"\n",
    "message=f'{first_name} [{last_name}]  was a first coder'\n",
    "print(message.upper())"
   ]
  },
  {
   "cell_type": "code",
   "execution_count": 16,
   "metadata": {},
   "outputs": [
    {
     "name": "stdout",
     "output_type": "stream",
     "text": [
      "Hi new Coder!\n",
      "It is your first coding in \"Pyhton course\"\n",
      "Good luck and Never stop to learning Mr D.\n",
      "Take care yourself.\n"
     ]
    }
   ],
   "source": [
    "print('''Hi new Coder!\n",
    "It is your first coding in \"Pyhton course\"\n",
    "Good luck and Never stop to learning Mr D.\n",
    "Take care yourself.''')"
   ]
  },
  {
   "cell_type": "code",
   "execution_count": 28,
   "metadata": {},
   "outputs": [
    {
     "name": "stdout",
     "output_type": "stream",
     "text": [
      "Deep learning and Artificial Intelligent\n"
     ]
    }
   ],
   "source": [
    "course=\"Machine learning and Artificial Intelligent\"# course nomli o'zgaruvchiga string tipli qiymat berdik\n",
    "print(course.replace('Machine','Deep'))# course.replace amali orqali biron bir berilgan qiymatni biz bergan boshqa qiymat bilan joyini almashtirib qo'yilishi (masalan  bu yerda 'Machine'\n",
    "                                       # so'zini 'Deep\" so'zi bilan almashtirib qo'ydi)"
   ]
  },
  {
   "cell_type": "code",
   "execution_count": 31,
   "metadata": {},
   "outputs": [
    {
     "name": "stdout",
     "output_type": "stream",
     "text": [
      "True\n",
      "False\n",
      "False\n"
     ]
    }
   ],
   "source": [
    "course=\" AI, ML, DL, NLP\" # o'zgaruvchiga ketma ket bir nechta qiymatlar berilishi\n",
    "print('DL' in course)     # course nomli o'zgaruvchiga berilgan qiymatlar orasida 'DL' qiymati bor yoki yo'qligini natijada chiqarish Javoblar \"True yoki False\" ko'rinishoida chiqadi\n",
    "print('Data scence' in course)\n",
    "print('Artificial Intellegent, Machine Learningh,' in course)"
   ]
  },
  {
   "cell_type": "code",
   "execution_count": 34,
   "metadata": {},
   "outputs": [
    {
     "name": "stdout",
     "output_type": "stream",
     "text": [
      "17\n",
      " PYTHON IS GREAT!\n",
      "11\n",
      " Java is great!\n"
     ]
    }
   ],
   "source": [
    "A=\" Python is great!\"\n",
    "print(len(A))     # len(A) amali orqali A o'zgaruvchiga berilgan qiymatlar uzunligi indekslar bilan sanalanishi( Bu yerda 17 ta indeksdan iboratligini ko'rishimiz mumkin)\n",
    "print(A.upper())  # A.upper() amali orqali A o'zgaruvchiga berilgan qiymatlarni hammasini katta letterlar bilan erkanga chiqarilishi\n",
    "print(A.find('g'))# A.find('g') Amalida esa A o'zgaruvchiga berilgan qiymatlar orasida g belgisini yoki harfini topishni so'ralishi va u belgi nechanchi indeksdaligini ekranga chiqarib berilishi\n",
    "print(A.replace('Python','Java'))"
   ]
  },
  {
   "cell_type": "code",
   "execution_count": 38,
   "metadata": {},
   "outputs": [
    {
     "name": "stdout",
     "output_type": "stream",
     "text": [
      " Ob-havo juda ajoyib\n",
      " Kuningiz yaxshi o'tsin \n",
      " O'zizni ehtiyot qiling\n"
     ]
    }
   ],
   "source": [
    "ob_havo_sovuq=False\n",
    "ob_havo_issiq=False\n",
    "if ob_havo_sovuq:\n",
    "    print(\" Ob-havo  juda sovuq\\n Issiqroq kiyining\")\n",
    "elif  ob_havo_issiq:\n",
    "    print(\"Ob-Havo juda issiq\\n Ko'roq suv iching\")\n",
    "else:\n",
    "    print(\" Ob-havo juda ajoyib\\n Kuningiz yaxshi o'tsin \")\n",
    "print(\" O'zizni ehtiyot qiling\")           "
   ]
  },
  {
   "cell_type": "code",
   "execution_count": 3,
   "metadata": {},
   "outputs": [
    {
     "name": "stdout",
     "output_type": "stream",
     "text": [
      "HAPPY BITHDAY!\n",
      "You are 29 years old\n"
     ]
    }
   ],
   "source": [
    "age=input(\" How old are you? \")\n",
    "age=int(age)+1\n",
    "print(\"HAPPY BITHDAY!\")\n",
    "print(f\"You are {age} years old\")"
   ]
  },
  {
   "cell_type": "code",
   "execution_count": null,
   "metadata": {},
   "outputs": [
    {
     "name": "stdout",
     "output_type": "stream",
     "text": [
      "15625\n"
     ]
    }
   ],
   "source": [
    "# ISTALGAN SONNI ISTALGAN DARAJASINI EKRANGA CHIQARING(TOPING)\n",
    "\n",
    "a=int(input(\"Sonni kriting: \"))\n",
    "b=int(input(\"Darajani kriting: \"))\n",
    "c=pow(a,b)\n",
    "print(c)"
   ]
  },
  {
   "cell_type": "code",
   "execution_count": 9,
   "metadata": {},
   "outputs": [
    {
     "name": "stdout",
     "output_type": "stream",
     "text": [
      "<class 'str'>\n",
      "<class 'int'>\n",
      "<class 'float'>\n",
      "<class 'bool'>\n"
     ]
    }
   ],
   "source": [
    "#O'tilgan 4 turdagi data typelar yarating va ularni xaqiqatdan o'sha data typega mansub ekanligini ko'rsating\n",
    "\n",
    "name=(\"Dilshodbek\")\n",
    "age=28\n",
    "weight=64.8\n",
    "is_new_coder=True\n",
    "print(type(name))\n",
    "print(type(age))\n",
    "print(type(weight))\n",
    "print(type(is_new_coder))\n",
    "      "
   ]
  },
  {
   "cell_type": "code",
   "execution_count": 19,
   "metadata": {},
   "outputs": [
    {
     "name": "stdout",
     "output_type": "stream",
     "text": [
      "Python for beginne\n"
     ]
    }
   ],
   "source": [
    "#Berilgan stringni boshi va oxirdan 2chi da turgan xarflardan iborat so'z xosil qiling\n",
    "\n",
    "words=\" Python for beginners\"\n",
    "print(words[1:19])"
   ]
  },
  {
   "cell_type": "code",
   "execution_count": 26,
   "metadata": {},
   "outputs": [
    {
     "name": "stdout",
     "output_type": "stream",
     "text": [
      "Berilgan ikki xonali sonning raqamalari yig'indisi: 15  \n"
     ]
    }
   ],
   "source": [
    "#Ikki xonali sonning raqamlar yig'indisini toping(ixtiyoriy: Xarakat qilib ko'ring)\n",
    "\n",
    "x=78 # ikki xonali sonni x deb belgilasak\n",
    "x=7*10+8 # ikki xonali sonni ifodalashda quyidagi formulaga ko'ra x=10*a+b bunda a=7 va be=8\n",
    "y=(x//10)+(x%10)# x//10 bu amal  bo'linmaning butun qismini oladi x%10 bu ese qoldiq qisminigina oladi\n",
    "print(f\"Berilgan ikki xonali sonning raqamalari yig'indisi: {y}  \")\n"
   ]
  },
  {
   "cell_type": "code",
   "execution_count": 27,
   "metadata": {},
   "outputs": [
    {
     "name": "stdout",
     "output_type": "stream",
     "text": [
      "MICHA\n"
     ]
    }
   ],
   "source": [
    "#String yarating va uni boshidan 4 ta xarfidan iborat so'z xosil qiling\n",
    "\n",
    "full_name=\"MICHAEL SCOFIEID\"\n",
    "print(full_name[:5])\n"
   ]
  },
  {
   "cell_type": "code",
   "execution_count": 28,
   "metadata": {},
   "outputs": [
    {
     "name": "stdout",
     "output_type": "stream",
     "text": [
      "Bo'linuchini bo'luvchiga bo'lganimizdagi qoldiq son: 6 \n"
     ]
    }
   ],
   "source": [
    "#Berilgan sonni berilgan boshqa songa bo'lganimizdagi qoldiqni toping\n",
    "\n",
    "k=int(input(\"Bo'linuvchini kiriting: \")) # 78\n",
    "n=int(input(\"Bo'luvchini kiriting: \"))   # 9\n",
    "m=k%n                                    # 78/9=9*8+6  (6-bu qoldiq son)\n",
    "print(f\"Bo'linuchini bo'luvchiga bo'lganimizdagi qoldiq son: {m} \")\n"
   ]
  },
  {
   "cell_type": "code",
   "execution_count": null,
   "metadata": {},
   "outputs": [],
   "source": []
  },
  {
   "cell_type": "code",
   "execution_count": 7,
   "metadata": {},
   "outputs": [
    {
     "name": "stdout",
     "output_type": "stream",
     "text": [
      "Correct You found!\n"
     ]
    }
   ],
   "source": [
    "a=int(input(\"Please write any number: \"))\n",
    "if a%2==0 and a%3==0:\n",
    "    print(\"Correct You found!\")"
   ]
  }
 ],
 "metadata": {
  "kernelspec": {
   "display_name": "Python 3",
   "language": "python",
   "name": "python3"
  },
  "language_info": {
   "codemirror_mode": {
    "name": "ipython",
    "version": 3
   },
   "file_extension": ".py",
   "mimetype": "text/x-python",
   "name": "python",
   "nbconvert_exporter": "python",
   "pygments_lexer": "ipython3",
   "version": "3.12.0"
  }
 },
 "nbformat": 4,
 "nbformat_minor": 2
}
