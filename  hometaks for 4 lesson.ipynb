{
 "cells": [
  {
   "cell_type": "markdown",
   "metadata": {},
   "source": [
    "# Arifmetik amallar"
   ]
  },
  {
   "cell_type": "code",
   "execution_count": 5,
   "metadata": {},
   "outputs": [
    {
     "name": "stdout",
     "output_type": "stream",
     "text": [
      " No'to'g'ri amal kritildi.\n",
      " Iltimos faqat berilgan amallardan birini tanlang\n",
      " (+, -, /, *, **, %, // ) \n"
     ]
    }
   ],
   "source": [
    "# 7 ta arifmetik amalni bajaraoladigan sodda calculator\n",
    "\n",
    "amal_=(input(\"Qanday amal bajaramiz: (+, -, /, *, **, %, // )\"))\n",
    "a=float(input(\"Birinchi sonni kriting: \"))\n",
    "b=float(input(\"Ikkinchi sonni kriting: \"))\n",
    "if amal_==(\"+\"):\n",
    "    c=a+b\n",
    "    print(f\"Yig'indi: {c} \")\n",
    "elif amal_==(\"-\"):\n",
    "    c=a-b\n",
    "    print(f\"Ayirma: {c} \")\n",
    "elif amal_==\"/\":\n",
    "    c=a/b\n",
    "    print(f\"Bo'linma: {c} \")   \n",
    "elif amal_==\"*\":\n",
    "    c=a*b\n",
    "    print(f\"Ko'paytma: {c} \")\n",
    "elif amal_==\"**\":\n",
    "    c=a**b\n",
    "    print(f\"Natija: {c} \")\n",
    "elif amal_==\"%\":\n",
    "    c=a%b\n",
    "    print(f\"Bo'linma qoldig'i: {c} \")\n",
    "elif amal_==\"//\":\n",
    "    c=a//b\n",
    "    print(f\"Bo'linmaning butun qismi: {c} \")\n",
    "else:\n",
    "    print(\" No'to'g'ri amal kritildi.\\n Iltimos faqat berilgan amallardan birini tanlang\\n (+, -, /, *, **, %, // ) \")    "
   ]
  },
  {
   "cell_type": "code",
   "execution_count": 13,
   "metadata": {},
   "outputs": [
    {
     "name": "stdout",
     "output_type": "stream",
     "text": [
      "Berilgan uchburchakning yuzi: S= 3.5 (mm², sm², dm²) \n"
     ]
    }
   ],
   "source": [
    "# Barcha tomonlari qiymatlari berilgan to'g'ri burchakli uchburchakning peremetri va yuzini hisoblab beradigan sodda dastur\n",
    "\n",
    "amal_=input(\"Nimani  topamiz?:  P (Perimerti) yoki S (Yuzi)\")\n",
    "if amal_==\"P\":\n",
    "    a=float(input(\"Birinchi tomonni(katet) kriting: (mm, sm, dm)\"))\n",
    "    b=float(input(\"Inkinchi tomonni(katet) kriting: (mm, sm, dm)\"))\n",
    "    c=float(input(\"Uchinchi tomonni(gipotenuza) kriting: (mm, sm, dm)\"))\n",
    "    P=a+b+c\n",
    "    print(f\"Berilgan uchburchakning perimetri: P= {P} (mm, sm, dm)\")\n",
    "elif amal_==\"S\":\n",
    "    a=float(input(\"Birinchi tomonni(katet) kriting: (mm, sm, dm)\"))\n",
    "    b=float(input(\"Inkinchi tomonni(katet) kriting: (mm, sm, dm)\"))\n",
    "    S=(a+b)/2\n",
    "    print(f\"Berilgan uchburchakning yuzi: S= {S} (mm², sm², dm²) \")\n",
    "else:\n",
    "    print(\"Kechirasiz bunday amalni barajara olmaymiz. \")               "
   ]
  },
  {
   "cell_type": "code",
   "execution_count": 21,
   "metadata": {},
   "outputs": [
    {
     "name": "stdout",
     "output_type": "stream",
     "text": [
      "-4.56  Siz kritgan son manfiy \n"
     ]
    }
   ],
   "source": [
    "# Agar son musbat bo'lsa Musbat manfiy bo'lsa Manfiy degan no'lga teng bo'lsa No'l degan yozuvni ekranga chiqarish\n",
    "\n",
    "\n",
    "m=float(input(\"Sonni kriting: \"))\n",
    "if m>0:\n",
    "    print(str(m) +\" Siz kritgan son musbat\")\n",
    "elif m<0:\n",
    "    print(str(m)+\"  Siz kritgan son manfiy \")\n",
    "elif m==0:\n",
    "    print(str(m)+\"  Siz kritgan son no'lga teng\")\n",
    "else:\n",
    "    print(\"Kechirasiz noto'gri son kritdiz\")    "
   ]
  },
  {
   "cell_type": "code",
   "execution_count": 25,
   "metadata": {},
   "outputs": [
    {
     "name": "stdout",
     "output_type": "stream",
     "text": [
      "Siz kritgan birinchi son 45.897 ikkinchi son 45.99 dan kichik\n"
     ]
    }
   ],
   "source": [
    "# a sondan b sonni katta yoki kichikligini ko'rsating\n",
    "\n",
    "a=float(input(\"Birinchi sonni kriting:\"))\n",
    "b=float(input(\"Ikkinchi sonni kriting:\"))\n",
    "if a>b:\n",
    "    print(f\"Siz kritgan birinchi son {a} ikkinchi son {b} dan katta\")\n",
    "elif a<b:\n",
    "    print(f\"Siz kritgan birinchi son {a} ikkinchi son {b} dan kichik\")\n",
    "elif a==b:\n",
    "    print(f\"Siz kritgan birinchi son {a} ikkinchi son {b} ga teng\")\n",
    "else:\n",
    "    print(\"Kechirasiz bunday amalni bajara olmayman\")\n",
    "    \n"
   ]
  },
  {
   "cell_type": "code",
   "execution_count": 29,
   "metadata": {},
   "outputs": [
    {
     "name": "stdout",
     "output_type": "stream",
     "text": [
      "Siz kritgan sonlar o'rta arifmetigi: 32.5 \n"
     ]
    }
   ],
   "source": [
    "# Ikkita sonning yig'g'indisini o'rta arifmetigini topish \n",
    "\n",
    "m=float(input(\"Brinchi sonni kriting: \"))\n",
    "n=float(input(\"Ikkinchi sonni kriting: \"))\n",
    "orta_arifmetik=(m+n)/2\n",
    "print(f\"Siz kritgan sonlar o'rta arifmetigi: {orta_arifmetik} \")"
   ]
  }
 ],
 "metadata": {
  "kernelspec": {
   "display_name": "Python 3",
   "language": "python",
   "name": "python3"
  },
  "language_info": {
   "codemirror_mode": {
    "name": "ipython",
    "version": 3
   },
   "file_extension": ".py",
   "mimetype": "text/x-python",
   "name": "python",
   "nbconvert_exporter": "python",
   "pygments_lexer": "ipython3",
   "version": "3.12.0"
  }
 },
 "nbformat": 4,
 "nbformat_minor": 2
}
