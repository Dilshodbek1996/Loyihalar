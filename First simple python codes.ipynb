{
 "cells": [
  {
   "cell_type": "markdown",
   "metadata": {},
   "source": [
    "First simple Pyton codes\n",
    "\n"
   ]
  },
  {
   "cell_type": "code",
   "execution_count": 11,
   "metadata": {},
   "outputs": [
    {
     "name": "stdout",
     "output_type": "stream",
     "text": [
      "Hi Dilshodbek! \n",
      "Dilshodbek is at 28\n",
      "Dilshodbek likes green\n"
     ]
    }
   ],
   "source": [
    "name=input(\"What is your name? \")  # bu lineda input funksiyasi orqali foydalanuvchidan uning ismi so'ralmoqda \n",
    "print(\"Hi  \"+ name )           # birinchi lineda  kirtilganan ma'lumotni print funkisyasi  orqali  natijalar ekranga chiqarish\n",
    "age=input(\" How old are you? \") # bu line da ham input funksiyasi orqali foydalanuvchini boshqa ma'lumoti so'ralmoqda \n",
    "print(name + \" is at \" + age) # bu yerda ham print orqali 1- va 3-linelarda  foydalanuvchi tomonidan kiritilgan ma'lumotlar bir biriga bog'lanib ekranga chiqarish\n",
    "color=input(\" What is your favorite color? \") # foydalanuvchini yana bir shaxsiy ma'lumoti input funksiytasi orqali so'ralmoqda\n",
    "print(name + \" likes \" + color ) # 1- va oxirgi line lardagi foydalanuvchi kiritgan ma'lumotlar birlashtirib natijalar ekraniga chiqarish buyrug'i kiritilgan"
   ]
  },
  {
   "cell_type": "code",
   "execution_count": 18,
   "metadata": {},
   "outputs": [
    {
     "name": "stdout",
     "output_type": "stream",
     "text": [
      "Your current age is 28\n"
     ]
    }
   ],
   "source": [
    "birth_year=input(\"Wirite your birth year?\")# Input yordamida foydalanuvchidan tug'ilgan yilini yozishi so'ralmoqda va bu buyruqni o'zini birth_year deb nomlangan \n",
    "                                            # o'zgaruvchi bilan coding qilinmoqda.\n",
    "age=2024-int(birth_year)                  # Age deb nomlangan o'zgaruchiga quyidagi qiymatlarni bermoqdamiz ya'ni joriy yilni yozib undan birth_year deb nom bergan o'zgaruvchiga \n",
    "                                           #  kiritgan ma'lumotimizni  qiymatimizni ayirishini so'ramoqdamiz lekin 2024 bu intejer ya'ni raqamli ma'lumot bo'lganligi uchun undan  \n",
    "                                           # string(matnli) tipli ma'lumotni ayiraolmaganligimiz uchun string tipli ma'lumotni \"int(birth_year)\" ushbu usul yordamida int tipli \n",
    "                                           # o'zgaruvchiga aylantirib olinishi.\n",
    "print(\"Your current age is \"+str(age)) # print yordamida oxirgi natijani erkanga chiqaarilishi va bu yerda \" \" ichida kiritgan ma'lumot string tipida bo'lgani uchun unga \n",
    "                                           # qo'shib chiqariladigan ma'lumot int tipida bo'lgani uchun uni ham str(age) amali orqali string tipiga o'tkazib  to'ri\n",
    "                                           # natiga chiqarish buyrug'i berilishi"
   ]
  },
  {
   "cell_type": "code",
   "execution_count": 17,
   "metadata": {},
   "outputs": [
    {
     "name": "stdout",
     "output_type": "stream",
     "text": [
      "ALAN [TURING]  WAS A FIRST CODER\n"
     ]
    }
   ],
   "source": [
    "first_name=\"Alan\"\n",
    "last_name=\"Turing\"\n",
    "message=f'{first_name} [{last_name}]  was a first coder'\n",
    "print(message.upper())"
   ]
  },
  {
   "cell_type": "code",
   "execution_count": 16,
   "metadata": {},
   "outputs": [
    {
     "name": "stdout",
     "output_type": "stream",
     "text": [
      "Hi new Coder!\n",
      "It is your first coding in \"Pyhton course\"\n",
      "Good luck and Never stop to learning Mr D.\n",
      "Take care yourself.\n"
     ]
    }
   ],
   "source": [
    "print('''Hi new Coder!\n",
    "It is your first coding in \"Pyhton course\"\n",
    "Good luck and Never stop to learning Mr D.\n",
    "Take care yourself.''')"
   ]
  },
  {
   "cell_type": "code",
   "execution_count": 28,
   "metadata": {},
   "outputs": [
    {
     "name": "stdout",
     "output_type": "stream",
     "text": [
      "Deep learning and Artificial Intelligent\n"
     ]
    }
   ],
   "source": [
    "course=\"Machine learning and Artificial Intelligent\"# course nomli o'zgaruvchiga string tipli qiymat berdik\n",
    "print(course.replace('Machine','Deep'))# course.replace amali orqali biron bir berilgan qiymatni biz bergan boshqa qiymat bilan joyini almashtirib qo'yilishi (masalan  bu yerda 'Machine'\n",
    "                                       # so'zini 'Deep\" so'zi bilan almashtirib qo'ydi)"
   ]
  },
  {
   "cell_type": "code",
   "execution_count": 31,
   "metadata": {},
   "outputs": [
    {
     "name": "stdout",
     "output_type": "stream",
     "text": [
      "True\n",
      "False\n",
      "False\n"
     ]
    }
   ],
   "source": [
    "course=\" AI, ML, DL, NLP\" # o'zgaruvchiga ketma ket bir nechta qiymatlar berilishi\n",
    "print('DL' in course)     # course nomli o'zgaruvchiga berilgan qiymatlar orasida 'DL' qiymati bor yoki yo'qligini natijada chiqarish Javoblar \"True yoki False\" ko'rinishoida chiqadi\n",
    "print('Data scence' in course)\n",
    "print('Artificial Intellegent, Machine Learningh,' in course)"
   ]
  },
  {
   "cell_type": "code",
   "execution_count": 34,
   "metadata": {},
   "outputs": [
    {
     "name": "stdout",
     "output_type": "stream",
     "text": [
      "17\n",
      " PYTHON IS GREAT!\n",
      "11\n",
      " Java is great!\n"
     ]
    }
   ],
   "source": [
    "A=\" Python is great!\"\n",
    "print(len(A))     # len(A) amali orqali A o'zgaruvchiga berilgan qiymatlar uzunligi indekslar bilan sanalanishi( Bu yerda 17 ta indeksdan iboratligini ko'rishimiz mumkin)\n",
    "print(A.upper())  # A.upper() amali orqali A o'zgaruvchiga berilgan qiymatlarni hammasini katta letterlar bilan erkanga chiqarilishi\n",
    "print(A.find('g'))# A.find('g') Amalida esa A o'zgaruvchiga berilgan qiymatlar orasida g belgisini yoki harfini topishni so'ralishi va u belgi nechanchi indeksdaligini ekranga chiqarib berilishi\n",
    "print(A.replace('Python','Java'))"
   ]
  },
  {
   "cell_type": "code",
   "execution_count": 38,
   "metadata": {},
   "outputs": [
    {
     "name": "stdout",
     "output_type": "stream",
     "text": [
      " Ob-havo juda ajoyib\n",
      " Kuningiz yaxshi o'tsin \n",
      " O'zizni ehtiyot qiling\n"
     ]
    }
   ],
   "source": [
    "ob_havo_sovuq=False\n",
    "ob_havo_issiq=False\n",
    "if ob_havo_sovuq:\n",
    "    print(\" Ob-havo  juda sovuq\\n Issiqroq kiyining\")\n",
    "elif  ob_havo_issiq:\n",
    "    print(\"Ob-Havo juda issiq\\n Ko'roq suv iching\")\n",
    "else:\n",
    "    print(\" Ob-havo juda ajoyib\\n Kuningiz yaxshi o'tsin \")\n",
    "print(\" O'zizni ehtiyot qiling\")           "
   ]
  },
  {
   "cell_type": "code",
   "execution_count": 3,
   "metadata": {},
   "outputs": [
    {
     "name": "stdout",
     "output_type": "stream",
     "text": [
      "HAPPY BITHDAY!\n",
      "You are 29 years old\n"
     ]
    }
   ],
   "source": [
    "age=input(\" How old are you? \")\n",
    "age=int(age)+1\n",
    "print(\"HAPPY BITHDAY!\")\n",
    "print(f\"You are {age} years old\")"
   ]
  }
 ],
 "metadata": {
  "kernelspec": {
   "display_name": "Python 3",
   "language": "python",
   "name": "python3"
  },
  "language_info": {
   "codemirror_mode": {
    "name": "ipython",
    "version": 3
   },
   "file_extension": ".py",
   "mimetype": "text/x-python",
   "name": "python",
   "nbconvert_exporter": "python",
   "pygments_lexer": "ipython3",
   "version": "3.12.0"
  }
 },
 "nbformat": 4,
 "nbformat_minor": 2
}
